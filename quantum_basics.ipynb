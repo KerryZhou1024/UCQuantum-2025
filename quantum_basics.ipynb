{
 "cells": [
  {
   "cell_type": "markdown",
   "id": "edee1602",
   "metadata": {},
   "source": [
    "# YQuantum Basics Tutorial\n",
    "\n",
    "This notebook demonstrates basic quantum computing concepts using YQuantum framework."
   ]
  },
  {
   "cell_type": "code",
   "execution_count": null,
   "id": "d9f4bbb2",
   "metadata": {},
   "outputs": [],
   "source": [
    "# Import required libraries\n",
    "import numpy as np\n",
    "from qiskit import QuantumCircuit, execute, Aer\n",
    "from qiskit.visualization import plot_histogram"
   ]
  },
  {
   "cell_type": "markdown",
   "id": "517ba3c3",
   "metadata": {},
   "source": [
    "## Creating Your First Quantum Circuit\n",
    "\n",
    "Let's create a simple quantum circuit that demonstrates superposition using a Hadamard gate."
   ]
  },
  {
   "cell_type": "code",
   "execution_count": null,
   "id": "440deb6b",
   "metadata": {},
   "outputs": [],
   "source": [
    "# Create a quantum circuit with 1 qubit and 1 classical bit\n",
    "qc = QuantumCircuit(1, 1)\n",
    "\n",
    "# Add a Hadamard gate to create superposition\n",
    "qc.h(0)\n",
    "\n",
    "# Measure the qubit\n",
    "qc.measure(0, 0)\n",
    "\n",
    "# Draw the circuit\n",
    "qc.draw()"
   ]
  },
  {
   "cell_type": "markdown",
   "id": "fda2e0a7",
   "metadata": {},
   "source": [
    "## Running the Circuit\n",
    "\n",
    "Now let's execute the circuit and visualize the results."
   ]
  },
  {
   "cell_type": "code",
   "execution_count": null,
   "id": "0a9764ce",
   "metadata": {},
   "outputs": [],
   "source": [
    "# Execute the circuit on a simulator\n",
    "backend = Aer.get_backend('qasm_simulator')\n",
    "job = execute(qc, backend, shots=1000)\n",
    "result = job.result()\n",
    "\n",
    "# Plot the results\n",
    "plot_histogram(result.get_counts(qc))"
   ]
  }
 ],
 "metadata": {
  "language_info": {
   "name": "python"
  }
 },
 "nbformat": 4,
 "nbformat_minor": 5
}
