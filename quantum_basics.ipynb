{
 "cells": [
  {
   "cell_type": "markdown",
   "id": "edee1602",
   "metadata": {},
   "source": [
    "# YQuantum Basics Tutorial\n",
    "\n",
    "This notebook demonstrates basic quantum computing concepts using YQuantum framework."
   ]
  },
  {
   "cell_type": "code",
   "id": "d9f4bbb2",
   "metadata": {
    "ExecuteTime": {
     "end_time": "2025-04-12T15:40:23.689120Z",
     "start_time": "2025-04-12T15:40:23.035780Z"
    }
   },
   "source": [
    "# Import required libraries\n",
    "import numpy as np\n",
    "from qiskit import QuantumCircuit\n",
    "import qiskit_aer as Aer\n",
    "from qiskit.visualization import plot_histogram"
   ],
   "outputs": [],
   "execution_count": 1
  },
  {
   "cell_type": "markdown",
   "id": "517ba3c3",
   "metadata": {},
   "source": [
    "## Creating Your First Quantum Circuit\n",
    "\n",
    "Let's create a simple quantum circuit that demonstrates superposition using a Hadamard gate.\n",
    "https://qiskit.github.io/qiskit-aer/tutorials/1_aersimulator.html VERY HELPFUL WEBSITE"
   ]
  },
  {
   "cell_type": "code",
   "id": "440deb6b",
   "metadata": {
    "ExecuteTime": {
     "end_time": "2025-04-12T15:40:24.222736Z",
     "start_time": "2025-04-12T15:40:23.701238Z"
    }
   },
   "source": [
    "# Create a quantum circuit with 1 qubit and 1 classical bit\n",
    "qc = QuantumCircuit(1, 1)\n",
    "\n",
    "# Add a Hadamard gate to create superposition\n",
    "qc.h(0)\n",
    "\n",
    "# Measure the qubit\n",
    "qc.measure(0, 0)\n",
    "\n",
    "# Draw the circuit\n",
    "qc.draw('mpl')"
   ],
   "outputs": [
    {
     "data": {
      "text/plain": [
       "<Figure size 269.064x200.667 with 1 Axes>"
      ],
      "image/png": "[encoded data removed]"
     },
     "execution_count": 2,
     "metadata": {},
     "output_type": "execute_result"
    }
   ],
   "execution_count": 2
  },
  {
   "cell_type": "markdown",
   "id": "fda2e0a7",
   "metadata": {},
   "source": [
    "## Running the Circuit\n",
    "\n",
    "Now let's execute the circuit and visualize the results."
   ]
  },
  {
   "cell_type": "code",
   "id": "0a9764ce",
   "metadata": {
    "ExecuteTime": {
     "end_time": "2025-04-12T15:40:24.455333Z",
     "start_time": "2025-04-12T15:40:24.379364Z"
    }
   },
   "source": [
    "# Execute the circuit on a simulator\n",
    "\n",
    "#REQUIRES QISKIT ACCOUNT TO GET BACKEND, use AerSimulator() instead\n",
    "#backend = Aer.get_backend('qasm_simulator')\n",
    "basic_sim = Aer.AerSimulator()\n",
    "\n",
    "#job = execute(qc, backend, shots=1000)\n",
    "job = basic_sim.run(qc)\n",
    "\n",
    "result = job.result()\n",
    "\n",
    "# Plot the results\n",
    "plot_histogram(result.get_counts(qc))"
   ],
   "outputs": [
    {
     "data": {
      "text/plain": [
       "<Figure size 640x480 with 1 Axes>"
      ],
      "image/png": "[encoded data removed]"
     },
     "execution_count": 3,
     "metadata": {},
     "output_type": "execute_result"
    }
   ],
   "execution_count": 3
  },
  {
   "metadata": {
    "ExecuteTime": {
     "end_time": "2025-04-12T15:40:24.469007Z",
     "start_time": "2025-04-12T15:40:24.465827Z"
    }
   },
   "cell_type": "code",
   "source": "",
   "id": "554bd2b1525dc30c",
   "outputs": [],
   "execution_count": null
  }
 ],
 "metadata": {
  "language_info": {
   "name": "python"
  },
  "kernelspec": {
   "name": "python3",
   "language": "python",
   "display_name": "Python 3 (ipykernel)"
  }
 },
 "nbformat": 4,
 "nbformat_minor": 5
}
