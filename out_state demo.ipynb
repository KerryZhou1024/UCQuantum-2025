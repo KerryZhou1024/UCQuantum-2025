{
 "cells": [
  {
   "metadata": {},
   "cell_type": "markdown",
   "source": [
    "# Benchmarker\n",
    "Run arbitrary circuit under different noise scenarios and error probabilities,\n",
    "<br> retrieve final state either from simulator or with tomography,\n",
    "<br> calculate check quantities with noiseless circuit (trace distance, fidelity),\n",
    "<br> use mpl to visualize error issues."
   ],
   "id": "ff9a24321471db79"
  },
  {
   "metadata": {
    "ExecuteTime": {
     "end_time": "2025-04-13T05:22:49.679735Z",
     "start_time": "2025-04-13T05:22:48.888262Z"
    }
   },
   "cell_type": "code",
   "source": [
    "import math\n",
    "\n",
    "from PIL.EpsImagePlugin import has_ghostscript\n",
    "from bloqade import qasm2\n",
    "from bloqade.pyqrack import PyQrack\n",
    "\n",
    "pi = math.pi"
   ],
   "id": "aa017472692386b9",
   "outputs": [],
   "execution_count": 1
  },
  {
   "metadata": {
    "ExecuteTime": {
     "end_time": "2025-04-13T05:22:50.392961Z",
     "start_time": "2025-04-13T05:22:49.686674Z"
    }
   },
   "cell_type": "code",
   "source": [
    "@qasm2.extended\n",
    "def qft(qreg: qasm2.QReg, n: int, k: int):\n",
    "    if k == n:\n",
    "        return qreg\n",
    "\n",
    "    qasm2.parallel.u(\n",
    "            qreg,          # Pass the list of qubits\n",
    "            theta=math.pi/2, # Specify the theta angle\n",
    "            phi=0,           # Specify the phi angle\n",
    "            lam=math.pi      # Specify the lambda angle\n",
    "        )\n",
    "    for i in range(k + 1, n):\n",
    "        qasm2.cu1(qreg[i], qreg[k], 2 * math.pi / 2**i)\n",
    "    qft(qreg, n, k + 1)  # recursion\n",
    "\n",
    "    return qreg\n",
    "\n"
   ],
   "id": "56121495df8dfcba",
   "outputs": [],
   "execution_count": 2
  },
  {
   "metadata": {
    "ExecuteTime": {
     "end_time": "2025-04-13T05:22:50.530235Z",
     "start_time": "2025-04-13T05:22:50.512087Z"
    }
   },
   "cell_type": "code",
   "source": [
    "\n",
    "@qasm2.extended\n",
    "def main():\n",
    "    return qft(qasm2.qreg(3),3,2)"
   ],
   "id": "d5f060db60ad2ded",
   "outputs": [],
   "execution_count": 3
  },
  {
   "metadata": {
    "ExecuteTime": {
     "end_time": "2025-04-13T05:22:50.679424Z",
     "start_time": "2025-04-13T05:22:50.535953Z"
    }
   },
   "cell_type": "code",
   "source": [
    "device = PyQrack()\n",
    "final = device.run(main)"
   ],
   "id": "2db92e7b905cdee4",
   "outputs": [
    {
     "ename": "ValueError",
     "evalue": "All addresses must be resolved. Or set min_qubits to a positive integer.",
     "output_type": "error",
     "traceback": [
      "\u001B[0;31m---------------------------------------------------------------------------\u001B[0m",
      "\u001B[0;31mValueError\u001B[0m                                Traceback (most recent call last)",
      "Cell \u001B[0;32mIn[4], line 2\u001B[0m\n\u001B[1;32m      1\u001B[0m device \u001B[38;5;241m=\u001B[39m PyQrack()\n\u001B[0;32m----> 2\u001B[0m final \u001B[38;5;241m=\u001B[39m \u001B[43mdevice\u001B[49m\u001B[38;5;241;43m.\u001B[39;49m\u001B[43mrun\u001B[49m\u001B[43m(\u001B[49m\u001B[43mmain\u001B[49m\u001B[43m)\u001B[49m\n",
      "File \u001B[0;32m~/miniconda3/lib/python3.12/site-packages/bloqade/pyqrack/target.py:82\u001B[0m, in \u001B[0;36mPyQrack.run\u001B[0;34m(self, mt, *args, **kwargs)\u001B[0m\n\u001B[1;32m     80\u001B[0m fold \u001B[38;5;241m=\u001B[39m Fold(mt\u001B[38;5;241m.\u001B[39mdialects)\n\u001B[1;32m     81\u001B[0m fold(mt)\n\u001B[0;32m---> 82\u001B[0m \u001B[38;5;28;01mreturn\u001B[39;00m \u001B[38;5;28;43mself\u001B[39;49m\u001B[38;5;241;43m.\u001B[39;49m\u001B[43m_get_interp\u001B[49m\u001B[43m(\u001B[49m\u001B[43mmt\u001B[49m\u001B[43m)\u001B[49m\u001B[38;5;241m.\u001B[39mrun(mt, args, kwargs)\u001B[38;5;241m.\u001B[39mexpect()\n",
      "File \u001B[0;32m~/miniconda3/lib/python3.12/site-packages/bloqade/pyqrack/target.py:50\u001B[0m, in \u001B[0;36mPyQrack._get_interp\u001B[0;34m(self, mt)\u001B[0m\n\u001B[1;32m     46\u001B[0m frame, _ \u001B[38;5;241m=\u001B[39m address_analysis\u001B[38;5;241m.\u001B[39mrun_analysis(mt)\n\u001B[1;32m     47\u001B[0m \u001B[38;5;28;01mif\u001B[39;00m \u001B[38;5;28mself\u001B[39m\u001B[38;5;241m.\u001B[39mmin_qubits \u001B[38;5;241m==\u001B[39m \u001B[38;5;241m0\u001B[39m \u001B[38;5;129;01mand\u001B[39;00m \u001B[38;5;28many\u001B[39m(\n\u001B[1;32m     48\u001B[0m     \u001B[38;5;28misinstance\u001B[39m(a, AnyAddress) \u001B[38;5;28;01mfor\u001B[39;00m a \u001B[38;5;129;01min\u001B[39;00m frame\u001B[38;5;241m.\u001B[39mentries\u001B[38;5;241m.\u001B[39mvalues()\n\u001B[1;32m     49\u001B[0m ):\n\u001B[0;32m---> 50\u001B[0m     \u001B[38;5;28;01mraise\u001B[39;00m \u001B[38;5;167;01mValueError\u001B[39;00m(\n\u001B[1;32m     51\u001B[0m         \u001B[38;5;124m\"\u001B[39m\u001B[38;5;124mAll addresses must be resolved. Or set min_qubits to a positive integer.\u001B[39m\u001B[38;5;124m\"\u001B[39m\n\u001B[1;32m     52\u001B[0m     )\n\u001B[1;32m     54\u001B[0m num_qubits \u001B[38;5;241m=\u001B[39m \u001B[38;5;28mmax\u001B[39m(address_analysis\u001B[38;5;241m.\u001B[39mqubit_count, \u001B[38;5;28mself\u001B[39m\u001B[38;5;241m.\u001B[39mmin_qubits)\n\u001B[1;32m     55\u001B[0m options \u001B[38;5;241m=\u001B[39m \u001B[38;5;28mself\u001B[39m\u001B[38;5;241m.\u001B[39mpyqrack_options\u001B[38;5;241m.\u001B[39mcopy()\n",
      "\u001B[0;31mValueError\u001B[0m: All addresses must be resolved. Or set min_qubits to a positive integer."
     ]
    }
   ],
   "execution_count": 4
  },
  {
   "metadata": {},
   "cell_type": "markdown",
   "source": "# IMPORTANT PROCESS BELOW WITH FINDING QUBIT VALUE",
   "id": "53c7bfe21b83c1ea"
  },
  {
   "metadata": {
    "ExecuteTime": {
     "end_time": "2025-04-13T05:22:50.683588Z",
     "start_time": "2025-04-13T04:56:17.957152Z"
    }
   },
   "cell_type": "code",
   "source": "final[0].ref.sim_reg.out_ket()",
   "id": "9dffaca4f482d1df",
   "outputs": [
    {
     "data": {
      "text/plain": [
       "[(0.6228238940238953-0.33479902148246765j),\n",
       " 0j,\n",
       " 0j,\n",
       " 0j,\n",
       " (0.6228238940238953-0.33479902148246765j),\n",
       " 0j,\n",
       " 0j,\n",
       " 0j]"
      ]
     },
     "execution_count": 5,
     "metadata": {},
     "output_type": "execute_result"
    }
   ],
   "execution_count": 5
  }
 ],
 "metadata": {
  "kernelspec": {
   "display_name": "Python 3",
   "language": "python",
   "name": "python3"
  },
  "language_info": {
   "codemirror_mode": {
    "name": "ipython",
    "version": 2
   },
   "file_extension": ".py",
   "mimetype": "text/x-python",
   "name": "python",
   "nbconvert_exporter": "python",
   "pygments_lexer": "ipython2",
   "version": "2.7.6"
  }
 },
 "nbformat": 4,
 "nbformat_minor": 5
}
