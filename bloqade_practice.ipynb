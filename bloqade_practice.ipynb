{
 "cells": [
  {
   "cell_type": "markdown",
   "id": "b4232bacfab244ce",
   "metadata": {},
   "source": [
    "# Free-for-all practice file, not included in final submission"
   ]
  },
  {
   "cell_type": "code",
   "execution_count": 1,
   "id": "0486689a",
   "metadata": {},
   "outputs": [],
   "source": [
    "import math\n",
    "\n",
    "from bloqade import qasm2\n",
    "from kirin.dialects import ilist"
   ]
  },
  {
   "cell_type": "code",
   "execution_count": 7,
   "id": "5f25ca92",
   "metadata": {},
   "outputs": [],
   "source": [
    "def ghz_linear(n: int):\n",
    "    n_qubits = int(2**n)\n",
    "\n",
    "    @qasm2.extended\n",
    "    def ghz_linear_program():\n",
    "\n",
    "        qreg = qasm2.qreg(n_qubits)\n",
    "        # Apply a Hadamard on the first qubit\n",
    "        qasm2.h(qreg[0])\n",
    "        # Create a cascading sequence of CX gates\n",
    "        # necessary for quantum computers that\n",
    "        # only have nearest-neighbor connectivity between qubits\n",
    "        for i in range(1, n_qubits):\n",
    "            qasm2.cx(qreg[i - 1], qreg[i])\n",
    "\n",
    "    return ghz_linear_program"
   ]
  },
  {
   "cell_type": "code",
   "execution_count": 4,
   "id": "e052d702",
   "metadata": {},
   "outputs": [
    {
     "ename": "TypeError",
     "evalue": "QASM2.__init__() got an unexpected keyword argument 'dialects'",
     "output_type": "error",
     "traceback": [
      "\u001b[31m---------------------------------------------------------------------------\u001b[39m",
      "\u001b[31mTypeError\u001b[39m                                 Traceback (most recent call last)",
      "\u001b[36mCell\u001b[39m\u001b[36m \u001b[39m\u001b[32mIn[4]\u001b[39m\u001b[32m, line 8\u001b[39m\n\u001b[32m      5\u001b[39m \u001b[38;5;28;01mfrom\u001b[39;00m\u001b[38;5;250m \u001b[39m\u001b[34;01mbloqade\u001b[39;00m\u001b[34;01m.\u001b[39;00m\u001b[34;01mqasm2\u001b[39;00m\u001b[34;01m.\u001b[39;00m\u001b[34;01mdialects\u001b[39;00m\u001b[38;5;250m \u001b[39m\u001b[38;5;28;01mimport\u001b[39;00m core\n\u001b[32m      7\u001b[39m \u001b[38;5;66;03m# Register the required dialects\u001b[39;00m\n\u001b[32m----> \u001b[39m\u001b[32m8\u001b[39m target = \u001b[43mQASM2\u001b[49m\u001b[43m(\u001b[49m\u001b[43mdialects\u001b[49m\u001b[43m=\u001b[49m\u001b[43m[\u001b[49m\u001b[43mcore\u001b[49m\u001b[43m]\u001b[49m\u001b[43m)\u001b[49m\n\u001b[32m     10\u001b[39m \u001b[38;5;66;03m# Emit the AST using the updated target\u001b[39;00m\n\u001b[32m     11\u001b[39m ast = target.emit(ghz_linear(\u001b[32m2\u001b[39m))\n",
      "\u001b[31mTypeError\u001b[39m: QASM2.__init__() got an unexpected keyword argument 'dialects'"
     ]
    }
   ],
   "source": [
    "from bloqade.qasm2.emit import QASM2 # the QASM2 target\n",
    "from bloqade.qasm2.parse import pprint # the QASM2 pretty printer\n",
    "\n",
    "# Ensure the ghz_linear function emits operations compatible with QASM2\n",
    "from bloqade.qasm2.dialects import core\n",
    "\n",
    "# Register the required dialects\n",
    "target = QASM2(dialects=[core])\n",
    "\n",
    "# Emit the AST using the updated target\n",
    "ast = target.emit(ghz_linear(2))\n",
    "pprint(ast)"
   ]
  },
  {
   "cell_type": "markdown",
   "id": "3de5ef68",
   "metadata": {},
   "source": [
    "The webpage for source code: https://github.com/QuEraComputing/bloqade-pyqrack/blob/main/src/bloqade/pyqrack/qasm2/parallel.py\n",
    "\n"
   ]
  },
  {
   "cell_type": "code",
   "execution_count": 5,
   "id": "3fb23e27",
   "metadata": {},
   "outputs": [],
   "source": [
    "from typing import Any\n",
    "\n",
    "from bloqade.qasm2.dialects import parallel\n"
   ]
  },
  {
   "cell_type": "code",
   "execution_count": 9,
   "id": "d5f8b1aa",
   "metadata": {},
   "outputs": [
    {
     "ename": "ValueError",
     "evalue": "dialect py.constant is not supported by DialectGroup([lowering.call, qasm2.expr, scf, func, qasm2.uop, qasm2.core, qasm2.indexing, lowering.func])",
     "output_type": "error",
     "traceback": [
      "\u001b[31m---------------------------------------------------------------------------\u001b[39m",
      "\u001b[31mValueError\u001b[39m                                Traceback (most recent call last)",
      "\u001b[36mCell\u001b[39m\u001b[36m \u001b[39m\u001b[32mIn[9]\u001b[39m\u001b[32m, line 23\u001b[39m\n\u001b[32m     19\u001b[39m     \u001b[38;5;28;01mreturn\u001b[39;00m global_H\n\u001b[32m     22\u001b[39m target = QASM2()\n\u001b[32m---> \u001b[39m\u001b[32m23\u001b[39m ast = \u001b[43mtarget\u001b[49m\u001b[43m.\u001b[49m\u001b[43memit\u001b[49m\u001b[43m(\u001b[49m\u001b[43mghz_linear\u001b[49m\u001b[43m(\u001b[49m\u001b[32;43m2\u001b[39;49m\u001b[43m)\u001b[49m\u001b[43m)\u001b[49m\n\u001b[32m     24\u001b[39m pprint(ast)\n",
      "\u001b[36mFile \u001b[39m\u001b[32m~/Projects/Learning/Python/.conda/lib/python3.11/site-packages/bloqade/qasm2/emit/target.py:104\u001b[39m, in \u001b[36mQASM2.emit\u001b[39m\u001b[34m(self, entry)\u001b[39m\n\u001b[32m    102\u001b[39m Py2QASM(entry.dialects)(entry)\n\u001b[32m    103\u001b[39m target_main = EmitQASM2Main(\u001b[38;5;28mself\u001b[39m.main_target)\n\u001b[32m--> \u001b[39m\u001b[32m104\u001b[39m \u001b[43mtarget_main\u001b[49m\u001b[43m.\u001b[49m\u001b[43mrun\u001b[49m\u001b[43m(\u001b[49m\n\u001b[32m    105\u001b[39m \u001b[43m    \u001b[49m\u001b[43mentry\u001b[49m\u001b[43m,\u001b[49m\u001b[43m \u001b[49m\u001b[38;5;28;43mtuple\u001b[39;49m\u001b[43m(\u001b[49m\u001b[43mast\u001b[49m\u001b[43m.\u001b[49m\u001b[43mName\u001b[49m\u001b[43m(\u001b[49m\u001b[43mname\u001b[49m\u001b[43m)\u001b[49m\u001b[43m \u001b[49m\u001b[38;5;28;43;01mfor\u001b[39;49;00m\u001b[43m \u001b[49m\u001b[43mname\u001b[49m\u001b[43m \u001b[49m\u001b[38;5;129;43;01min\u001b[39;49;00m\u001b[43m \u001b[49m\u001b[43mentry\u001b[49m\u001b[43m.\u001b[49m\u001b[43marg_names\u001b[49m\u001b[43m[\u001b[49m\u001b[32;43m1\u001b[39;49m\u001b[43m:\u001b[49m\u001b[43m]\u001b[49m\u001b[43m)\u001b[49m\n\u001b[32m    106\u001b[39m \u001b[43m\u001b[49m\u001b[43m)\u001b[49m.expect()\n\u001b[32m    108\u001b[39m main_program = target_main.output\n\u001b[32m    109\u001b[39m \u001b[38;5;28;01massert\u001b[39;00m main_program \u001b[38;5;129;01mis\u001b[39;00m \u001b[38;5;129;01mnot\u001b[39;00m \u001b[38;5;28;01mNone\u001b[39;00m, \u001b[33mf\u001b[39m\u001b[33m\"\u001b[39m\u001b[33mfailed to emit \u001b[39m\u001b[38;5;132;01m{\u001b[39;00mentry.sym_name\u001b[38;5;132;01m}\u001b[39;00m\u001b[33m\"\u001b[39m\n",
      "\u001b[36mFile \u001b[39m\u001b[32m~/Projects/Learning/Python/.conda/lib/python3.11/site-packages/kirin/interp/base.py:146\u001b[39m, in \u001b[36mBaseInterpreter.run\u001b[39m\u001b[34m(self, mt, args, kwargs)\u001b[39m\n\u001b[32m    144\u001b[39m args = \u001b[38;5;28mself\u001b[39m.get_args(mt.arg_names[\u001b[38;5;28mlen\u001b[39m(args) + \u001b[32m1\u001b[39m :], args, kwargs)\n\u001b[32m    145\u001b[39m \u001b[38;5;28;01mtry\u001b[39;00m:\n\u001b[32m--> \u001b[39m\u001b[32m146\u001b[39m     _, results = \u001b[38;5;28;43mself\u001b[39;49m\u001b[43m.\u001b[49m\u001b[43mrun_method\u001b[49m\u001b[43m(\u001b[49m\u001b[43mmt\u001b[49m\u001b[43m,\u001b[49m\u001b[43m \u001b[49m\u001b[43margs\u001b[49m\u001b[43m)\u001b[49m\n\u001b[32m    147\u001b[39m \u001b[38;5;28;01mexcept\u001b[39;00m InterpreterError \u001b[38;5;28;01mas\u001b[39;00m e:\n\u001b[32m    148\u001b[39m     \u001b[38;5;66;03m# NOTE: initialize will create new State\u001b[39;00m\n\u001b[32m    149\u001b[39m     \u001b[38;5;66;03m# so we don't need to copy the frames.\u001b[39;00m\n\u001b[32m    150\u001b[39m     \u001b[38;5;28;01mreturn\u001b[39;00m Err(e, \u001b[38;5;28mself\u001b[39m.state.frames)\n",
      "\u001b[36mFile \u001b[39m\u001b[32m~/Projects/Learning/Python/.conda/lib/python3.11/site-packages/bloqade/qasm2/emit/base.py:45\u001b[39m, in \u001b[36mEmitQASM2Base.run_method\u001b[39m\u001b[34m(self, method, args)\u001b[39m\n\u001b[32m     42\u001b[39m \u001b[38;5;28;01mdef\u001b[39;00m\u001b[38;5;250m \u001b[39m\u001b[34mrun_method\u001b[39m(\n\u001b[32m     43\u001b[39m     \u001b[38;5;28mself\u001b[39m, method: ir.Method, args: \u001b[38;5;28mtuple\u001b[39m[ast.Node | \u001b[38;5;28;01mNone\u001b[39;00m, ...]\n\u001b[32m     44\u001b[39m ) -> \u001b[38;5;28mtuple\u001b[39m[EmitQASM2Frame[StmtType], ast.Node | \u001b[38;5;28;01mNone\u001b[39;00m]:\n\u001b[32m---> \u001b[39m\u001b[32m45\u001b[39m     \u001b[38;5;28;01mreturn\u001b[39;00m \u001b[38;5;28;43mself\u001b[39;49m\u001b[43m.\u001b[49m\u001b[43mrun_callable\u001b[49m\u001b[43m(\u001b[49m\u001b[43mmethod\u001b[49m\u001b[43m.\u001b[49m\u001b[43mcode\u001b[49m\u001b[43m,\u001b[49m\u001b[43m \u001b[49m\u001b[43m(\u001b[49m\u001b[43mast\u001b[49m\u001b[43m.\u001b[49m\u001b[43mName\u001b[49m\u001b[43m(\u001b[49m\u001b[43mmethod\u001b[49m\u001b[43m.\u001b[49m\u001b[43msym_name\u001b[49m\u001b[43m)\u001b[49m\u001b[43m,\u001b[49m\u001b[43m)\u001b[49m\u001b[43m \u001b[49m\u001b[43m+\u001b[49m\u001b[43m \u001b[49m\u001b[43margs\u001b[49m\u001b[43m)\u001b[49m\n",
      "\u001b[36mFile \u001b[39m\u001b[32m~/Projects/Learning/Python/.conda/lib/python3.11/site-packages/kirin/interp/base.py:220\u001b[39m, in \u001b[36mBaseInterpreter.run_callable\u001b[39m\u001b[34m(self, code, args)\u001b[39m\n\u001b[32m    218\u001b[39m     \u001b[38;5;28;01mreturn\u001b[39;00m \u001b[38;5;28mself\u001b[39m.state.pop_frame(), \u001b[38;5;28mself\u001b[39m.void\n\u001b[32m    219\u001b[39m frame.set_values(body.blocks[\u001b[32m0\u001b[39m].args, args)\n\u001b[32m--> \u001b[39m\u001b[32m220\u001b[39m results = \u001b[38;5;28;43mself\u001b[39;49m\u001b[43m.\u001b[49m\u001b[43mrun_callable_region\u001b[49m\u001b[43m(\u001b[49m\u001b[43mframe\u001b[49m\u001b[43m,\u001b[49m\u001b[43m \u001b[49m\u001b[43mcode\u001b[49m\u001b[43m,\u001b[49m\u001b[43m \u001b[49m\u001b[43mbody\u001b[49m\u001b[43m)\u001b[49m\n\u001b[32m    221\u001b[39m \u001b[38;5;28;01mreturn\u001b[39;00m \u001b[38;5;28mself\u001b[39m.state.pop_frame(), results\n",
      "\u001b[36mFile \u001b[39m\u001b[32m~/Projects/Learning/Python/.conda/lib/python3.11/site-packages/kirin/emit/abc.py:26\u001b[39m, in \u001b[36mEmitABC.run_callable_region\u001b[39m\u001b[34m(self, frame, code, region)\u001b[39m\n\u001b[32m     23\u001b[39m \u001b[38;5;28;01mdef\u001b[39;00m\u001b[38;5;250m \u001b[39m\u001b[34mrun_callable_region\u001b[39m(\n\u001b[32m     24\u001b[39m     \u001b[38;5;28mself\u001b[39m, frame: FrameType, code: ir.Statement, region: ir.Region\n\u001b[32m     25\u001b[39m ) -> ValueType:\n\u001b[32m---> \u001b[39m\u001b[32m26\u001b[39m     results = \u001b[38;5;28;43mself\u001b[39;49m\u001b[43m.\u001b[49m\u001b[43meval_stmt\u001b[49m\u001b[43m(\u001b[49m\u001b[43mframe\u001b[49m\u001b[43m,\u001b[49m\u001b[43m \u001b[49m\u001b[43mcode\u001b[49m\u001b[43m)\u001b[49m\n\u001b[32m     27\u001b[39m     \u001b[38;5;28;01mif\u001b[39;00m \u001b[38;5;28misinstance\u001b[39m(results, \u001b[38;5;28mtuple\u001b[39m):\n\u001b[32m     28\u001b[39m         \u001b[38;5;28;01mif\u001b[39;00m \u001b[38;5;28mlen\u001b[39m(results) == \u001b[32m0\u001b[39m:\n",
      "\u001b[36mFile \u001b[39m\u001b[32m~/Projects/Learning/Python/.conda/lib/python3.11/site-packages/kirin/interp/base.py:335\u001b[39m, in \u001b[36mBaseInterpreter.eval_stmt\u001b[39m\u001b[34m(self, frame, stmt)\u001b[39m\n\u001b[32m    333\u001b[39m method = \u001b[38;5;28mself\u001b[39m.lookup_registry(frame, stmt)\n\u001b[32m    334\u001b[39m \u001b[38;5;28;01mif\u001b[39;00m method \u001b[38;5;129;01mis\u001b[39;00m \u001b[38;5;129;01mnot\u001b[39;00m \u001b[38;5;28;01mNone\u001b[39;00m:\n\u001b[32m--> \u001b[39m\u001b[32m335\u001b[39m     results = \u001b[43mmethod\u001b[49m\u001b[43m(\u001b[49m\u001b[38;5;28;43mself\u001b[39;49m\u001b[43m,\u001b[49m\u001b[43m \u001b[49m\u001b[43mframe\u001b[49m\u001b[43m,\u001b[49m\u001b[43m \u001b[49m\u001b[43mstmt\u001b[49m\u001b[43m)\u001b[49m\n\u001b[32m    336\u001b[39m     \u001b[38;5;28;01mif\u001b[39;00m \u001b[38;5;28mself\u001b[39m.debug \u001b[38;5;129;01mand\u001b[39;00m \u001b[38;5;129;01mnot\u001b[39;00m \u001b[38;5;28misinstance\u001b[39m(results, (\u001b[38;5;28mtuple\u001b[39m, SpecialValue)):\n\u001b[32m    337\u001b[39m         \u001b[38;5;28;01mraise\u001b[39;00m InterpreterError(\n\u001b[32m    338\u001b[39m             \u001b[33mf\u001b[39m\u001b[33m\"\u001b[39m\u001b[33mmethod must return tuple or SpecialResult, got \u001b[39m\u001b[38;5;132;01m{\u001b[39;00mresults\u001b[38;5;132;01m}\u001b[39;00m\u001b[33m\"\u001b[39m\n\u001b[32m    339\u001b[39m         )\n",
      "\u001b[36mFile \u001b[39m\u001b[32m~/Projects/Learning/Python/.conda/lib/python3.11/site-packages/kirin/registry.py:25\u001b[39m, in \u001b[36mStatementImpl.__call__\u001b[39m\u001b[34m(self, interp, frame, stmt)\u001b[39m\n\u001b[32m     24\u001b[39m \u001b[38;5;28;01mdef\u001b[39;00m\u001b[38;5;250m \u001b[39m\u001b[34m__call__\u001b[39m(\u001b[38;5;28mself\u001b[39m, interp, frame, stmt: \u001b[33m\"\u001b[39m\u001b[33mStatement\u001b[39m\u001b[33m\"\u001b[39m):\n\u001b[32m---> \u001b[39m\u001b[32m25\u001b[39m     \u001b[38;5;28;01mreturn\u001b[39;00m \u001b[38;5;28;43mself\u001b[39;49m\u001b[43m.\u001b[49m\u001b[43mimpl\u001b[49m\u001b[43m(\u001b[49m\u001b[38;5;28;43mself\u001b[39;49m\u001b[43m.\u001b[49m\u001b[43mparent\u001b[49m\u001b[43m,\u001b[49m\u001b[43m \u001b[49m\u001b[43minterp\u001b[49m\u001b[43m,\u001b[49m\u001b[43m \u001b[49m\u001b[43mframe\u001b[49m\u001b[43m,\u001b[49m\u001b[43m \u001b[49m\u001b[43mstmt\u001b[49m\u001b[43m)\u001b[49m\n",
      "\u001b[36mFile \u001b[39m\u001b[32m~/Projects/Learning/Python/.conda/lib/python3.11/site-packages/bloqade/qasm2/emit/main.py:27\u001b[39m, in \u001b[36mFunc.emit_func\u001b[39m\u001b[34m(self, emit, frame, stmt)\u001b[39m\n\u001b[32m     21\u001b[39m \u001b[38;5;129m@interp\u001b[39m.impl(func.Function)\n\u001b[32m     22\u001b[39m \u001b[38;5;28;01mdef\u001b[39;00m\u001b[38;5;250m \u001b[39m\u001b[34memit_func\u001b[39m(\n\u001b[32m     23\u001b[39m     \u001b[38;5;28mself\u001b[39m, emit: EmitQASM2Main, frame: EmitQASM2Frame, stmt: func.Function\n\u001b[32m     24\u001b[39m ):\n\u001b[32m     25\u001b[39m     \u001b[38;5;28;01mfrom\u001b[39;00m\u001b[38;5;250m \u001b[39m\u001b[34;01mbloqade\u001b[39;00m\u001b[34;01m.\u001b[39;00m\u001b[34;01mqasm2\u001b[39;00m\u001b[34;01m.\u001b[39;00m\u001b[34;01mdialects\u001b[39;00m\u001b[38;5;250m \u001b[39m\u001b[38;5;28;01mimport\u001b[39;00m glob, noise, parallel\n\u001b[32m---> \u001b[39m\u001b[32m27\u001b[39m     \u001b[43memit\u001b[49m\u001b[43m.\u001b[49m\u001b[43mrun_ssacfg_region\u001b[49m\u001b[43m(\u001b[49m\u001b[43mframe\u001b[49m\u001b[43m,\u001b[49m\u001b[43m \u001b[49m\u001b[43mstmt\u001b[49m\u001b[43m.\u001b[49m\u001b[43mbody\u001b[49m\u001b[43m)\u001b[49m\n\u001b[32m     28\u001b[39m     \u001b[38;5;28;01mif\u001b[39;00m emit.dialects.data.intersection(\n\u001b[32m     29\u001b[39m         (parallel.dialect, glob.dialect, noise.dialect)\n\u001b[32m     30\u001b[39m     ):\n\u001b[32m     31\u001b[39m         header = ast.Kirin([dialect.name \u001b[38;5;28;01mfor\u001b[39;00m dialect \u001b[38;5;129;01min\u001b[39;00m emit.dialects])\n",
      "\u001b[36mFile \u001b[39m\u001b[32m~/Projects/Learning/Python/.conda/lib/python3.11/site-packages/kirin/emit/abc.py:41\u001b[39m, in \u001b[36mEmitABC.run_ssacfg_region\u001b[39m\u001b[34m(self, frame, region)\u001b[39m\n\u001b[32m     37\u001b[39m frame.worklist.append(\n\u001b[32m     38\u001b[39m     interp.Successor(region.blocks[\u001b[32m0\u001b[39m], frame.get_values(region.blocks[\u001b[32m0\u001b[39m].args))\n\u001b[32m     39\u001b[39m )\n\u001b[32m     40\u001b[39m \u001b[38;5;28;01mwhile\u001b[39;00m (succ := frame.worklist.pop()) \u001b[38;5;129;01mis\u001b[39;00m \u001b[38;5;129;01mnot\u001b[39;00m \u001b[38;5;28;01mNone\u001b[39;00m:\n\u001b[32m---> \u001b[39m\u001b[32m41\u001b[39m     block_header = \u001b[38;5;28;43mself\u001b[39;49m\u001b[43m.\u001b[49m\u001b[43memit_block\u001b[49m\u001b[43m(\u001b[49m\u001b[43mframe\u001b[49m\u001b[43m,\u001b[49m\u001b[43m \u001b[49m\u001b[43msucc\u001b[49m\u001b[43m.\u001b[49m\u001b[43mblock\u001b[49m\u001b[43m)\u001b[49m\n\u001b[32m     42\u001b[39m     frame.block_ref[succ.block] = block_header\n\u001b[32m     43\u001b[39m \u001b[38;5;28;01mreturn\u001b[39;00m ()\n",
      "\u001b[36mFile \u001b[39m\u001b[32m~/Projects/Learning/Python/.conda/lib/python3.11/site-packages/bloqade/qasm2/emit/base.py:49\u001b[39m, in \u001b[36mEmitQASM2Base.emit_block\u001b[39m\u001b[34m(self, frame, block)\u001b[39m\n\u001b[32m     47\u001b[39m \u001b[38;5;28;01mdef\u001b[39;00m\u001b[38;5;250m \u001b[39m\u001b[34memit_block\u001b[39m(\u001b[38;5;28mself\u001b[39m, frame: EmitQASM2Frame, block: ir.Block) -> ast.Node | \u001b[38;5;28;01mNone\u001b[39;00m:\n\u001b[32m     48\u001b[39m     \u001b[38;5;28;01mfor\u001b[39;00m stmt \u001b[38;5;129;01min\u001b[39;00m block.stmts:\n\u001b[32m---> \u001b[39m\u001b[32m49\u001b[39m         result = \u001b[38;5;28;43mself\u001b[39;49m\u001b[43m.\u001b[49m\u001b[43meval_stmt\u001b[49m\u001b[43m(\u001b[49m\u001b[43mframe\u001b[49m\u001b[43m,\u001b[49m\u001b[43m \u001b[49m\u001b[43mstmt\u001b[49m\u001b[43m)\u001b[49m\n\u001b[32m     50\u001b[39m         \u001b[38;5;28;01mif\u001b[39;00m \u001b[38;5;28misinstance\u001b[39m(result, \u001b[38;5;28mtuple\u001b[39m):\n\u001b[32m     51\u001b[39m             frame.set_values(stmt.results, result)\n",
      "\u001b[36mFile \u001b[39m\u001b[32m~/Projects/Learning/Python/.conda/lib/python3.11/site-packages/kirin/interp/base.py:345\u001b[39m, in \u001b[36mBaseInterpreter.eval_stmt\u001b[39m\u001b[34m(self, frame, stmt)\u001b[39m\n\u001b[32m    341\u001b[39m \u001b[38;5;28;01melif\u001b[39;00m stmt.dialect \u001b[38;5;129;01mnot\u001b[39;00m \u001b[38;5;129;01min\u001b[39;00m \u001b[38;5;28mself\u001b[39m.dialects:\n\u001b[32m    342\u001b[39m     \u001b[38;5;66;03m# NOTE: we should terminate the interpreter because this is a\u001b[39;00m\n\u001b[32m    343\u001b[39m     \u001b[38;5;66;03m# deveoper error, not a user error.\u001b[39;00m\n\u001b[32m    344\u001b[39m     name = stmt.dialect.name \u001b[38;5;28;01mif\u001b[39;00m stmt.dialect \u001b[38;5;28;01melse\u001b[39;00m \u001b[33m\"\u001b[39m\u001b[33mNone\u001b[39m\u001b[33m\"\u001b[39m\n\u001b[32m--> \u001b[39m\u001b[32m345\u001b[39m     \u001b[38;5;28;01mraise\u001b[39;00m \u001b[38;5;167;01mValueError\u001b[39;00m(\u001b[33mf\u001b[39m\u001b[33m\"\u001b[39m\u001b[33mdialect \u001b[39m\u001b[38;5;132;01m{\u001b[39;00mname\u001b[38;5;132;01m}\u001b[39;00m\u001b[33m is not supported by \u001b[39m\u001b[38;5;132;01m{\u001b[39;00m\u001b[38;5;28mself\u001b[39m.dialects\u001b[38;5;132;01m}\u001b[39;00m\u001b[33m\"\u001b[39m)\n\u001b[32m    347\u001b[39m \u001b[38;5;28;01mreturn\u001b[39;00m \u001b[38;5;28mself\u001b[39m.eval_stmt_fallback(frame, stmt)\n",
      "\u001b[31mValueError\u001b[39m: dialect py.constant is not supported by DialectGroup([lowering.call, qasm2.expr, scf, func, qasm2.uop, qasm2.core, qasm2.indexing, lowering.func])"
     ]
    }
   ],
   "source": [
    "import kirin.interp\n",
    "\n",
    "\n",
    "\n",
    "@qasm2.extended\n",
    "def global_H():\n",
    "    qreg = qasm2.qreg(3)\n",
    "    \n",
    "    qasm2.parallel.u(\n",
    "        qreg,          # Pass the list of qubits\n",
    "        theta=math.pi/2, # Specify the theta angle\n",
    "        phi=0,           # Specify the phi angle\n",
    "        lam=math.pi      # Specify the lambda angle\n",
    "    )\n",
    "    qasm2.zz(qreg[0])\n",
    "    qasm2.h(qreg[1])\n",
    "    qasm2.zz(qreg[1])\n",
    "    qasm2.h(qreg[2])\n",
    "    return global_H\n",
    "\n",
    "\n",
    "target = QASM2()\n",
    "ast = target.emit(ghz_linear(2))\n",
    "pprint(ast)\n"
   ]
  }
 ],
 "metadata": {
  "kernelspec": {
   "display_name": "Python 3",
   "language": "python",
   "name": "python3"
  },
  "language_info": {
   "codemirror_mode": {
    "name": "ipython",
    "version": 3
   },
   "file_extension": ".py",
   "mimetype": "text/x-python",
   "name": "python",
   "nbconvert_exporter": "python",
   "pygments_lexer": "ipython3",
   "version": "3.11.11"
  }
 },
 "nbformat": 4,
 "nbformat_minor": 5
}
