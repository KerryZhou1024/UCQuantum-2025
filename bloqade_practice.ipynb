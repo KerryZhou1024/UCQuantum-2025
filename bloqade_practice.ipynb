{
 "cells": [
  {
   "cell_type": "markdown",
   "id": "b4232bacfab244ce",
   "metadata": {},
   "source": [
    "# Free-for-all practice file, not included in final submission"
   ]
  },
  {
   "cell_type": "code",
   "execution_count": 1,
   "id": "0486689a",
   "metadata": {},
   "outputs": [],
   "source": [
    "import math\n",
    "\n",
    "from bloqade import qasm2\n",
    "from kirin.dialects import ilist"
   ]
  },
  {
   "cell_type": "code",
   "execution_count": 2,
   "id": "5f25ca92",
   "metadata": {},
   "outputs": [],
   "source": [
    "def ghz_linear(n: int):\n",
    "    n_qubits = int(2**n)\n",
    "\n",
    "    @qasm2.extended\n",
    "    def ghz_linear_program():\n",
    "\n",
    "        qreg = qasm2.qreg(n_qubits)\n",
    "        # Apply a Hadamard on the first qubit\n",
    "        qasm2.h(qreg[0])\n",
    "        # Create a cascading sequence of CX gates\n",
    "        # necessary for quantum computers that\n",
    "        # only have nearest-neighbor connectivity between qubits\n",
    "        for i in range(1, n_qubits):\n",
    "            qasm2.cx(qreg[i - 1], qreg[i])\n",
    "\n",
    "    return ghz_linear_program"
   ]
  },
  {
   "cell_type": "code",
   "execution_count": 4,
   "id": "e052d702",
   "metadata": {},
   "outputs": [
    {
     "ename": "TypeError",
     "evalue": "QASM2.__init__() got an unexpected keyword argument 'dialects'",
     "output_type": "error",
     "traceback": [
      "\u001b[31m---------------------------------------------------------------------------\u001b[39m",
      "\u001b[31mTypeError\u001b[39m                                 Traceback (most recent call last)",
      "\u001b[36mCell\u001b[39m\u001b[36m \u001b[39m\u001b[32mIn[4]\u001b[39m\u001b[32m, line 8\u001b[39m\n\u001b[32m      5\u001b[39m \u001b[38;5;28;01mfrom\u001b[39;00m\u001b[38;5;250m \u001b[39m\u001b[34;01mbloqade\u001b[39;00m\u001b[34;01m.\u001b[39;00m\u001b[34;01mqasm2\u001b[39;00m\u001b[34;01m.\u001b[39;00m\u001b[34;01mdialects\u001b[39;00m\u001b[38;5;250m \u001b[39m\u001b[38;5;28;01mimport\u001b[39;00m core\n\u001b[32m      7\u001b[39m \u001b[38;5;66;03m# Register the required dialects\u001b[39;00m\n\u001b[32m----> \u001b[39m\u001b[32m8\u001b[39m target = \u001b[43mQASM2\u001b[49m\u001b[43m(\u001b[49m\u001b[43mdialects\u001b[49m\u001b[43m=\u001b[49m\u001b[43m[\u001b[49m\u001b[43mcore\u001b[49m\u001b[43m]\u001b[49m\u001b[43m)\u001b[49m\n\u001b[32m     10\u001b[39m \u001b[38;5;66;03m# Emit the AST using the updated target\u001b[39;00m\n\u001b[32m     11\u001b[39m ast = target.emit(ghz_linear(\u001b[32m2\u001b[39m))\n",
      "\u001b[31mTypeError\u001b[39m: QASM2.__init__() got an unexpected keyword argument 'dialects'"
     ]
    }
   ],
   "source": [
    "from bloqade.qasm2.emit import QASM2 # the QASM2 target\n",
    "from bloqade.qasm2.parse import pprint # the QASM2 pretty printer\n",
    "\n",
    "# Ensure the ghz_linear function emits operations compatible with QASM2\n",
    "from bloqade.qasm2.dialects import core\n",
    "\n",
    "# Register the required dialects\n",
    "target = QASM2(dialects=[core])\n",
    "\n",
    "# Emit the AST using the updated target\n",
    "ast = target.emit(ghz_linear(2))\n",
    "pprint(ast)"
   ]
  },
  {
   "cell_type": "markdown",
   "id": "3de5ef68",
   "metadata": {},
   "source": [
    "The webpage for source code: https://github.com/QuEraComputing/bloqade-pyqrack/blob/main/src/bloqade/pyqrack/qasm2/parallel.py\n",
    "\n"
   ]
  },
  {
   "cell_type": "code",
   "execution_count": 5,
   "id": "3fb23e27",
   "metadata": {},
   "outputs": [],
   "source": [
    "from typing import Any\n",
    "\n",
    "from bloqade.qasm2.dialects import parallel\n"
   ]
  },
  {
   "cell_type": "code",
   "execution_count": null,
   "id": "d5f8b1aa",
   "metadata": {},
   "outputs": [
    {
     "ename": "TypeError",
     "evalue": "UGate.__init__() missing 4 required positional arguments: 'qargs', 'theta', 'phi', and 'lam'",
     "output_type": "error",
     "traceback": [
      "\u001b[31m---------------------------------------------------------------------------\u001b[39m",
      "\u001b[31mTypeError\u001b[39m                                 Traceback (most recent call last)",
      "\u001b[36mCell\u001b[39m\u001b[36m \u001b[39m\u001b[32mIn[6]\u001b[39m\u001b[32m, line 2\u001b[39m\n\u001b[32m      1\u001b[39m \u001b[38;5;28;01mimport\u001b[39;00m\u001b[38;5;250m \u001b[39m\u001b[34;01mkirin\u001b[39;00m\u001b[34;01m.\u001b[39;00m\u001b[34;01minterp\u001b[39;00m\n\u001b[32m----> \u001b[39m\u001b[32m2\u001b[39m ugatestmt = \u001b[43mparallel\u001b[49m\u001b[43m.\u001b[49m\u001b[43mUGate\u001b[49m\u001b[43m(\u001b[49m\u001b[43m)\u001b[49m(math.pi/\u001b[32m2\u001b[39m, \u001b[32m0\u001b[39m, math.pi)\n\u001b[32m      5\u001b[39m \u001b[38;5;129m@qasm2\u001b[39m.extended\n\u001b[32m      6\u001b[39m \u001b[38;5;28;01mdef\u001b[39;00m\u001b[38;5;250m \u001b[39m\u001b[34mglobal_H\u001b[39m():\n\u001b[32m      7\u001b[39m     qreg = qasm2.qreg(\u001b[32m3\u001b[39m)\n",
      "\u001b[31mTypeError\u001b[39m: UGate.__init__() missing 4 required positional arguments: 'qargs', 'theta', 'phi', and 'lam'"
     ]
    }
   ],
   "source": [
    "import kirin.interp\n",
    "\n",
    "\n",
    "\n",
    "ugatestmt = parallel.UGate()(math.pi/2, 0, math.pi)\n",
    "\n",
    "\n",
    "@qasm2.extended\n",
    "def global_H():\n",
    "    qreg = qasm2.qreg(3)\n",
    "    parallel.ugate(ugatestmt)\n",
    "    qasm2.zz(qreg[0])\n",
    "    qasm2.h(qreg[1])\n",
    "    qasm2.zz(qreg[1])\n",
    "    qasm2.h(qreg[2])\n",
    "    return global_H\n",
    "\n",
    "\n",
    "target = QASM2()\n",
    "ast = target.emit(ghz_linear(2))\n",
    "pprint(ast)\n"
   ]
  }
 ],
 "metadata": {
  "kernelspec": {
   "display_name": "Python 3",
   "language": "python",
   "name": "python3"
  },
  "language_info": {
   "codemirror_mode": {
    "name": "ipython",
    "version": 3
   },
   "file_extension": ".py",
   "mimetype": "text/x-python",
   "name": "python",
   "nbconvert_exporter": "python",
   "pygments_lexer": "ipython3",
   "version": "3.11.11"
  }
 },
 "nbformat": 4,
 "nbformat_minor": 5
}
