{
 "cells": [
  {
   "cell_type": "markdown",
   "id": "b4232bacfab244ce",
   "metadata": {},
   "source": [
    "# Free-for-all practice file, not included in final submission"
   ]
  },
  {
   "cell_type": "code",
   "execution_count": 20,
   "id": "0486689a",
   "metadata": {},
   "outputs": [],
   "source": [
    "import math\n",
    "\n",
    "from bloqade import qasm2\n",
    "from kirin.dialects import ilist"
   ]
  },
  {
   "cell_type": "code",
   "execution_count": null,
   "id": "5f25ca92",
   "metadata": {},
   "outputs": [],
   "source": [
    "def ghz_linear(n: int):\n",
    "    n_qubits = int(2**n)\n",
    "\n",
    "    @qasm2.extended\n",
    "    def ghz_linear_program():\n",
    "\n",
    "        qreg = qasm2.qreg(n_qubits)\n",
    "        # Apply a Hadamard on the first qubit\n",
    "        qasm2.h(qreg[0])\n",
    "        # Create a cascading sequence of CX gates\n",
    "        # necessary for quantum computers that\n",
    "        # only have nearest-neighbor connectivity between qubits\n",
    "        for i in range(1, n_qubits):\n",
    "            qasm2.cx(qreg[i - 1], qreg[i])\n",
    "\n",
    "    return ghz_linear_program"
   ]
  },
  {
   "cell_type": "code",
   "execution_count": 22,
   "id": "e052d702",
   "metadata": {},
   "outputs": [
    {
     "name": "stdout",
     "output_type": "stream",
     "text": [
      "\u001b[90mOPENQASM 2.0\u001b[0m;\n",
      "\u001b[31minclude\u001b[0m \u001b[32m\"qelib1.inc\"\u001b[0m;\n",
      "\u001b[31mqreg\u001b[0m qreg[4];\n",
      "\u001b[36mh\u001b[0m \u001b[36mqreg\u001b[0m[\u001b[39m0\u001b[0m];\n",
      "\u001b[31mCX\u001b[0m \u001b[36mqreg\u001b[0m[\u001b[39m0\u001b[0m], \u001b[36mqreg\u001b[0m[\u001b[39m1\u001b[0m];\n",
      "\u001b[31mCX\u001b[0m \u001b[36mqreg\u001b[0m[\u001b[39m1\u001b[0m], \u001b[36mqreg\u001b[0m[\u001b[39m2\u001b[0m];\n",
      "\u001b[31mCX\u001b[0m \u001b[36mqreg\u001b[0m[\u001b[39m2\u001b[0m], \u001b[36mqreg\u001b[0m[\u001b[39m3\u001b[0m];\n"
     ]
    }
   ],
   "source": [
    "from bloqade.qasm2.emit import QASM2 # the QASM2 target\n",
    "from bloqade.qasm2.parse import pprint # the QASM2 pretty printer\n",
    "\n",
    "target = QASM2()\n",
    "ast = target.emit(ghz_linear(2))\n",
    "pprint(ast)"
   ]
  },
  {
   "cell_type": "code",
   "execution_count": 27,
   "id": "3fb23e27",
   "metadata": {},
   "outputs": [],
   "source": [
    "from typing import Any\n",
    "\n",
    "from bloqade.qasm2.dialects import parallel\n"
   ]
  },
  {
   "cell_type": "code",
   "execution_count": null,
   "id": "d5f8b1aa",
   "metadata": {},
   "outputs": [
    {
     "ename": "TypeError",
     "evalue": "UGate.__init__() missing 1 required positional argument: 'lam'",
     "output_type": "error",
     "traceback": [
      "\u001b[31m---------------------------------------------------------------------------\u001b[39m",
      "\u001b[31mTypeError\u001b[39m                                 Traceback (most recent call last)",
      "\u001b[36mCell\u001b[39m\u001b[36m \u001b[39m\u001b[32mIn[30]\u001b[39m\u001b[32m, line 1\u001b[39m\n\u001b[32m----> \u001b[39m\u001b[32m1\u001b[39m ugatestmt = \u001b[43mparallel\u001b[49m\u001b[43m.\u001b[49m\u001b[43mUGate\u001b[49m\u001b[43m(\u001b[49m\u001b[43mmath\u001b[49m\u001b[43m.\u001b[49m\u001b[43mpi\u001b[49m\u001b[43m/\u001b[49m\u001b[32;43m2\u001b[39;49m\u001b[43m,\u001b[49m\u001b[43m \u001b[49m\u001b[32;43m0\u001b[39;49m\u001b[43m,\u001b[49m\u001b[43m \u001b[49m\u001b[43mmath\u001b[49m\u001b[43m.\u001b[49m\u001b[43mpi\u001b[49m\u001b[43m)\u001b[49m\n\u001b[32m      3\u001b[39m \u001b[38;5;129m@qasm2\u001b[39m.extended\n\u001b[32m      4\u001b[39m \u001b[38;5;28;01mdef\u001b[39;00m\u001b[38;5;250m \u001b[39m\u001b[34mglobal_H\u001b[39m():\n\u001b[32m      5\u001b[39m     qreg = qasm2.qreg(\u001b[32m3\u001b[39m)\n",
      "\u001b[31mTypeError\u001b[39m: UGate.__init__() missing 1 required positional argument: 'lam'"
     ]
    }
   ],
   "source": [
    "import kirin.interp\n",
    "ugatestmt = parallel.UGate()(math.pi/2, 0, math.pi)\n",
    "\n",
    "\n",
    "@qasm2.extended\n",
    "def global_H():\n",
    "    qreg = qasm2.qreg(3)\n",
    "    parallel.ugate(ugatestmt)\n",
    "    qasm2.zz(qreg[0])\n",
    "    qasm2.h(qreg[1])\n",
    "    qasm2.zz(qreg[1])\n",
    "    qasm2.h(qreg[2])\n",
    "    return global_H\n",
    "\n",
    "\n",
    "target = QASM2()\n",
    "ast = target.emit(ghz_linear(2))\n",
    "pprint(ast)\n"
   ]
  }
 ],
 "metadata": {
  "kernelspec": {
   "display_name": "qiskit",
   "language": "python",
   "name": "python3"
  },
  "language_info": {
   "codemirror_mode": {
    "name": "ipython",
    "version": 3
   },
   "file_extension": ".py",
   "mimetype": "text/x-python",
   "name": "python",
   "nbconvert_exporter": "python",
   "pygments_lexer": "ipython3",
   "version": "3.13.2"
  }
 },
 "nbformat": 4,
 "nbformat_minor": 5
}
