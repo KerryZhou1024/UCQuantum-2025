{
 "cells": [
  {
   "cell_type": "markdown",
   "id": "b4232bacfab244ce",
   "metadata": {},
   "source": [
    "# Free-for-all practice file, not included in final submission"
   ]
  },
  {
   "cell_type": "code",
   "execution_count": 1,
   "id": "0486689a",
   "metadata": {},
   "outputs": [],
   "source": [
    "import math\n",
    "\n",
    "from bloqade import qasm2\n",
    "from kirin.dialects import ilist"
   ]
  },
  {
   "cell_type": "code",
   "execution_count": 3,
   "id": "5f25ca92",
   "metadata": {},
   "outputs": [],
   "source": [
    "def ghz_linear(n: int):\n",
    "    n_qubits = int(2**n)\n",
    "\n",
    "    @qasm2.extended\n",
    "    def ghz_linear_program():\n",
    "\n",
    "        qreg = qasm2.qreg(n_qubits)\n",
    "        # Apply a Hadamard on the first qubit\n",
    "        qasm2.h(qreg[0])\n",
    "        # Create a cascading sequence of CX gates\n",
    "        # necessary for quantum computers that\n",
    "        # only have nearest-neighbor connectivity between qubits\n",
    "        for i in range(1, n_qubits):\n",
    "            qasm2.cx(qreg[i - 1], qreg[i])\n",
    "\n",
    "    return ghz_linear_program"
   ]
  },
  {
   "cell_type": "code",
   "execution_count": 11,
   "id": "e052d702",
   "metadata": {},
   "outputs": [
    {
     "name": "stdout",
     "output_type": "stream",
     "text": [
      "Generated QASM AST:\n",
      "\u001b[90mOPENQASM 2.0\u001b[0m;\n",
      "\u001b[31minclude\u001b[0m \u001b[32m\"qelib1.inc\"\u001b[0m;\n",
      "\u001b[31mqreg\u001b[0m qreg[4];\n",
      "\u001b[36mh\u001b[0m \u001b[36mqreg\u001b[0m[\u001b[39m0\u001b[0m];\n",
      "\u001b[31mCX\u001b[0m \u001b[36mqreg\u001b[0m[\u001b[39m0\u001b[0m], \u001b[36mqreg\u001b[0m[\u001b[39m1\u001b[0m];\n",
      "\u001b[31mCX\u001b[0m \u001b[36mqreg\u001b[0m[\u001b[39m1\u001b[0m], \u001b[36mqreg\u001b[0m[\u001b[39m2\u001b[0m];\n",
      "\u001b[31mCX\u001b[0m \u001b[36mqreg\u001b[0m[\u001b[39m2\u001b[0m], \u001b[36mqreg\u001b[0m[\u001b[39m3\u001b[0m];\n"
     ]
    }
   ],
   "source": [
    "# --- Somewhere else in your code, ensure ghz_linear is defined and decorated ---\n",
    "# Example structure:\n",
    "#\n",
    "# from bloqade import qasm2\n",
    "# import math # if needed\n",
    "#\n",
    "# @qasm2.extended # This decorator includes core and other common dialects\n",
    "# def ghz_linear(n_qubits: int):\n",
    "#     q = qasm2.qreg(n_qubits)\n",
    "#     qasm2.h(q[0])\n",
    "#     for i in range(n_qubits - 1):\n",
    "#         qasm2.cx(q[i], q[i+1])\n",
    "#     qasm2.measure_all() # Example measurement\n",
    "#     return q # Return the register\n",
    "\n",
    "# --- Your original code, corrected ---\n",
    "from bloqade.qasm2.emit import QASM2\n",
    "from bloqade.qasm2.parse import pprint # Often useful to print the result\n",
    "\n",
    "# Import the decorated function if it's in another file\n",
    "# from your_module import ghz_linear\n",
    "\n",
    "# Initialize the QASM2 emitter (without 'dialects')\n",
    "# Add allow_parallel=True if ghz_linear uses the parallel dialect features\n",
    "target = QASM2()\n",
    "# target = QASM2(allow_parallel=True) # <--- Uncomment if using parallel gates\n",
    "\n",
    "# Emit the AST by calling the decorated function\n",
    "# Make sure ghz_linear is defined and decorated as above\n",
    "try:\n",
    "    ast = target.emit(ghz_linear(2)) # Pass the result of calling the decorated function\n",
    "\n",
    "    # Print the generated QASM AST (optional)\n",
    "    print(\"Generated QASM AST:\")\n",
    "    pprint(ast)\n",
    "\n",
    "except NameError:\n",
    "    print(\"Error: The function 'ghz_linear' seems to be undefined.\")\n",
    "    print(\"Please ensure ghz_linear(n) is defined and decorated with @qasm2.extended.\")\n",
    "except Exception as e:\n",
    "    print(f\"An error occurred during emission: {e}\")"
   ]
  },
  {
   "cell_type": "markdown",
   "id": "3de5ef68",
   "metadata": {},
   "source": [
    "The webpage for source code: https://github.com/QuEraComputing/bloqade-pyqrack/blob/main/src/bloqade/pyqrack/qasm2/parallel.py\n",
    "\n"
   ]
  },
  {
   "cell_type": "code",
   "execution_count": 5,
   "id": "3fb23e27",
   "metadata": {},
   "outputs": [],
   "source": [
    "from typing import Any\n",
    "\n",
    "from bloqade.qasm2.dialects import parallel\n"
   ]
  },
  {
   "cell_type": "code",
   "execution_count": 6,
   "id": "d5f8b1aa",
   "metadata": {},
   "outputs": [
    {
     "name": "stdout",
     "output_type": "stream",
     "text": [
      "\u001b[90mOPENQASM 2.0\u001b[0m;\n",
      "\u001b[31minclude\u001b[0m \u001b[32m\"qelib1.inc\"\u001b[0m;\n",
      "\u001b[31mqreg\u001b[0m qreg[4];\n",
      "\u001b[36mh\u001b[0m \u001b[36mqreg\u001b[0m[\u001b[39m0\u001b[0m];\n",
      "\u001b[31mCX\u001b[0m \u001b[36mqreg\u001b[0m[\u001b[39m0\u001b[0m], \u001b[36mqreg\u001b[0m[\u001b[39m1\u001b[0m];\n",
      "\u001b[31mCX\u001b[0m \u001b[36mqreg\u001b[0m[\u001b[39m1\u001b[0m], \u001b[36mqreg\u001b[0m[\u001b[39m2\u001b[0m];\n",
      "\u001b[31mCX\u001b[0m \u001b[36mqreg\u001b[0m[\u001b[39m2\u001b[0m], \u001b[36mqreg\u001b[0m[\u001b[39m3\u001b[0m];\n"
     ]
    }
   ],
   "source": [
    "import kirin.interp\n",
    "\n",
    "\n",
    "\n",
    "@qasm2.extended\n",
    "def global_H():\n",
    "    qreg = qasm2.qreg(3)\n",
    "    \n",
    "    qasm2.parallel.u(\n",
    "        qreg,          # Pass the list of qubits\n",
    "        theta=math.pi/2, # Specify the theta angle\n",
    "        phi=0,           # Specify the phi angle\n",
    "        lam=math.pi      # Specify the lambda angle\n",
    "    )\n",
    "    qasm2.zz(qreg[0])\n",
    "    qasm2.h(qreg[1])\n",
    "    qasm2.zz(qreg[1])\n",
    "    qasm2.h(qreg[2])\n",
    "    return global_H\n",
    "\n",
    "\n",
    "target = QASM2()\n",
    "ast = target.emit(ghz_linear(2))\n",
    "pprint(ast)\n"
   ]
  }
 ],
 "metadata": {
  "kernelspec": {
   "display_name": "Python 3",
   "language": "python",
   "name": "python3"
  },
  "language_info": {
   "codemirror_mode": {
    "name": "ipython",
    "version": 3
   },
   "file_extension": ".py",
   "mimetype": "text/x-python",
   "name": "python",
   "nbconvert_exporter": "python",
   "pygments_lexer": "ipython3",
   "version": "3.13.3"
  }
 },
 "nbformat": 4,
 "nbformat_minor": 5
}
