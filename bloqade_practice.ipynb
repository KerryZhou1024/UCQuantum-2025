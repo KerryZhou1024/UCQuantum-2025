{
 "cells": [
  {
   "cell_type": "markdown",
   "id": "b4232bacfab244ce",
   "metadata": {},
   "source": [
    "# Free-for-all practice file, not included in final submission"
   ]
  },
  {
   "cell_type": "code",
   "execution_count": 32,
   "id": "0486689a",
   "metadata": {},
   "outputs": [],
   "source": [
    "import math\n",
    "\n",
    "from bloqade import qasm2\n",
    "from kirin.dialects import ilist"
   ]
  },
  {
   "cell_type": "code",
<<<<<<< HEAD
   "execution_count": 3,
=======
   "execution_count": 33,
>>>>>>> b729f5973969c37a9d228dc77a8f65b8b843393c
   "id": "5f25ca92",
   "metadata": {},
   "outputs": [],
   "source": [
    "def ghz_linear(n: int):\n",
    "    n_qubits = int(2**n)\n",
    "\n",
    "    @qasm2.extended\n",
    "    def ghz_linear_program():\n",
    "\n",
    "        qreg = qasm2.qreg(n_qubits)\n",
    "        # Apply a Hadamard on the first qubit\n",
    "        qasm2.h(qreg[0])\n",
    "        # Create a cascading sequence of CX gates\n",
    "        # necessary for quantum computers that\n",
    "        # only have nearest-neighbor connectivity between qubits\n",
    "        for i in range(1, n_qubits):\n",
    "            qasm2.cx(qreg[i - 1], qreg[i])\n",
    "\n",
    "    return ghz_linear_program"
   ]
  },
  {
   "cell_type": "code",
<<<<<<< HEAD
   "execution_count": 11,
=======
   "execution_count": 34,
>>>>>>> b729f5973969c37a9d228dc77a8f65b8b843393c
   "id": "e052d702",
   "metadata": {},
   "outputs": [
    {
<<<<<<< HEAD
     "name": "stdout",
     "output_type": "stream",
     "text": [
      "Generated QASM AST:\n",
      "\u001b[90mOPENQASM 2.0\u001b[0m;\n",
      "\u001b[31minclude\u001b[0m \u001b[32m\"qelib1.inc\"\u001b[0m;\n",
      "\u001b[31mqreg\u001b[0m qreg[4];\n",
      "\u001b[36mh\u001b[0m \u001b[36mqreg\u001b[0m[\u001b[39m0\u001b[0m];\n",
      "\u001b[31mCX\u001b[0m \u001b[36mqreg\u001b[0m[\u001b[39m0\u001b[0m], \u001b[36mqreg\u001b[0m[\u001b[39m1\u001b[0m];\n",
      "\u001b[31mCX\u001b[0m \u001b[36mqreg\u001b[0m[\u001b[39m1\u001b[0m], \u001b[36mqreg\u001b[0m[\u001b[39m2\u001b[0m];\n",
      "\u001b[31mCX\u001b[0m \u001b[36mqreg\u001b[0m[\u001b[39m2\u001b[0m], \u001b[36mqreg\u001b[0m[\u001b[39m3\u001b[0m];\n"
=======
     "ename": "TypeError",
     "evalue": "QASM2.__init__() got an unexpected keyword argument 'dialects'",
     "output_type": "error",
     "traceback": [
      "\u001b[31m---------------------------------------------------------------------------\u001b[39m",
      "\u001b[31mTypeError\u001b[39m                                 Traceback (most recent call last)",
      "\u001b[36mCell\u001b[39m\u001b[36m \u001b[39m\u001b[32mIn[34]\u001b[39m\u001b[32m, line 8\u001b[39m\n\u001b[32m      5\u001b[39m \u001b[38;5;28;01mfrom\u001b[39;00m\u001b[38;5;250m \u001b[39m\u001b[34;01mbloqade\u001b[39;00m\u001b[34;01m.\u001b[39;00m\u001b[34;01mqasm2\u001b[39;00m\u001b[34;01m.\u001b[39;00m\u001b[34;01mdialects\u001b[39;00m\u001b[38;5;250m \u001b[39m\u001b[38;5;28;01mimport\u001b[39;00m core\n\u001b[32m      7\u001b[39m \u001b[38;5;66;03m# Register the required dialects\u001b[39;00m\n\u001b[32m----> \u001b[39m\u001b[32m8\u001b[39m target = \u001b[43mQASM2\u001b[49m\u001b[43m(\u001b[49m\u001b[43mdialects\u001b[49m\u001b[43m=\u001b[49m\u001b[43m[\u001b[49m\u001b[43mcore\u001b[49m\u001b[43m]\u001b[49m\u001b[43m)\u001b[49m\n\u001b[32m     10\u001b[39m \u001b[38;5;66;03m# Emit the AST using the updated target\u001b[39;00m\n\u001b[32m     11\u001b[39m ast = target.emit(ghz_linear(\u001b[32m2\u001b[39m))\n",
      "\u001b[31mTypeError\u001b[39m: QASM2.__init__() got an unexpected keyword argument 'dialects'"
>>>>>>> b729f5973969c37a9d228dc77a8f65b8b843393c
     ]
    }
   ],
   "source": [
    "# --- Somewhere else in your code, ensure ghz_linear is defined and decorated ---\n",
    "# Example structure:\n",
    "#\n",
    "# from bloqade import qasm2\n",
    "# import math # if needed\n",
    "#\n",
    "# @qasm2.extended # This decorator includes core and other common dialects\n",
    "# def ghz_linear(n_qubits: int):\n",
    "#     q = qasm2.qreg(n_qubits)\n",
    "#     qasm2.h(q[0])\n",
    "#     for i in range(n_qubits - 1):\n",
    "#         qasm2.cx(q[i], q[i+1])\n",
    "#     qasm2.measure_all() # Example measurement\n",
    "#     return q # Return the register\n",
    "\n",
    "# --- Your original code, corrected ---\n",
    "from bloqade.qasm2.emit import QASM2\n",
    "from bloqade.qasm2.parse import pprint # Often useful to print the result\n",
    "\n",
    "# Import the decorated function if it's in another file\n",
    "# from your_module import ghz_linear\n",
    "\n",
    "# Initialize the QASM2 emitter (without 'dialects')\n",
    "# Add allow_parallel=True if ghz_linear uses the parallel dialect features\n",
    "target = QASM2()\n",
    "# target = QASM2(allow_parallel=True) # <--- Uncomment if using parallel gates\n",
    "\n",
    "# Emit the AST by calling the decorated function\n",
    "# Make sure ghz_linear is defined and decorated as above\n",
    "try:\n",
    "    ast = target.emit(ghz_linear(2)) # Pass the result of calling the decorated function\n",
    "\n",
    "    # Print the generated QASM AST (optional)\n",
    "    print(\"Generated QASM AST:\")\n",
    "    pprint(ast)\n",
    "\n",
    "except NameError:\n",
    "    print(\"Error: The function 'ghz_linear' seems to be undefined.\")\n",
    "    print(\"Please ensure ghz_linear(n) is defined and decorated with @qasm2.extended.\")\n",
    "except Exception as e:\n",
    "    print(f\"An error occurred during emission: {e}\")"
   ]
  },
  {
   "cell_type": "markdown",
   "id": "3de5ef68",
   "metadata": {},
   "source": [
    "The webpage for source code: https://github.com/QuEraComputing/bloqade-pyqrack/blob/main/src/bloqade/pyqrack/qasm2/parallel.py\n",
    "\n"
   ]
  },
  {
   "cell_type": "code",
   "execution_count": null,
   "id": "3fb23e27",
   "metadata": {},
   "outputs": [],
   "source": [
    "from typing import Any\n",
    "\n",
    "from bloqade.qasm2.dialects import parallel\n"
   ]
  },
  {
   "cell_type": "code",
<<<<<<< HEAD
   "execution_count": 6,
=======
   "execution_count": 38,
>>>>>>> b729f5973969c37a9d228dc77a8f65b8b843393c
   "id": "d5f8b1aa",
   "metadata": {},
   "outputs": [
    {
<<<<<<< HEAD
     "name": "stdout",
     "output_type": "stream",
     "text": [
      "\u001b[90mOPENQASM 2.0\u001b[0m;\n",
      "\u001b[31minclude\u001b[0m \u001b[32m\"qelib1.inc\"\u001b[0m;\n",
      "\u001b[31mqreg\u001b[0m qreg[4];\n",
      "\u001b[36mh\u001b[0m \u001b[36mqreg\u001b[0m[\u001b[39m0\u001b[0m];\n",
      "\u001b[31mCX\u001b[0m \u001b[36mqreg\u001b[0m[\u001b[39m0\u001b[0m], \u001b[36mqreg\u001b[0m[\u001b[39m1\u001b[0m];\n",
      "\u001b[31mCX\u001b[0m \u001b[36mqreg\u001b[0m[\u001b[39m1\u001b[0m], \u001b[36mqreg\u001b[0m[\u001b[39m2\u001b[0m];\n",
      "\u001b[31mCX\u001b[0m \u001b[36mqreg\u001b[0m[\u001b[39m2\u001b[0m], \u001b[36mqreg\u001b[0m[\u001b[39m3\u001b[0m];\n"
=======
     "ename": "TypeError",
     "evalue": "QASM2.__init__() got an unexpected keyword argument 'dialects'",
     "output_type": "error",
     "traceback": [
      "\u001b[31m---------------------------------------------------------------------------\u001b[39m",
      "\u001b[31mTypeError\u001b[39m                                 Traceback (most recent call last)",
      "\u001b[36mCell\u001b[39m\u001b[36m \u001b[39m\u001b[32mIn[38]\u001b[39m\u001b[32m, line 39\u001b[39m\n\u001b[32m     34\u001b[39m     \u001b[38;5;28;01mreturn\u001b[39;00m my_parallel_program_inner\n\u001b[32m     37\u001b[39m \u001b[38;5;66;03m# Register the required dialects (core and parallel)\u001b[39;00m\n\u001b[32m     38\u001b[39m \u001b[38;5;66;03m# Note: QASM2, pprint, core, parallel are already imported in previous cells\u001b[39;00m\n\u001b[32m---> \u001b[39m\u001b[32m39\u001b[39m target = \u001b[43mQASM2\u001b[49m\u001b[43m(\u001b[49m\u001b[43mdialects\u001b[49m\u001b[43m=\u001b[49m\u001b[43m[\u001b[49m\u001b[43mcore\u001b[49m\u001b[43m,\u001b[49m\u001b[43m \u001b[49m\u001b[43mparallel\u001b[49m\u001b[43m]\u001b[49m\u001b[43m)\u001b[49m\n\u001b[32m     40\u001b[39m \u001b[38;5;66;03m# Emit the AST by calling the outer function, which returns the decorated function\u001b[39;00m\n\u001b[32m     41\u001b[39m ast = target.emit(create_my_parallel_program())\n",
      "\u001b[31mTypeError\u001b[39m: QASM2.__init__() got an unexpected keyword argument 'dialects'"
>>>>>>> b729f5973969c37a9d228dc77a8f65b8b843393c
     ]
    }
   ],
   "source": [
    "from bloqade.qasm2.dialects import core, parallel # Import core dialect as well\n",
    "from bloqade.qasm2.emit import QASM2 # the QASM2 target\n",
    "from bloqade.qasm2.parse import pprint # the QASM2 pretty printer\n",
    "import math\n",
    "\n",
    "\n",
    "# Define the number of qubits for this specific program\n",
    "num_qubits_program = 3\n",
    "\n",
    "# Define an outer function that returns the decorated program\n",
    "def create_my_parallel_program():\n",
    "\n",
    "    @qasm2.extended\n",
    "    def my_parallel_program_inner(): # Define the actual program logic here\n",
    "        qreg = qasm2.qreg(num_qubits_program)\n",
    "\n",
    "        # Apply parallel U gate\n",
    "        qasm2.parallel.u(\n",
    "            qreg,          # Pass the list of qubits\n",
    "            theta=math.pi/2, # Specify the theta angle\n",
    "            phi=0,           # Specify the phi angle\n",
    "            lam=math.pi      # Specify the lambda angle\n",
    "        )\n",
    "\n",
    "        # Apply CZ and H gates sequentially\n",
    "        # Loop up to num_qubits_program\n",
    "        for i in range(1, num_qubits_program):\n",
    "            qasm2.cz(qreg[i - 1], qreg[i])\n",
    "            qasm2.h(qreg[i])\n",
    "\n",
    "        # No explicit return needed inside the decorated function\n",
    "\n",
    "    # Return the inner, decorated function object\n",
    "    return my_parallel_program_inner\n",
    "\n",
    "\n",
    "# Register the required dialects (core and parallel)\n",
    "# Note: QASM2, pprint, core, parallel are already imported in previous cells\n",
    "target = QASM2(dialects=[core, parallel])\n",
    "# Emit the AST by calling the outer function, which returns the decorated function\n",
    "ast = target.emit(create_my_parallel_program())\n",
    "pprint(ast)\n"
   ]
  }
 ],
 "metadata": {
  "kernelspec": {
   "display_name": "Python 3",
   "language": "python",
   "name": "python3"
  },
  "language_info": {
   "codemirror_mode": {
    "name": "ipython",
    "version": 3
   },
   "file_extension": ".py",
   "mimetype": "text/x-python",
   "name": "python",
   "nbconvert_exporter": "python",
   "pygments_lexer": "ipython3",
   "version": "3.13.3"
  }
 },
 "nbformat": 4,
 "nbformat_minor": 5
}
