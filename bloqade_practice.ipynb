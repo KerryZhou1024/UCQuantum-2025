{
 "cells": [
  {
   "cell_type": "markdown",
   "id": "b4232bacfab244ce",
   "metadata": {},
   "source": [
    "# Free-for-all practice file, not included in final submission"
   ]
  },
  {
   "cell_type": "code",
<<<<<<< HEAD
   "execution_count": 2,
=======
>>>>>>> 4c3833afda9378dbdab2e279e484a24024de7097
   "id": "0486689a",
   "metadata": {
    "ExecuteTime": {
     "end_time": "2025-04-13T01:50:05.528638Z",
     "start_time": "2025-04-13T01:50:05.522751Z"
    }
   },
   "source": [
    "import math\n",
    "\n",
    "from bloqade import qasm2\n",
    "from kirin.dialects import ilist"
   ],
   "outputs": [],
   "execution_count": 4
  },
  {
   "cell_type": "code",
<<<<<<< HEAD
   "execution_count": 3,
=======
>>>>>>> 4c3833afda9378dbdab2e279e484a24024de7097
   "id": "5f25ca92",
   "metadata": {
    "ExecuteTime": {
     "end_time": "2025-04-13T01:50:05.538110Z",
     "start_time": "2025-04-13T01:50:05.535100Z"
    }
   },
   "source": [
    "def ghz_linear(n: int):\n",
    "    n_qubits = int(2**n)\n",
    "\n",
    "    @qasm2.extended\n",
    "    def ghz_linear_program():\n",
    "\n",
    "        qreg = qasm2.qreg(n_qubits)\n",
    "        # Apply a Hadamard on the first qubit\n",
    "        qasm2.h(qreg[0])\n",
    "        # Create a cascading sequence of CX gates\n",
    "        # necessary for quantum computers that\n",
    "        # only have nearest-neighbor connectivity between qubits\n",
    "        for i in range(1, n_qubits):\n",
    "            qasm2.cx(qreg[i - 1], qreg[i])\n",
    "\n",
    "    return ghz_linear_program"
   ],
   "outputs": [],
   "execution_count": 5
  },
  {
   "cell_type": "markdown",
   "id": "634d9a50",
   "metadata": {},
   "source": [
    "An argument named `dialects` was provided, but the class constructor (`__init__`) was not designed to accept it.\n",
    "\n",
    "### Investigation Steps\n",
    "\n",
    "1.  **Analyze Error:** The `TypeError` clearly stated the `__init__` method received an unexpected keyword argument `'dialects'`.\n",
    "2.  **Hypothesize Cause:** This usually means either the argument name is wrong, the way arguments are passed is incorrect for this class, or the library version being used doesn't support this argument. The comment `# Register the required dialects` hinted that registration might be a separate step.\n",
    "3.  **Search Documentation/Examples:** Searched online using queries like `bloqade qasm2 register dialect`, `bloqade qasm2 emit with dialects example`, and `bloqade.qasm2 QASM2 usage`.\n",
    "4.  **Review Findings:** Search results and examples in the Bloqade documentation showed that dialects (like `core`, `parallel`, etc.) are typically managed using decorators (e.g., `@qasm2.extended`) applied to the Python function that defines the quantum circuit/program. The `QASM2` emitter object is usually initialized *without* these dialects passed directly to its constructor.\n",
    "\n",
    "### Solution\n",
    "\n",
    "The correct approach involves applying the necessary dialects via a decorator to the function defining the quantum program and then using the `QASM2` class to emit the QASM representation of that decorated function.\n",
    "\n",
    "1.  **Decorate the Program Function:** Ensure the Python function containing the quantum logic (e.g., `ghz_linear`) is decorated with `@qasm2.extended`. This decorator bundles the standard dialects needed, including `core`.\n",
    "\n",
    "    ```python\n",
    "    from bloqade import qasm2\n",
    "\n",
    "    @qasm2.extended # Apply the decorator\n",
    "    def ghz_linear(n_qubits: int):\n",
    "        q = qasm2.qreg(n_qubits)\n",
    "        # ... (rest of your quantum operations using qasm2) ...\n",
    "        qasm2.h(q[0])\n",
    "        for i in range(n_qubits - 1):\n",
    "           qasm2.cx(q[i], q[i+1])\n",
    "        qasm2.measure_all()\n",
    "        return q\n",
    "    ```\n",
    "\n",
    "2.  **Initialize `QASM2` Emitter Correctly:** Create the `QASM2` instance without the `dialects` argument.\n",
    "\n",
    "    ```python\n",
    "    from bloqade.qasm2.emit import QASM2\n",
    "    from bloqade.qasm2.parse import pprint # For printing\n",
    "\n",
    "    # Initialize emitter without the 'dialects' argument\n",
    "    target = QASM2()\n",
    "    # If using parallel features specifically enabled by qasm2.parallel\n",
    "    # you might need: target = QASM2(allow_parallel=True)\n",
    "    ```\n",
    "\n",
    "3.  **Emit the Decorated Function:** Call the `emit` method on the `QASM2` instance, passing the *result* of calling your decorated function.\n",
    "\n",
    "    ```python\n",
    "    # Call the decorated function and pass its result to emit\n",
    "    ast = target.emit(ghz_linear(2))\n",
    "\n",
    "    # Optionally print the generated QASM\n",
    "    pprint(ast)\n",
    "    ```\n",
    "\n",
    "This revised approach correctly uses the `bloqade` library's intended pattern for incorporating dialects and generating QASM code.\n",
    " \n"
   ]
  },
  {
   "cell_type": "code",
<<<<<<< HEAD
   "execution_count": null,
   "id": "e052d702",
   "metadata": {},
   "outputs": [
    {
     "name": "stdout",
     "output_type": "stream",
     "text": [
      "Generated QASM AST:\n",
      "\u001b[90mOPENQASM 2.0\u001b[0m;\n",
      "\u001b[31minclude\u001b[0m \u001b[32m\"qelib1.inc\"\u001b[0m;\n",
      "\u001b[31mqreg\u001b[0m qreg[4];\n",
      "\u001b[36mh\u001b[0m \u001b[36mqreg\u001b[0m[\u001b[39m0\u001b[0m];\n",
      "\u001b[31mCX\u001b[0m \u001b[36mqreg\u001b[0m[\u001b[39m0\u001b[0m], \u001b[36mqreg\u001b[0m[\u001b[39m1\u001b[0m];\n",
      "\u001b[31mCX\u001b[0m \u001b[36mqreg\u001b[0m[\u001b[39m1\u001b[0m], \u001b[36mqreg\u001b[0m[\u001b[39m2\u001b[0m];\n",
      "\u001b[31mCX\u001b[0m \u001b[36mqreg\u001b[0m[\u001b[39m2\u001b[0m], \u001b[36mqreg\u001b[0m[\u001b[39m3\u001b[0m];\n"
     ]
=======
   "id": "e052d702",
   "metadata": {
    "ExecuteTime": {
     "end_time": "2025-04-13T01:50:05.580107Z",
     "start_time": "2025-04-13T01:50:05.550241Z"
>>>>>>> 4c3833afda9378dbdab2e279e484a24024de7097
    }
   },
   "source": [
    "from bloqade.qasm2.emit import QASM2\n",
    "from bloqade.qasm2.parse import pprint # Often useful to print the result\n",
    "\n",
    "\n",
    "target = QASM2()\n",
    "\n",
<<<<<<< HEAD
    "try:\n",
    "    ast = target.emit(ghz_linear(2)) # Pass the result of calling the decorated function\n",
    "\n",
    "    # Print the generated QASM AST (optional)\n",
    "    print(\"Generated QASM AST:\")\n",
    "    pprint(ast)\n",
    "\n",
    "except NameError:\n",
    "    print(\"Error: The function 'ghz_linear' seems to be undefined.\")\n",
    "    print(\"Please ensure ghz_linear(n) is defined and decorated with @qasm2.extended.\")\n",
    "except Exception as e:\n",
    "    print(f\"An error occurred during emission: {e}\")"
   ]
=======
    "# Emit the AST using the updated target\n",
    "ast = target.emit(ghz_linear(2))\n",
    "pprint(ast)"
   ],
   "outputs": [
    {
     "ename": "TypeError",
     "evalue": "QASM2.__init__() got an unexpected keyword argument 'dialects'",
     "output_type": "error",
     "traceback": [
      "\u001B[0;31m---------------------------------------------------------------------------\u001B[0m",
      "\u001B[0;31mTypeError\u001B[0m                                 Traceback (most recent call last)",
      "Cell \u001B[0;32mIn[6], line 8\u001B[0m\n\u001B[1;32m      5\u001B[0m \u001B[38;5;28;01mfrom\u001B[39;00m\u001B[38;5;250m \u001B[39m\u001B[38;5;21;01mbloqade\u001B[39;00m\u001B[38;5;21;01m.\u001B[39;00m\u001B[38;5;21;01mqasm2\u001B[39;00m\u001B[38;5;21;01m.\u001B[39;00m\u001B[38;5;21;01mdialects\u001B[39;00m\u001B[38;5;250m \u001B[39m\u001B[38;5;28;01mimport\u001B[39;00m core\n\u001B[1;32m      7\u001B[0m \u001B[38;5;66;03m# Register the required dialects\u001B[39;00m\n\u001B[0;32m----> 8\u001B[0m target \u001B[38;5;241m=\u001B[39m \u001B[43mQASM2\u001B[49m\u001B[43m(\u001B[49m\u001B[43mdialects\u001B[49m\u001B[38;5;241;43m=\u001B[39;49m\u001B[43m[\u001B[49m\u001B[43mcore\u001B[49m\u001B[43m]\u001B[49m\u001B[43m)\u001B[49m\n\u001B[1;32m     10\u001B[0m \u001B[38;5;66;03m# Emit the AST using the updated target\u001B[39;00m\n\u001B[1;32m     11\u001B[0m ast \u001B[38;5;241m=\u001B[39m target\u001B[38;5;241m.\u001B[39memit(ghz_linear(\u001B[38;5;241m2\u001B[39m))\n",
      "\u001B[0;31mTypeError\u001B[0m: QASM2.__init__() got an unexpected keyword argument 'dialects'"
     ]
    }
   ],
   "execution_count": 6
>>>>>>> 4c3833afda9378dbdab2e279e484a24024de7097
  },
  {
   "cell_type": "markdown",
   "id": "3de5ef68",
   "metadata": {},
   "source": [
    "The webpage for source code: https://github.com/QuEraComputing/bloqade-pyqrack/blob/main/src/bloqade/pyqrack/qasm2/parallel.py\n",
    "\n"
   ]
  },
  {
   "cell_type": "code",
   "execution_count": 5,
   "id": "3fb23e27",
   "metadata": {},
   "outputs": [],
   "source": [
    "from typing import Any\n",
    "\n",
    "from bloqade.qasm2.dialects import parallel\n"
   ]
  },
  {
   "cell_type": "code",
   "execution_count": 6,
   "id": "d5f8b1aa",
   "metadata": {},
   "outputs": [
    {
<<<<<<< HEAD
     "name": "stdout",
     "output_type": "stream",
     "text": [
      "\u001b[90mOPENQASM 2.0\u001b[0m;\n",
      "\u001b[31minclude\u001b[0m \u001b[32m\"qelib1.inc\"\u001b[0m;\n",
      "\u001b[31mqreg\u001b[0m qreg[4];\n",
      "\u001b[36mh\u001b[0m \u001b[36mqreg\u001b[0m[\u001b[39m0\u001b[0m];\n",
      "\u001b[31mCX\u001b[0m \u001b[36mqreg\u001b[0m[\u001b[39m0\u001b[0m], \u001b[36mqreg\u001b[0m[\u001b[39m1\u001b[0m];\n",
      "\u001b[31mCX\u001b[0m \u001b[36mqreg\u001b[0m[\u001b[39m1\u001b[0m], \u001b[36mqreg\u001b[0m[\u001b[39m2\u001b[0m];\n",
      "\u001b[31mCX\u001b[0m \u001b[36mqreg\u001b[0m[\u001b[39m2\u001b[0m], \u001b[36mqreg\u001b[0m[\u001b[39m3\u001b[0m];\n"
=======
     "ename": "TypeError",
     "evalue": "QASM2.__init__() got an unexpected keyword argument 'dialects'",
     "output_type": "error",
     "traceback": [
      "\u001B[31m---------------------------------------------------------------------------\u001B[39m",
      "\u001B[31mTypeError\u001B[39m                                 Traceback (most recent call last)",
      "\u001B[36mCell\u001B[39m\u001B[36m \u001B[39m\u001B[32mIn[38]\u001B[39m\u001B[32m, line 39\u001B[39m\n\u001B[32m     34\u001B[39m     \u001B[38;5;28;01mreturn\u001B[39;00m my_parallel_program_inner\n\u001B[32m     37\u001B[39m \u001B[38;5;66;03m# Register the required dialects (core and parallel)\u001B[39;00m\n\u001B[32m     38\u001B[39m \u001B[38;5;66;03m# Note: QASM2, pprint, core, parallel are already imported in previous cells\u001B[39;00m\n\u001B[32m---> \u001B[39m\u001B[32m39\u001B[39m target = \u001B[43mQASM2\u001B[49m\u001B[43m(\u001B[49m\u001B[43mdialects\u001B[49m\u001B[43m=\u001B[49m\u001B[43m[\u001B[49m\u001B[43mcore\u001B[49m\u001B[43m,\u001B[49m\u001B[43m \u001B[49m\u001B[43mparallel\u001B[49m\u001B[43m]\u001B[49m\u001B[43m)\u001B[49m\n\u001B[32m     40\u001B[39m \u001B[38;5;66;03m# Emit the AST by calling the outer function, which returns the decorated function\u001B[39;00m\n\u001B[32m     41\u001B[39m ast = target.emit(create_my_parallel_program())\n",
      "\u001B[31mTypeError\u001B[39m: QASM2.__init__() got an unexpected keyword argument 'dialects'"
>>>>>>> 4c3833afda9378dbdab2e279e484a24024de7097
     ]
    }
   ],
   "source": [
    "import kirin.interp\n",
    "\n",
    "\n",
    "\n",
    "@qasm2.extended\n",
    "def global_H():\n",
    "    qreg = qasm2.qreg(3)\n",
    "    \n",
    "    qasm2.parallel.u(\n",
    "        qreg,          # Pass the list of qubits\n",
    "        theta=math.pi/2, # Specify the theta angle\n",
    "        phi=0,           # Specify the phi angle\n",
    "        lam=math.pi      # Specify the lambda angle\n",
    "    )\n",
    "    qasm2.zz(qreg[0])\n",
    "    qasm2.h(qreg[1])\n",
    "    qasm2.zz(qreg[1])\n",
    "    qasm2.h(qreg[2])\n",
    "    return global_H\n",
    "\n",
    "\n",
    "target = QASM2()\n",
    "ast = target.emit(ghz_linear(2))\n",
    "pprint(ast)\n"
   ]
  }
 ],
 "metadata": {
  "kernelspec": {
   "display_name": "Python 3",
   "language": "python",
   "name": "python3"
  },
  "language_info": {
   "codemirror_mode": {
    "name": "ipython",
    "version": 3
   },
   "file_extension": ".py",
   "mimetype": "text/x-python",
   "name": "python",
   "nbconvert_exporter": "python",
   "pygments_lexer": "ipython3",
   "version": "3.13.3"
  }
 },
 "nbformat": 4,
 "nbformat_minor": 5
}
