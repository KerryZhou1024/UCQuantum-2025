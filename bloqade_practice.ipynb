{
 "cells": [
  {
   "cell_type": "markdown",
   "id": "b4232bacfab244ce",
   "metadata": {},
   "source": [
    "# Free-for-all practice file, not included in final submission"
   ]
  },
  {
   "cell_type": "code",
   "execution_count": 78,
   "id": "0486689a",
   "metadata": {
    "ExecuteTime": {
     "end_time": "2025-04-13T01:50:05.528638Z",
     "start_time": "2025-04-13T01:50:05.522751Z"
    }
   },
   "outputs": [],
   "source": [
    "import math\n",
    "\n",
    "from bloqade import qasm2\n",
    "from bloqade.pyqrack import PyQrack\n",
    "from kirin.dialects import ilist\n",
    "\n"
   ]
  },
  {
   "cell_type": "code",
   "execution_count": null,
   "id": "5f25ca92",
   "metadata": {
    "ExecuteTime": {
     "end_time": "2025-04-13T01:50:05.538110Z",
     "start_time": "2025-04-13T01:50:05.535100Z"
    }
   },
   "outputs": [],
   "source": [
    "def ghz_linear(n: int):\n",
    "    n_qubits = int(2**n)\n",
    "\n",
    "    @qasm2.extended\n",
    "    def ghz_linear_program():\n",
    "\n",
    "        qreg = qasm2.qreg(n_qubits)\n",
    "        # Apply a Hadamard on the first qubit\n",
    "        qasm2.h(qreg[0])\n",
    "        # Create a cascading sequence of CX gates\n",
    "        # necessary for quantum computers that\n",
    "        # only have nearest-neighbor connectivity between qubits\n",
    "        for i in range(1, n_qubits):\n",
    "            qasm2.cx(qreg[i - 1], qreg[i])\n",
    "\n",
    "\n",
    "# area of the interest\n",
    "    device = PyQrack()\n",
    "    qreg = device.run(ghz_linear)\n",
    "    print(qreg)\n",
    "\n",
    "    return ghz_linear_program"
   ]
  },
  {
   "cell_type": "code",
   "execution_count": 6,
   "id": "e052d702",
   "metadata": {
    "ExecuteTime": {
     "end_time": "2025-04-13T01:50:05.580107Z",
     "start_time": "2025-04-13T01:50:05.550241Z"
    }
   },
   "outputs": [
    {
     "ename": "TypeError",
     "evalue": "QASM2.__init__() got an unexpected keyword argument 'dialects'",
     "output_type": "error",
     "traceback": [
      "\u001b[0;31m---------------------------------------------------------------------------\u001b[0m",
      "\u001b[0;31mTypeError\u001b[0m                                 Traceback (most recent call last)",
      "Cell \u001b[0;32mIn[6], line 8\u001b[0m\n\u001b[1;32m      5\u001b[0m \u001b[38;5;28;01mfrom\u001b[39;00m\u001b[38;5;250m \u001b[39m\u001b[38;5;21;01mbloqade\u001b[39;00m\u001b[38;5;21;01m.\u001b[39;00m\u001b[38;5;21;01mqasm2\u001b[39;00m\u001b[38;5;21;01m.\u001b[39;00m\u001b[38;5;21;01mdialects\u001b[39;00m\u001b[38;5;250m \u001b[39m\u001b[38;5;28;01mimport\u001b[39;00m core\n\u001b[1;32m      7\u001b[0m \u001b[38;5;66;03m# Register the required dialects\u001b[39;00m\n\u001b[0;32m----> 8\u001b[0m target \u001b[38;5;241m=\u001b[39m \u001b[43mQASM2\u001b[49m\u001b[43m(\u001b[49m\u001b[43mdialects\u001b[49m\u001b[38;5;241;43m=\u001b[39;49m\u001b[43m[\u001b[49m\u001b[43mcore\u001b[49m\u001b[43m]\u001b[49m\u001b[43m)\u001b[49m\n\u001b[1;32m     10\u001b[0m \u001b[38;5;66;03m# Emit the AST using the updated target\u001b[39;00m\n\u001b[1;32m     11\u001b[0m ast \u001b[38;5;241m=\u001b[39m target\u001b[38;5;241m.\u001b[39memit(ghz_linear(\u001b[38;5;241m2\u001b[39m))\n",
      "\u001b[0;31mTypeError\u001b[0m: QASM2.__init__() got an unexpected keyword argument 'dialects'"
     ]
    }
   ],
   "source": [
    "from bloqade.qasm2.emit import QASM2 # the QASM2 target\n",
    "from bloqade.qasm2.parse import pprint # the QASM2 pretty printer\n",
    "\n",
    "# Ensure the ghz_linear function emits operations compatible with QASM2\n",
    "from bloqade.qasm2.dialects import core\n",
    "\n",
    "# Register the required dialects\n",
    "target = QASM2(dialects=[core])\n",
    "\n",
    "# Emit the AST using the updated target\n",
    "ast = target.emit(ghz_linear(2))\n",
    "pprint(ast)"
   ]
  },
  {
   "cell_type": "markdown",
   "id": "3de5ef68",
   "metadata": {},
   "source": [
    "The webpage for source code: https://github.com/QuEraComputing/bloqade-pyqrack/blob/main/src/bloqade/pyqrack/qasm2/parallel.py\n",
    "\n"
   ]
  },
  {
   "cell_type": "code",
   "execution_count": null,
   "id": "3fb23e27",
   "metadata": {},
   "outputs": [],
   "source": [
    "from typing import Any\n",
    "\n",
    "from bloqade.qasm2.dialects import parallel\n"
   ]
  },
  {
   "cell_type": "code",
   "execution_count": 38,
   "id": "d5f8b1aa",
   "metadata": {},
   "outputs": [
    {
     "ename": "TypeError",
     "evalue": "QASM2.__init__() got an unexpected keyword argument 'dialects'",
     "output_type": "error",
     "traceback": [
      "\u001b[31m---------------------------------------------------------------------------\u001b[39m",
      "\u001b[31mTypeError\u001b[39m                                 Traceback (most recent call last)",
      "\u001b[36mCell\u001b[39m\u001b[36m \u001b[39m\u001b[32mIn[38]\u001b[39m\u001b[32m, line 39\u001b[39m\n\u001b[32m     34\u001b[39m     \u001b[38;5;28;01mreturn\u001b[39;00m my_parallel_program_inner\n\u001b[32m     37\u001b[39m \u001b[38;5;66;03m# Register the required dialects (core and parallel)\u001b[39;00m\n\u001b[32m     38\u001b[39m \u001b[38;5;66;03m# Note: QASM2, pprint, core, parallel are already imported in previous cells\u001b[39;00m\n\u001b[32m---> \u001b[39m\u001b[32m39\u001b[39m target = \u001b[43mQASM2\u001b[49m\u001b[43m(\u001b[49m\u001b[43mdialects\u001b[49m\u001b[43m=\u001b[49m\u001b[43m[\u001b[49m\u001b[43mcore\u001b[49m\u001b[43m,\u001b[49m\u001b[43m \u001b[49m\u001b[43mparallel\u001b[49m\u001b[43m]\u001b[49m\u001b[43m)\u001b[49m\n\u001b[32m     40\u001b[39m \u001b[38;5;66;03m# Emit the AST by calling the outer function, which returns the decorated function\u001b[39;00m\n\u001b[32m     41\u001b[39m ast = target.emit(create_my_parallel_program())\n",
      "\u001b[31mTypeError\u001b[39m: QASM2.__init__() got an unexpected keyword argument 'dialects'"
     ]
    }
   ],
   "source": [
    "from bloqade.qasm2.dialects import core, parallel # Import core dialect as well\n",
    "from bloqade.qasm2.emit import QASM2 # the QASM2 target\n",
    "from bloqade.qasm2.parse import pprint # the QASM2 pretty printer\n",
    "import math\n",
    "\n",
    "\n",
    "# Define the number of qubits for this specific program\n",
    "num_qubits_program = 3\n",
    "\n",
    "# Define an outer function that returns the decorated program\n",
    "def create_my_parallel_program():\n",
    "\n",
    "    @qasm2.extended\n",
    "    def my_parallel_program_inner(): # Define the actual program logic here\n",
    "        qreg = qasm2.qreg(num_qubits_program)\n",
    "\n",
    "        # Apply parallel U gate\n",
    "        qasm2.parallel.u(\n",
    "            qreg,          # Pass the list of qubits\n",
    "            theta=math.pi/2, # Specify the theta angle\n",
    "            phi=0,           # Specify the phi angle\n",
    "            lam=math.pi      # Specify the lambda angle\n",
    "        )\n",
    "\n",
    "        # Apply CZ and H gates sequentially\n",
    "        # Loop up to num_qubits_program\n",
    "        for i in range(1, num_qubits_program):\n",
    "            qasm2.cz(qreg[i - 1], qreg[i])\n",
    "            qasm2.h(qreg[i])\n",
    "\n",
    "        # No explicit return needed inside the decorated function\n",
    "\n",
    "    # Return the inner, decorated function object\n",
    "    return my_parallel_program_inner\n",
    "\n",
    "\n",
    "# Register the required dialects (core and parallel)\n",
    "# Note: QASM2, pprint, core, parallel are already imported in previous cells\n",
    "target = QASM2(dialects=[core, parallel])\n",
    "# Emit the AST by calling the outer function, which returns the decorated function\n",
    "ast = target.emit(create_my_parallel_program())\n",
    "pprint(ast)\n"
   ]
  }
 ],
 "metadata": {
  "kernelspec": {
   "display_name": "Python 3",
   "language": "python",
   "name": "python3"
  },
  "language_info": {
   "codemirror_mode": {
    "name": "ipython",
    "version": 3
   },
   "file_extension": ".py",
   "mimetype": "text/x-python",
   "name": "python",
   "nbconvert_exporter": "python",
   "pygments_lexer": "ipython3",
   "version": "3.11.11"
  }
 },
 "nbformat": 4,
 "nbformat_minor": 5
}
