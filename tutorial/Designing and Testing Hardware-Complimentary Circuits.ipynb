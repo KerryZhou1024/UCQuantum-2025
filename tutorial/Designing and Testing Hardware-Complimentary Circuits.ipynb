{
 "cells": [
  {
   "cell_type": "markdown",
   "id": "ad415b12a3178289",
   "metadata": {},
   "source": [
    "# Designing and Testing Hardware-Complementary Quantum Circuits\n",
    "\n",
    "In this notebook, we aim to explore differences between three specific but equivalent circuits. "
   ]
  },
  {
   "cell_type": "markdown",
   "id": "e2a50530",
   "metadata": {},
   "source": [
    "One key quality of quantum computing is entanglement. How would the maximumly entangled state look like?\n",
    "\n",
    "That state is known as the GHZ (Greenberger–Horne–Zeilinger) state. For $N$ qubits, it is defined as:\n",
    "\n",
    "$$ |GHZ\\rangle = \\frac{1}{\\sqrt{2}} (|0\\rangle^{\\otimes N} + |1\\rangle^{\\otimes N}) = \\frac{1}{\\sqrt{2}} (|00...0\\rangle + |11...1\\rangle) $$\n",
    "\n",
    "This state represents a superposition where all qubits are either in the state $|0\\rangle$ or all are in the state $|1\\rangle$.\n",
    "\n",
    "For the purpose of our tutorial, we will consider the case when $N$ is a power of 2. \n",
    "\n",
    "The simplest way to achieve this state is perhaps with a single Hadamard and expand it to all the qubits, one by one. \n",
    "\n",
    "Let's initialize by importing the relevant python packages. "
   ]
  },
  {
   "cell_type": "code",
   "execution_count": null,
   "id": "ba345b63",
   "metadata": {},
   "outputs": [],
   "source": [
    "import math\n",
    "\n",
    "from bloqade import qasm2\n",
    "from kirin.dialects import ilist"
   ]
  },
  {
   "cell_type": "code",
   "execution_count": null,
   "id": "47c0313f",
   "metadata": {},
   "outputs": [],
   "source": [
    "def ghz_linear(n: int):\n",
    "    n_qubits = int(2**n)\n",
    "\n",
    "    @qasm2.extended\n",
    "    def ghz_linear_program():\n",
    "\n",
    "        qreg = qasm2.qreg(n_qubits)\n",
    "        # Apply a Hadamard on the first qubit\n",
    "        qasm2.h(qreg[0])\n",
    "        # Create a cascading sequence of CX gates\n",
    "        # necessary for quantum computers that\n",
    "        # only have nearest-neighbor connectivity between qubits\n",
    "        for i in range(1, n_qubits):\n",
    "            qasm2.cx(qreg[i - 1], qreg[i])\n",
    "\n",
    "    return ghz_linear_program"
   ]
  },
  {
   "cell_type": "markdown",
   "id": "e8caf056",
   "metadata": {},
   "source": [
    "\"How would we change the circuit so that it would be equivalent as before?\" \n",
    "\n",
    "Here's a sneaky trick. A control gate is equivalent to a control z gate with a Hadamard gate on both ends of the target of control z gate. Graphically: "
   ]
  },
  {
   "cell_type": "markdown",
   "id": "942087f7",
   "metadata": {},
   "source": [
    "Now, what would happen if apply this equivalent changes to each of the control gate in circuit one? "
   ]
  }
 ],
 "metadata": {
  "kernelspec": {
   "display_name": "Python 3",
   "language": "python",
   "name": "python3"
  },
  "language_info": {
   "codemirror_mode": {
    "name": "ipython",
    "version": 2
   },
   "file_extension": ".py",
   "mimetype": "text/x-python",
   "name": "python",
   "nbconvert_exporter": "python",
   "pygments_lexer": "ipython2",
   "version": "2.7.6"
  }
 },
 "nbformat": 4,
 "nbformat_minor": 5
}
