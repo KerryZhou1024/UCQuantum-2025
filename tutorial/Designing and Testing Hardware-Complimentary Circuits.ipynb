{
 "cells": [
  {
   "cell_type": "markdown",
   "id": "ad415b12a3178289",
   "metadata": {},
   "source": [
    "# Designing and Testing Hardware-Complementary Quantum Circuits\n",
    "\n",
    "In this notebook, we aim to explore differences between three specific but equivalent circuits on QuEra's natural atom platform. "
   ]
  },
  {
   "cell_type": "markdown",
   "id": "e2a50530",
   "metadata": {},
   "source": [
    "One key quality of quantum computing is entanglement. How would the maximumly entangled state look like?\n",
    "\n",
    "That state is known as the GHZ (Greenberger–Horne–Zeilinger) state. For $N$ qubits, it is defined as:\n",
    "\n",
    "$$ |GHZ\\rangle = \\frac{1}{\\sqrt{2}} (|0\\rangle^{\\otimes N} + |1\\rangle^{\\otimes N}) = \\frac{1}{\\sqrt{2}} (|00...0\\rangle + |11...1\\rangle) $$\n",
    "\n",
    "This state represents a superposition where all qubits are either in the state $|0\\rangle$ or all are in the state $|1\\rangle$.\n",
    "\n",
    "For the purpose of our tutorial, we will consider the case when $N$ is a power of 2. \n",
    "\n",
    "The simplest way to achieve this state is perhaps with a single Hadamard and expand it to all the qubits, one by one. \n",
    "\n",
    "Let's initialize by importing the relevant python packages. "
   ]
  },
  {
   "cell_type": "code",
<<<<<<< HEAD
   "execution_count": 2,
=======
   "execution_count": 6,
   "id": "723573aa",
   "metadata": {},
   "outputs": [
    {
     "name": "stdout",
     "output_type": "stream",
     "text": [
      "Requirement already satisfied: bloqade in /Users/zhoukairui/Projects/Learning/Python/.conda/lib/python3.11/site-packages (0.23.0)\n",
      "Requirement already satisfied: numpy in /Users/zhoukairui/Projects/Learning/Python/.conda/lib/python3.11/site-packages (2.2.4)\n",
      "Requirement already satisfied: bloqade-analog~=0.16.3 in /Users/zhoukairui/Projects/Learning/Python/.conda/lib/python3.11/site-packages (from bloqade) (0.16.3)\n",
      "Requirement already satisfied: bloqade-circuit~=0.1.0 in /Users/zhoukairui/Projects/Learning/Python/.conda/lib/python3.11/site-packages (from bloqade-circuit[cirq,qasm2,qbraid,vis]~=0.1.0->bloqade) (0.1.0)\n",
      "Requirement already satisfied: amazon-braket-sdk>=1.78.0 in /Users/zhoukairui/Projects/Learning/Python/.conda/lib/python3.11/site-packages (from bloqade-analog~=0.16.3->bloqade) (1.91.0)\n",
      "Requirement already satisfied: beartype>=0.15.0 in /Users/zhoukairui/Projects/Learning/Python/.conda/lib/python3.11/site-packages (from bloqade-analog~=0.16.3->bloqade) (0.20.2)\n",
      "Requirement already satisfied: bokeh>=3.2.2 in /Users/zhoukairui/Projects/Learning/Python/.conda/lib/python3.11/site-packages (from bloqade-analog~=0.16.3->bloqade) (3.7.2)\n",
      "Requirement already satisfied: juliacall>=0.9.14 in /Users/zhoukairui/Projects/Learning/Python/.conda/lib/python3.11/site-packages (from bloqade-analog~=0.16.3->bloqade) (0.9.24)\n",
      "Requirement already satisfied: numba>=0.58.0 in /Users/zhoukairui/Projects/Learning/Python/.conda/lib/python3.11/site-packages (from bloqade-analog~=0.16.3->bloqade) (0.61.2)\n",
      "Requirement already satisfied: pandas>=2.1.0 in /Users/zhoukairui/Projects/Learning/Python/.conda/lib/python3.11/site-packages (from bloqade-analog~=0.16.3->bloqade) (2.2.3)\n",
      "Requirement already satisfied: plotext>=5.2.8 in /Users/zhoukairui/Projects/Learning/Python/.conda/lib/python3.11/site-packages (from bloqade-analog~=0.16.3->bloqade) (5.3.2)\n",
      "Requirement already satisfied: plum-dispatch>=2.2.2 in /Users/zhoukairui/Projects/Learning/Python/.conda/lib/python3.11/site-packages (from bloqade-analog~=0.16.3->bloqade) (2.5.7)\n",
      "Requirement already satisfied: pydantic>=2.0 in /Users/zhoukairui/Projects/Learning/Python/.conda/lib/python3.11/site-packages (from bloqade-analog~=0.16.3->bloqade) (2.10.6)\n",
      "Requirement already satisfied: requests-sigv4>=0.1.6 in /Users/zhoukairui/Projects/Learning/Python/.conda/lib/python3.11/site-packages (from bloqade-analog~=0.16.3->bloqade) (0.1.6)\n",
      "Requirement already satisfied: scipy>=1.9.3 in /Users/zhoukairui/Projects/Learning/Python/.conda/lib/python3.11/site-packages (from bloqade-analog~=0.16.3->bloqade) (1.15.2)\n",
      "Requirement already satisfied: simplejson>=3.19.1 in /Users/zhoukairui/Projects/Learning/Python/.conda/lib/python3.11/site-packages (from bloqade-analog~=0.16.3->bloqade) (3.20.1)\n",
      "Requirement already satisfied: tabulate>=0.9.0 in /Users/zhoukairui/Projects/Learning/Python/.conda/lib/python3.11/site-packages (from bloqade-analog~=0.16.3->bloqade) (0.9.0)\n",
      "Requirement already satisfied: kirin-toolchain~=0.16.0 in /Users/zhoukairui/Projects/Learning/Python/.conda/lib/python3.11/site-packages (from bloqade-circuit~=0.1.0->bloqade-circuit[cirq,qasm2,qbraid,vis]~=0.1.0->bloqade) (0.16.5)\n",
      "Requirement already satisfied: rich>=13.9.4 in /Users/zhoukairui/Projects/Learning/Python/.conda/lib/python3.11/site-packages (from bloqade-circuit~=0.1.0->bloqade-circuit[cirq,qasm2,qbraid,vis]~=0.1.0->bloqade) (14.0.0)\n",
      "Requirement already satisfied: cirq-core>=1.4.1 in /Users/zhoukairui/Projects/Learning/Python/.conda/lib/python3.11/site-packages (from bloqade-circuit[cirq,qasm2,qbraid,vis]~=0.1.0->bloqade) (1.5.0)\n",
      "Requirement already satisfied: lark>=1.2.2 in /Users/zhoukairui/Projects/Learning/Python/.conda/lib/python3.11/site-packages (from bloqade-circuit[cirq,qasm2,qbraid,vis]~=0.1.0->bloqade) (1.2.2)\n",
      "Requirement already satisfied: qbraid>=0.9.3 in /Users/zhoukairui/Projects/Learning/Python/.conda/lib/python3.11/site-packages (from bloqade-circuit[cirq,qasm2,qbraid,vis]~=0.1.0->bloqade) (0.9.5)\n",
      "Requirement already satisfied: ffmpeg>=1.4 in /Users/zhoukairui/Projects/Learning/Python/.conda/lib/python3.11/site-packages (from bloqade-circuit[cirq,qasm2,qbraid,vis]~=0.1.0->bloqade) (1.4)\n",
      "Requirement already satisfied: matplotlib>=3.9.2 in /Users/zhoukairui/Projects/Learning/Python/.conda/lib/python3.11/site-packages (from bloqade-circuit[cirq,qasm2,qbraid,vis]~=0.1.0->bloqade) (3.10.1)\n",
      "Requirement already satisfied: pyqt5>=5.15.11 in /Users/zhoukairui/Projects/Learning/Python/.conda/lib/python3.11/site-packages (from bloqade-circuit[cirq,qasm2,qbraid,vis]~=0.1.0->bloqade) (5.15.11)\n",
      "Requirement already satisfied: tqdm>=4.66.5 in /Users/zhoukairui/Projects/Learning/Python/.conda/lib/python3.11/site-packages (from bloqade-circuit[cirq,qasm2,qbraid,vis]~=0.1.0->bloqade) (4.67.1)\n",
      "Requirement already satisfied: amazon-braket-schemas>=1.23.0 in /Users/zhoukairui/Projects/Learning/Python/.conda/lib/python3.11/site-packages (from amazon-braket-sdk>=1.78.0->bloqade-analog~=0.16.3->bloqade) (1.23.3)\n",
      "Requirement already satisfied: amazon-braket-default-simulator>=1.26.0 in /Users/zhoukairui/Projects/Learning/Python/.conda/lib/python3.11/site-packages (from amazon-braket-sdk>=1.78.0->bloqade-analog~=0.16.3->bloqade) (1.26.4)\n",
      "Requirement already satisfied: oqpy~=0.3.5 in /Users/zhoukairui/Projects/Learning/Python/.conda/lib/python3.11/site-packages (from amazon-braket-sdk>=1.78.0->bloqade-analog~=0.16.3->bloqade) (0.3.7)\n",
      "Requirement already satisfied: backoff in /Users/zhoukairui/Projects/Learning/Python/.conda/lib/python3.11/site-packages (from amazon-braket-sdk>=1.78.0->bloqade-analog~=0.16.3->bloqade) (2.2.1)\n",
      "Requirement already satisfied: boltons in /Users/zhoukairui/Projects/Learning/Python/.conda/lib/python3.11/site-packages (from amazon-braket-sdk>=1.78.0->bloqade-analog~=0.16.3->bloqade) (25.0.0)\n",
      "Requirement already satisfied: boto3>=1.28.53 in /Users/zhoukairui/Projects/Learning/Python/.conda/lib/python3.11/site-packages (from amazon-braket-sdk>=1.78.0->bloqade-analog~=0.16.3->bloqade) (1.37.33)\n",
      "Requirement already satisfied: cloudpickle==2.2.1 in /Users/zhoukairui/Projects/Learning/Python/.conda/lib/python3.11/site-packages (from amazon-braket-sdk>=1.78.0->bloqade-analog~=0.16.3->bloqade) (2.2.1)\n",
      "Requirement already satisfied: nest-asyncio in /Users/zhoukairui/Projects/Learning/Python/.conda/lib/python3.11/site-packages (from amazon-braket-sdk>=1.78.0->bloqade-analog~=0.16.3->bloqade) (1.6.0)\n",
      "Requirement already satisfied: networkx in /Users/zhoukairui/Projects/Learning/Python/.conda/lib/python3.11/site-packages (from amazon-braket-sdk>=1.78.0->bloqade-analog~=0.16.3->bloqade) (3.4.2)\n",
      "Requirement already satisfied: openpulse in /Users/zhoukairui/Projects/Learning/Python/.conda/lib/python3.11/site-packages (from amazon-braket-sdk>=1.78.0->bloqade-analog~=0.16.3->bloqade) (1.0.1)\n",
      "Requirement already satisfied: openqasm3 in /Users/zhoukairui/Projects/Learning/Python/.conda/lib/python3.11/site-packages (from amazon-braket-sdk>=1.78.0->bloqade-analog~=0.16.3->bloqade) (1.0.1)\n",
      "Requirement already satisfied: sympy in /Users/zhoukairui/Projects/Learning/Python/.conda/lib/python3.11/site-packages (from amazon-braket-sdk>=1.78.0->bloqade-analog~=0.16.3->bloqade) (1.13.3)\n",
      "Requirement already satisfied: backports.entry-points-selectable in /Users/zhoukairui/Projects/Learning/Python/.conda/lib/python3.11/site-packages (from amazon-braket-sdk>=1.78.0->bloqade-analog~=0.16.3->bloqade) (1.3.0)\n",
      "Requirement already satisfied: Jinja2>=2.9 in /Users/zhoukairui/Projects/Learning/Python/.conda/lib/python3.11/site-packages (from bokeh>=3.2.2->bloqade-analog~=0.16.3->bloqade) (3.1.6)\n",
      "Requirement already satisfied: contourpy>=1.2 in /Users/zhoukairui/Projects/Learning/Python/.conda/lib/python3.11/site-packages (from bokeh>=3.2.2->bloqade-analog~=0.16.3->bloqade) (1.3.1)\n",
      "Requirement already satisfied: narwhals>=1.13 in /Users/zhoukairui/Projects/Learning/Python/.conda/lib/python3.11/site-packages (from bokeh>=3.2.2->bloqade-analog~=0.16.3->bloqade) (1.34.1)\n",
      "Requirement already satisfied: packaging>=16.8 in /Users/zhoukairui/Projects/Learning/Python/.conda/lib/python3.11/site-packages (from bokeh>=3.2.2->bloqade-analog~=0.16.3->bloqade) (24.2)\n",
      "Requirement already satisfied: pillow>=7.1.0 in /Users/zhoukairui/Projects/Learning/Python/.conda/lib/python3.11/site-packages (from bokeh>=3.2.2->bloqade-analog~=0.16.3->bloqade) (11.1.0)\n",
      "Requirement already satisfied: PyYAML>=3.10 in /Users/zhoukairui/Projects/Learning/Python/.conda/lib/python3.11/site-packages (from bokeh>=3.2.2->bloqade-analog~=0.16.3->bloqade) (6.0.2)\n",
      "Requirement already satisfied: tornado>=6.2 in /Users/zhoukairui/Projects/Learning/Python/.conda/lib/python3.11/site-packages (from bokeh>=3.2.2->bloqade-analog~=0.16.3->bloqade) (6.4.2)\n",
      "Requirement already satisfied: xyzservices>=2021.09.1 in /Users/zhoukairui/Projects/Learning/Python/.conda/lib/python3.11/site-packages (from bokeh>=3.2.2->bloqade-analog~=0.16.3->bloqade) (2025.1.0)\n",
      "Requirement already satisfied: attrs>=21.3.0 in /Users/zhoukairui/Projects/Learning/Python/.conda/lib/python3.11/site-packages (from cirq-core>=1.4.1->bloqade-circuit[cirq,qasm2,qbraid,vis]~=0.1.0->bloqade) (25.3.0)\n",
      "Requirement already satisfied: duet>=0.2.8 in /Users/zhoukairui/Projects/Learning/Python/.conda/lib/python3.11/site-packages (from cirq-core>=1.4.1->bloqade-circuit[cirq,qasm2,qbraid,vis]~=0.1.0->bloqade) (0.2.9)\n",
      "Requirement already satisfied: sortedcontainers~=2.0 in /Users/zhoukairui/Projects/Learning/Python/.conda/lib/python3.11/site-packages (from cirq-core>=1.4.1->bloqade-circuit[cirq,qasm2,qbraid,vis]~=0.1.0->bloqade) (2.4.0)\n",
      "Requirement already satisfied: typing_extensions>=4.2 in /Users/zhoukairui/Projects/Learning/Python/.conda/lib/python3.11/site-packages (from cirq-core>=1.4.1->bloqade-circuit[cirq,qasm2,qbraid,vis]~=0.1.0->bloqade) (4.13.2)\n",
      "Requirement already satisfied: ply>=3.6 in /Users/zhoukairui/Projects/Learning/Python/.conda/lib/python3.11/site-packages (from cirq-core[contrib]>=1.4.1; extra == \"cirq\"->bloqade-circuit[cirq,qasm2,qbraid,vis]~=0.1.0->bloqade) (3.11)\n",
      "Requirement already satisfied: pylatex~=1.4 in /Users/zhoukairui/Projects/Learning/Python/.conda/lib/python3.11/site-packages (from cirq-core[contrib]>=1.4.1; extra == \"cirq\"->bloqade-circuit[cirq,qasm2,qbraid,vis]~=0.1.0->bloqade) (1.4.2)\n",
      "Requirement already satisfied: quimb>=1.8 in /Users/zhoukairui/Projects/Learning/Python/.conda/lib/python3.11/site-packages (from cirq-core[contrib]>=1.4.1; extra == \"cirq\"->bloqade-circuit[cirq,qasm2,qbraid,vis]~=0.1.0->bloqade) (1.10.0)\n",
      "Requirement already satisfied: opt_einsum in /Users/zhoukairui/Projects/Learning/Python/.conda/lib/python3.11/site-packages (from cirq-core[contrib]>=1.4.1; extra == \"cirq\"->bloqade-circuit[cirq,qasm2,qbraid,vis]~=0.1.0->bloqade) (3.4.0)\n",
      "Requirement already satisfied: juliapkg~=0.1.8 in /Users/zhoukairui/Projects/Learning/Python/.conda/lib/python3.11/site-packages (from juliacall>=0.9.14->bloqade-analog~=0.16.3->bloqade) (0.1.16)\n",
      "Requirement already satisfied: cycler>=0.10 in /Users/zhoukairui/Projects/Learning/Python/.conda/lib/python3.11/site-packages (from matplotlib>=3.9.2->bloqade-circuit[cirq,qasm2,qbraid,vis]~=0.1.0->bloqade) (0.12.1)\n",
      "Requirement already satisfied: fonttools>=4.22.0 in /Users/zhoukairui/Projects/Learning/Python/.conda/lib/python3.11/site-packages (from matplotlib>=3.9.2->bloqade-circuit[cirq,qasm2,qbraid,vis]~=0.1.0->bloqade) (4.57.0)\n",
      "Requirement already satisfied: kiwisolver>=1.3.1 in /Users/zhoukairui/Projects/Learning/Python/.conda/lib/python3.11/site-packages (from matplotlib>=3.9.2->bloqade-circuit[cirq,qasm2,qbraid,vis]~=0.1.0->bloqade) (1.4.8)\n",
      "Requirement already satisfied: pyparsing>=2.3.1 in /Users/zhoukairui/Projects/Learning/Python/.conda/lib/python3.11/site-packages (from matplotlib>=3.9.2->bloqade-circuit[cirq,qasm2,qbraid,vis]~=0.1.0->bloqade) (3.2.3)\n",
      "Requirement already satisfied: python-dateutil>=2.7 in /Users/zhoukairui/Projects/Learning/Python/.conda/lib/python3.11/site-packages (from matplotlib>=3.9.2->bloqade-circuit[cirq,qasm2,qbraid,vis]~=0.1.0->bloqade) (2.9.0.post0)\n",
      "Requirement already satisfied: llvmlite<0.45,>=0.44.0dev0 in /Users/zhoukairui/Projects/Learning/Python/.conda/lib/python3.11/site-packages (from numba>=0.58.0->bloqade-analog~=0.16.3->bloqade) (0.44.0)\n",
      "Requirement already satisfied: pytz>=2020.1 in /Users/zhoukairui/Projects/Learning/Python/.conda/lib/python3.11/site-packages (from pandas>=2.1.0->bloqade-analog~=0.16.3->bloqade) (2025.2)\n",
      "Requirement already satisfied: tzdata>=2022.7 in /Users/zhoukairui/Projects/Learning/Python/.conda/lib/python3.11/site-packages (from pandas>=2.1.0->bloqade-analog~=0.16.3->bloqade) (2025.2)\n",
      "Requirement already satisfied: annotated-types>=0.6.0 in /Users/zhoukairui/Projects/Learning/Python/.conda/lib/python3.11/site-packages (from pydantic>=2.0->bloqade-analog~=0.16.3->bloqade) (0.7.0)\n",
      "Requirement already satisfied: pydantic-core==2.27.2 in /Users/zhoukairui/Projects/Learning/Python/.conda/lib/python3.11/site-packages (from pydantic>=2.0->bloqade-analog~=0.16.3->bloqade) (2.27.2)\n",
      "Requirement already satisfied: PyQt5-sip<13,>=12.15 in /Users/zhoukairui/Projects/Learning/Python/.conda/lib/python3.11/site-packages (from pyqt5>=5.15.11->bloqade-circuit[cirq,qasm2,qbraid,vis]~=0.1.0->bloqade) (12.17.0)\n",
      "Requirement already satisfied: PyQt5-Qt5<5.16.0,>=5.15.2 in /Users/zhoukairui/Projects/Learning/Python/.conda/lib/python3.11/site-packages (from pyqt5>=5.15.11->bloqade-circuit[cirq,qasm2,qbraid,vis]~=0.1.0->bloqade) (5.15.16)\n",
      "Requirement already satisfied: rustworkx>=0.15.0 in /Users/zhoukairui/Projects/Learning/Python/.conda/lib/python3.11/site-packages (from qbraid>=0.9.3->bloqade-circuit[cirq,qasm2,qbraid,vis]~=0.1.0->bloqade) (0.16.0)\n",
      "Requirement already satisfied: qbraid-core>=0.1.25 in /Users/zhoukairui/Projects/Learning/Python/.conda/lib/python3.11/site-packages (from qbraid>=0.9.3->bloqade-circuit[cirq,qasm2,qbraid,vis]~=0.1.0->bloqade) (0.1.36)\n",
      "Requirement already satisfied: pyqasm<0.4.0,>=0.3.0 in /Users/zhoukairui/Projects/Learning/Python/.conda/lib/python3.11/site-packages (from qbraid>=0.9.3->bloqade-circuit[cirq,qasm2,qbraid,vis]~=0.1.0->bloqade) (0.3.0)\n",
      "Requirement already satisfied: requests in /Users/zhoukairui/Projects/Learning/Python/.conda/lib/python3.11/site-packages (from requests-sigv4>=0.1.6->bloqade-analog~=0.16.3->bloqade) (2.32.3)\n",
      "Requirement already satisfied: requests-aws-sign in /Users/zhoukairui/Projects/Learning/Python/.conda/lib/python3.11/site-packages (from requests-sigv4>=0.1.6->bloqade-analog~=0.16.3->bloqade) (0.1.6)\n",
      "Requirement already satisfied: markdown-it-py>=2.2.0 in /Users/zhoukairui/Projects/Learning/Python/.conda/lib/python3.11/site-packages (from rich>=13.9.4->bloqade-circuit~=0.1.0->bloqade-circuit[cirq,qasm2,qbraid,vis]~=0.1.0->bloqade) (3.0.0)\n",
      "Requirement already satisfied: pygments<3.0.0,>=2.13.0 in /Users/zhoukairui/Projects/Learning/Python/.conda/lib/python3.11/site-packages (from rich>=13.9.4->bloqade-circuit~=0.1.0->bloqade-circuit[cirq,qasm2,qbraid,vis]~=0.1.0->bloqade) (2.19.1)\n",
      "Requirement already satisfied: antlr4-python3-runtime==4.9.2 in /Users/zhoukairui/Projects/Learning/Python/.conda/lib/python3.11/site-packages (from amazon-braket-default-simulator>=1.26.0->amazon-braket-sdk>=1.78.0->bloqade-analog~=0.16.3->bloqade) (4.9.2)\n",
      "Requirement already satisfied: botocore<1.38.0,>=1.37.33 in /Users/zhoukairui/Projects/Learning/Python/.conda/lib/python3.11/site-packages (from boto3>=1.28.53->amazon-braket-sdk>=1.78.0->bloqade-analog~=0.16.3->bloqade) (1.37.33)\n",
      "Requirement already satisfied: jmespath<2.0.0,>=0.7.1 in /Users/zhoukairui/Projects/Learning/Python/.conda/lib/python3.11/site-packages (from boto3>=1.28.53->amazon-braket-sdk>=1.78.0->bloqade-analog~=0.16.3->bloqade) (1.0.1)\n",
      "Requirement already satisfied: s3transfer<0.12.0,>=0.11.0 in /Users/zhoukairui/Projects/Learning/Python/.conda/lib/python3.11/site-packages (from boto3>=1.28.53->amazon-braket-sdk>=1.78.0->bloqade-analog~=0.16.3->bloqade) (0.11.4)\n",
      "Requirement already satisfied: juliapkg~=0.1.8 in /Users/zhoukairui/Projects/Learning/Python/.conda/lib/python3.11/site-packages (from juliacall>=0.9.14->bloqade-analog~=0.16.3->bloqade) (0.1.16)\n",
      "Requirement already satisfied: cycler>=0.10 in /Users/zhoukairui/Projects/Learning/Python/.conda/lib/python3.11/site-packages (from matplotlib>=3.9.2->bloqade-circuit[cirq,qasm2,qbraid,vis]~=0.1.0->bloqade) (0.12.1)\n",
      "Requirement already satisfied: fonttools>=4.22.0 in /Users/zhoukairui/Projects/Learning/Python/.conda/lib/python3.11/site-packages (from matplotlib>=3.9.2->bloqade-circuit[cirq,qasm2,qbraid,vis]~=0.1.0->bloqade) (4.57.0)\n",
      "Requirement already satisfied: kiwisolver>=1.3.1 in /Users/zhoukairui/Projects/Learning/Python/.conda/lib/python3.11/site-packages (from matplotlib>=3.9.2->bloqade-circuit[cirq,qasm2,qbraid,vis]~=0.1.0->bloqade) (1.4.8)\n",
      "Requirement already satisfied: pyparsing>=2.3.1 in /Users/zhoukairui/Projects/Learning/Python/.conda/lib/python3.11/site-packages (from matplotlib>=3.9.2->bloqade-circuit[cirq,qasm2,qbraid,vis]~=0.1.0->bloqade) (3.2.3)\n",
      "Requirement already satisfied: python-dateutil>=2.7 in /Users/zhoukairui/Projects/Learning/Python/.conda/lib/python3.11/site-packages (from matplotlib>=3.9.2->bloqade-circuit[cirq,qasm2,qbraid,vis]~=0.1.0->bloqade) (2.9.0.post0)\n",
      "Requirement already satisfied: llvmlite<0.45,>=0.44.0dev0 in /Users/zhoukairui/Projects/Learning/Python/.conda/lib/python3.11/site-packages (from numba>=0.58.0->bloqade-analog~=0.16.3->bloqade) (0.44.0)\n",
      "Requirement already satisfied: pytz>=2020.1 in /Users/zhoukairui/Projects/Learning/Python/.conda/lib/python3.11/site-packages (from pandas>=2.1.0->bloqade-analog~=0.16.3->bloqade) (2025.2)\n",
      "Requirement already satisfied: tzdata>=2022.7 in /Users/zhoukairui/Projects/Learning/Python/.conda/lib/python3.11/site-packages (from pandas>=2.1.0->bloqade-analog~=0.16.3->bloqade) (2025.2)\n",
      "Requirement already satisfied: annotated-types>=0.6.0 in /Users/zhoukairui/Projects/Learning/Python/.conda/lib/python3.11/site-packages (from pydantic>=2.0->bloqade-analog~=0.16.3->bloqade) (0.7.0)\n",
      "Requirement already satisfied: pydantic-core==2.27.2 in /Users/zhoukairui/Projects/Learning/Python/.conda/lib/python3.11/site-packages (from pydantic>=2.0->bloqade-analog~=0.16.3->bloqade) (2.27.2)\n",
      "Requirement already satisfied: PyQt5-sip<13,>=12.15 in /Users/zhoukairui/Projects/Learning/Python/.conda/lib/python3.11/site-packages (from pyqt5>=5.15.11->bloqade-circuit[cirq,qasm2,qbraid,vis]~=0.1.0->bloqade) (12.17.0)\n",
      "Requirement already satisfied: PyQt5-Qt5<5.16.0,>=5.15.2 in /Users/zhoukairui/Projects/Learning/Python/.conda/lib/python3.11/site-packages (from pyqt5>=5.15.11->bloqade-circuit[cirq,qasm2,qbraid,vis]~=0.1.0->bloqade) (5.15.16)\n",
      "Requirement already satisfied: rustworkx>=0.15.0 in /Users/zhoukairui/Projects/Learning/Python/.conda/lib/python3.11/site-packages (from qbraid>=0.9.3->bloqade-circuit[cirq,qasm2,qbraid,vis]~=0.1.0->bloqade) (0.16.0)\n",
      "Requirement already satisfied: qbraid-core>=0.1.25 in /Users/zhoukairui/Projects/Learning/Python/.conda/lib/python3.11/site-packages (from qbraid>=0.9.3->bloqade-circuit[cirq,qasm2,qbraid,vis]~=0.1.0->bloqade) (0.1.36)\n",
      "Requirement already satisfied: pyqasm<0.4.0,>=0.3.0 in /Users/zhoukairui/Projects/Learning/Python/.conda/lib/python3.11/site-packages (from qbraid>=0.9.3->bloqade-circuit[cirq,qasm2,qbraid,vis]~=0.1.0->bloqade) (0.3.0)\n",
      "Requirement already satisfied: requests in /Users/zhoukairui/Projects/Learning/Python/.conda/lib/python3.11/site-packages (from requests-sigv4>=0.1.6->bloqade-analog~=0.16.3->bloqade) (2.32.3)\n",
      "Requirement already satisfied: requests-aws-sign in /Users/zhoukairui/Projects/Learning/Python/.conda/lib/python3.11/site-packages (from requests-sigv4>=0.1.6->bloqade-analog~=0.16.3->bloqade) (0.1.6)\n",
      "Requirement already satisfied: markdown-it-py>=2.2.0 in /Users/zhoukairui/Projects/Learning/Python/.conda/lib/python3.11/site-packages (from rich>=13.9.4->bloqade-circuit~=0.1.0->bloqade-circuit[cirq,qasm2,qbraid,vis]~=0.1.0->bloqade) (3.0.0)\n",
      "Requirement already satisfied: pygments<3.0.0,>=2.13.0 in /Users/zhoukairui/Projects/Learning/Python/.conda/lib/python3.11/site-packages (from rich>=13.9.4->bloqade-circuit~=0.1.0->bloqade-circuit[cirq,qasm2,qbraid,vis]~=0.1.0->bloqade) (2.19.1)\n",
      "Requirement already satisfied: antlr4-python3-runtime==4.9.2 in /Users/zhoukairui/Projects/Learning/Python/.conda/lib/python3.11/site-packages (from amazon-braket-default-simulator>=1.26.0->amazon-braket-sdk>=1.78.0->bloqade-analog~=0.16.3->bloqade) (4.9.2)\n",
      "Requirement already satisfied: botocore<1.38.0,>=1.37.33 in /Users/zhoukairui/Projects/Learning/Python/.conda/lib/python3.11/site-packages (from boto3>=1.28.53->amazon-braket-sdk>=1.78.0->bloqade-analog~=0.16.3->bloqade) (1.37.33)\n",
      "Requirement already satisfied: jmespath<2.0.0,>=0.7.1 in /Users/zhoukairui/Projects/Learning/Python/.conda/lib/python3.11/site-packages (from boto3>=1.28.53->amazon-braket-sdk>=1.78.0->bloqade-analog~=0.16.3->bloqade) (1.0.1)\n",
      "Requirement already satisfied: s3transfer<0.12.0,>=0.11.0 in /Users/zhoukairui/Projects/Learning/Python/.conda/lib/python3.11/site-packages (from boto3>=1.28.53->amazon-braket-sdk>=1.78.0->bloqade-analog~=0.16.3->bloqade) (0.11.4)\n",
      "Requirement already satisfied: MarkupSafe>=2.0 in /Users/zhoukairui/Projects/Learning/Python/.conda/lib/python3.11/site-packages (from Jinja2>=2.9->bokeh>=3.2.2->bloqade-analog~=0.16.3->bloqade) (3.0.2)\n",
      "Requirement already satisfied: filelock<4.0,>=3.16 in /Users/zhoukairui/Projects/Learning/Python/.conda/lib/python3.11/site-packages (from juliapkg~=0.1.8->juliacall>=0.9.14->bloqade-analog~=0.16.3->bloqade) (3.18.0)\n",
      "Requirement already satisfied: semver<4.0,>=3.0 in /Users/zhoukairui/Projects/Learning/Python/.conda/lib/python3.11/site-packages (from juliapkg~=0.1.8->juliacall>=0.9.14->bloqade-analog~=0.16.3->bloqade) (3.0.4)\n",
      "Requirement already satisfied: mdurl~=0.1 in /Users/zhoukairui/Projects/Learning/Python/.conda/lib/python3.11/site-packages (from markdown-it-py>=2.2.0->rich>=13.9.4->bloqade-circuit~=0.1.0->bloqade-circuit[cirq,qasm2,qbraid,vis]~=0.1.0->bloqade) (0.1.2)\n",
      "Requirement already satisfied: mypy-extensions>=0.2.0 in /Users/zhoukairui/Projects/Learning/Python/.conda/lib/python3.11/site-packages (from oqpy~=0.3.5->amazon-braket-sdk>=1.78.0->bloqade-analog~=0.16.3->bloqade) (1.0.0)\n",
      "Requirement already satisfied: ordered-set in /Users/zhoukairui/Projects/Learning/Python/.conda/lib/python3.11/site-packages (from pylatex~=1.4->cirq-core[contrib]>=1.4.1; extra == \"cirq\"->bloqade-circuit[cirq,qasm2,qbraid,vis]~=0.1.0->bloqade) (4.1.0)\n",
      "Requirement already satisfied: six>=1.5 in /Users/zhoukairui/Projects/Learning/Python/.conda/lib/python3.11/site-packages (from python-dateutil>=2.7->matplotlib>=3.9.2->bloqade-circuit[cirq,qasm2,qbraid,vis]~=0.1.0->bloqade) (1.17.0)\n",
      "Requirement already satisfied: urllib3 in /Users/zhoukairui/Projects/Learning/Python/.conda/lib/python3.11/site-packages (from qbraid-core>=0.1.25->qbraid>=0.9.3->bloqade-circuit[cirq,qasm2,qbraid,vis]~=0.1.0->bloqade) (2.4.0)\n",
      "Requirement already satisfied: autoray>=0.6.12 in /Users/zhoukairui/Projects/Learning/Python/.conda/lib/python3.11/site-packages (from quimb>=1.8->cirq-core[contrib]>=1.4.1; extra == \"cirq\"->bloqade-circuit[cirq,qasm2,qbraid,vis]~=0.1.0->bloqade) (0.7.1)\n",
      "Requirement already satisfied: cotengra>=0.6.1 in /Users/zhoukairui/Projects/Learning/Python/.conda/lib/python3.11/site-packages (from quimb>=1.8->cirq-core[contrib]>=1.4.1; extra == \"cirq\"->bloqade-circuit[cirq,qasm2,qbraid,vis]~=0.1.0->bloqade) (0.7.2)\n",
      "Requirement already satisfied: cytoolz>=0.8.0 in /Users/zhoukairui/Projects/Learning/Python/.conda/lib/python3.11/site-packages (from quimb>=1.8->cirq-core[contrib]>=1.4.1; extra == \"cirq\"->bloqade-circuit[cirq,qasm2,qbraid,vis]~=0.1.0->bloqade) (1.0.1)\n",
      "Requirement already satisfied: psutil>=4.3.1 in /Users/zhoukairui/Projects/Learning/Python/.conda/lib/python3.11/site-packages (from quimb>=1.8->cirq-core[contrib]>=1.4.1; extra == \"cirq\"->bloqade-circuit[cirq,qasm2,qbraid,vis]~=0.1.0->bloqade) (5.9.0)\n",
      "Requirement already satisfied: charset-normalizer<4,>=2 in /Users/zhoukairui/Projects/Learning/Python/.conda/lib/python3.11/site-packages (from requests->requests-sigv4>=0.1.6->bloqade-analog~=0.16.3->bloqade) (3.4.1)\n",
      "Requirement already satisfied: MarkupSafe>=2.0 in /Users/zhoukairui/Projects/Learning/Python/.conda/lib/python3.11/site-packages (from Jinja2>=2.9->bokeh>=3.2.2->bloqade-analog~=0.16.3->bloqade) (3.0.2)\n",
      "Requirement already satisfied: filelock<4.0,>=3.16 in /Users/zhoukairui/Projects/Learning/Python/.conda/lib/python3.11/site-packages (from juliapkg~=0.1.8->juliacall>=0.9.14->bloqade-analog~=0.16.3->bloqade) (3.18.0)\n",
      "Requirement already satisfied: semver<4.0,>=3.0 in /Users/zhoukairui/Projects/Learning/Python/.conda/lib/python3.11/site-packages (from juliapkg~=0.1.8->juliacall>=0.9.14->bloqade-analog~=0.16.3->bloqade) (3.0.4)\n",
      "Requirement already satisfied: mdurl~=0.1 in /Users/zhoukairui/Projects/Learning/Python/.conda/lib/python3.11/site-packages (from markdown-it-py>=2.2.0->rich>=13.9.4->bloqade-circuit~=0.1.0->bloqade-circuit[cirq,qasm2,qbraid,vis]~=0.1.0->bloqade) (0.1.2)\n",
      "Requirement already satisfied: mypy-extensions>=0.2.0 in /Users/zhoukairui/Projects/Learning/Python/.conda/lib/python3.11/site-packages (from oqpy~=0.3.5->amazon-braket-sdk>=1.78.0->bloqade-analog~=0.16.3->bloqade) (1.0.0)\n",
      "Requirement already satisfied: ordered-set in /Users/zhoukairui/Projects/Learning/Python/.conda/lib/python3.11/site-packages (from pylatex~=1.4->cirq-core[contrib]>=1.4.1; extra == \"cirq\"->bloqade-circuit[cirq,qasm2,qbraid,vis]~=0.1.0->bloqade) (4.1.0)\n",
      "Requirement already satisfied: six>=1.5 in /Users/zhoukairui/Projects/Learning/Python/.conda/lib/python3.11/site-packages (from python-dateutil>=2.7->matplotlib>=3.9.2->bloqade-circuit[cirq,qasm2,qbraid,vis]~=0.1.0->bloqade) (1.17.0)\n",
      "Requirement already satisfied: urllib3 in /Users/zhoukairui/Projects/Learning/Python/.conda/lib/python3.11/site-packages (from qbraid-core>=0.1.25->qbraid>=0.9.3->bloqade-circuit[cirq,qasm2,qbraid,vis]~=0.1.0->bloqade) (2.4.0)\n",
      "Requirement already satisfied: autoray>=0.6.12 in /Users/zhoukairui/Projects/Learning/Python/.conda/lib/python3.11/site-packages (from quimb>=1.8->cirq-core[contrib]>=1.4.1; extra == \"cirq\"->bloqade-circuit[cirq,qasm2,qbraid,vis]~=0.1.0->bloqade) (0.7.1)\n",
      "Requirement already satisfied: cotengra>=0.6.1 in /Users/zhoukairui/Projects/Learning/Python/.conda/lib/python3.11/site-packages (from quimb>=1.8->cirq-core[contrib]>=1.4.1; extra == \"cirq\"->bloqade-circuit[cirq,qasm2,qbraid,vis]~=0.1.0->bloqade) (0.7.2)\n",
      "Requirement already satisfied: cytoolz>=0.8.0 in /Users/zhoukairui/Projects/Learning/Python/.conda/lib/python3.11/site-packages (from quimb>=1.8->cirq-core[contrib]>=1.4.1; extra == \"cirq\"->bloqade-circuit[cirq,qasm2,qbraid,vis]~=0.1.0->bloqade) (1.0.1)\n",
      "Requirement already satisfied: psutil>=4.3.1 in /Users/zhoukairui/Projects/Learning/Python/.conda/lib/python3.11/site-packages (from quimb>=1.8->cirq-core[contrib]>=1.4.1; extra == \"cirq\"->bloqade-circuit[cirq,qasm2,qbraid,vis]~=0.1.0->bloqade) (5.9.0)\n",
      "Requirement already satisfied: charset-normalizer<4,>=2 in /Users/zhoukairui/Projects/Learning/Python/.conda/lib/python3.11/site-packages (from requests->requests-sigv4>=0.1.6->bloqade-analog~=0.16.3->bloqade) (3.4.1)\n",
      "Requirement already satisfied: idna<4,>=2.5 in /Users/zhoukairui/Projects/Learning/Python/.conda/lib/python3.11/site-packages (from requests->requests-sigv4>=0.1.6->bloqade-analog~=0.16.3->bloqade) (3.10)\n",
      "Requirement already satisfied: certifi>=2017.4.17 in /Users/zhoukairui/Projects/Learning/Python/.conda/lib/python3.11/site-packages (from requests->requests-sigv4>=0.1.6->bloqade-analog~=0.16.3->bloqade) (2025.1.31)\n",
      "Requirement already satisfied: mpmath<1.4,>=1.1.0 in /Users/zhoukairui/Projects/Learning/Python/.conda/lib/python3.11/site-packages (from sympy->amazon-braket-sdk>=1.78.0->bloqade-analog~=0.16.3->bloqade) (1.3.0)\n",
      "Requirement already satisfied: toolz>=0.8.0 in /Users/zhoukairui/Projects/Learning/Python/.conda/lib/python3.11/site-packages (from cytoolz>=0.8.0->quimb>=1.8->cirq-core[contrib]>=1.4.1; extra == \"cirq\"->bloqade-circuit[cirq,qasm2,qbraid,vis]~=0.1.0->bloqade) (1.0.0)\n",
      "Requirement already satisfied: idna<4,>=2.5 in /Users/zhoukairui/Projects/Learning/Python/.conda/lib/python3.11/site-packages (from requests->requests-sigv4>=0.1.6->bloqade-analog~=0.16.3->bloqade) (3.10)\n",
      "Requirement already satisfied: certifi>=2017.4.17 in /Users/zhoukairui/Projects/Learning/Python/.conda/lib/python3.11/site-packages (from requests->requests-sigv4>=0.1.6->bloqade-analog~=0.16.3->bloqade) (2025.1.31)\n",
      "Requirement already satisfied: mpmath<1.4,>=1.1.0 in /Users/zhoukairui/Projects/Learning/Python/.conda/lib/python3.11/site-packages (from sympy->amazon-braket-sdk>=1.78.0->bloqade-analog~=0.16.3->bloqade) (1.3.0)\n",
      "Requirement already satisfied: toolz>=0.8.0 in /Users/zhoukairui/Projects/Learning/Python/.conda/lib/python3.11/site-packages (from cytoolz>=0.8.0->quimb>=1.8->cirq-core[contrib]>=1.4.1; extra == \"cirq\"->bloqade-circuit[cirq,qasm2,qbraid,vis]~=0.1.0->bloqade) (1.0.0)\n",
      "Note: you may need to restart the kernel to use updated packages.\n",
      "Note: you may need to restart the kernel to use updated packages.\n"
     ]
    }
   ],
   "source": [
    "%pip install bloqade numpy"
   ]
  },
  {
   "cell_type": "code",
   "execution_count": 7,
>>>>>>> 28cb58ab65ab0065f3d3958a713b166a4e94ac1c
   "id": "ba345b63",
   "metadata": {
    "ExecuteTime": {
     "end_time": "2025-04-13T14:03:24.758523Z",
     "start_time": "2025-04-13T14:03:24.749487Z"
    }
   },
   "outputs": [],
   "source": [
    "import math\n",
    "from bloqade.pyqrack import PyQrack\n",
    "\n",
    "from bloqade import qasm2\n",
    "from kirin.dialects import ilist"
   ]
  },
  {
   "cell_type": "markdown",
   "id": "1ff3da3c6d09d3bc",
   "metadata": {},
   "source": [
    "Apply Hadamard to the first qubit of the register, then multiple CZs ascending the register."
   ]
  },
  {
   "cell_type": "code",
<<<<<<< HEAD
   "execution_count": 3,
=======
   "execution_count": 8,
>>>>>>> 28cb58ab65ab0065f3d3958a713b166a4e94ac1c
   "id": "47c0313f",
   "metadata": {
    "ExecuteTime": {
     "end_time": "2025-04-13T14:03:24.769051Z",
     "start_time": "2025-04-13T14:03:24.764844Z"
    }
   },
   "outputs": [],
   "source": [
    "def ghz_linear():\n",
    "    n = 3\n",
    "    n_qubits = int(2**n)\n",
    "\n",
    "    @qasm2.extended\n",
    "    def ghz_linear_program():\n",
    "\n",
    "        qreg = qasm2.qreg(n_qubits)\n",
    "        # Apply a Hadamard on the first qubit\n",
    "        qasm2.h(qreg[0])\n",
    "        # Create a cascading sequence of CX gates\n",
    "        # necessary for quantum computers that\n",
    "        # only have nearest-neighbor connectivity between qubits\n",
    "        for i in range(1, n_qubits):\n",
    "            qasm2.cx(qreg[i - 1], qreg[i])\n",
    "\n",
    "    return ghz_linear_program"
   ]
  },
  {
   "cell_type": "markdown",
   "id": "e8caf056",
   "metadata": {},
   "source": [
    "# Neutral Atom Computing Advantages & Programming Strategies\n",
    "Neutral-atom quantum computing leverages the flexibility of entangling arbitrary pairs of qubits, high gate parallelization, and a variety of native gates. This leads to a large compilation design space.\n",
    "\n",
<<<<<<< HEAD
    "Programming strategies for neutral-atom quantum hardware, supported by tools like Bloqade, involve:\n",
    "\n",
    "* Extending QASM programming with annotations, for loops, and if statements to efficiently represent parallelizable and global gate structures.\n",
    "   \n",
    "* Considering specific design rules of neutral-atom systems to optimize circuit layout and performance. \n",
    "   \n",
    "* Using kernel structures to co-design circuits for hardware awareness. \n",
    "   \n",
    "* Using native gate sets like Z-rotations and XY-rotations, with a focus on global operations to minimize errors.\n",
    "   \n",
    "* Managing atom shuttling between storage and gate zones for entangling operations, while adhering to rules that prevent atom collisions and maintain order."
=======
    "Here's a sneaky trick. A control gate is equivalent to a control z gate with a Hadamard gate on both ends of the target of control z gate. Graphically:\n",
    "\n",
    "![CNOT equivalence](image/IMG_9576.jpeg)\n"
>>>>>>> 28cb58ab65ab0065f3d3958a713b166a4e94ac1c
   ]
  },
  {
   "cell_type": "markdown",
<<<<<<< HEAD
   "id": "32626d56",
   "metadata": {},
   "source": []
  },
  {
   "cell_type": "markdown",
   "id": "f3b4bfde",
   "metadata": {},
   "source": []
  },
  {
   "cell_type": "markdown",
=======
>>>>>>> 28cb58ab65ab0065f3d3958a713b166a4e94ac1c
   "id": "28f58daf07f39a00",
   "metadata": {},
   "source": [
    "# GHZPrep First Optimization\n",
    "The first optimization that we can make is to try to use global gates instead of local gates, wherever possible.\n",
    "<br>\n",
    "<br> Notice that if we expand every CNOT in the circuit, every qubit in the register will have a Hadamard gate as its first operation. If we replace all these single-qubit gates with just one global gate, substituting H for an equivalent $U(\\pi/2, 0, \\pi)$ gate, then the circuit is now optimized.\n",
    "<br>\n",
    "There is still more potential for optimization!\n",
    "\n",
    "Now, what would happen if apply this equivalent changes to each of the control gate in circuit one?\n",
    "\n",
    "\n",
    "![CNOT expansion](image/IMG_9577.jpeg)\n",
    "\n",
    "Observe that, quite elegantly, a Hadamard gate can be found at the beginning of each line. This can be replaced *global* Hadamard gate: a Hadamard gate that strike all qubits at the same time. The proper implementation is a global/parallel $U(\\pi/2, 0, \\pi)$ gate, but they are the same operation.\n",
    "<br>\n",
    "This is one occasion of QuEra's neutral atom hardware platform truly shines.\n",
    "\n",
    "After the global Hadamard gate, we are left with a sequence of Control-Z (CZ) gates, still arranged in a linear chain connecting adjacent qubits. For each qubit, Hadamard gates are applied after being the target for a first CZ, and before being the control bit for the second. While it may seem tempting to \"globalize\" the second set of hadamard gates, there are CZ gates between each one, so they are left alone.\n",
    "\n",
    "![First optimization](image/IMG_8645.jpg)\n"
   ]
  },
  {
   "cell_type": "code",
<<<<<<< HEAD
   "execution_count": 4,
=======
   "execution_count": 9,
>>>>>>> 28cb58ab65ab0065f3d3958a713b166a4e94ac1c
   "id": "8aab611a4235fbc4",
   "metadata": {
    "ExecuteTime": {
     "end_time": "2025-04-13T14:03:24.777339Z",
     "start_time": "2025-04-13T14:03:24.774861Z"
    }
   },
   "outputs": [],
   "source": [
    "from kirin.dialects import ilist\n",
    "from bloqade.qasm2.dialects import core, parallel # Import core dialect as well\n",
    "from bloqade import qasm2 as qasm2\n",
    "import math\n",
    "\n",
    "def ghz_global():\n",
    "    n = 3\n",
    "    num_qubits_program = 2**n\n",
    "    @qasm2.extended\n",
    "    def ghz_global_inner():\n",
    "\n",
    "        qreg = qasm2.qreg(num_qubits_program)\n",
    "\n",
    "        # Apply parallel U gate\n",
    "        qasm2.parallel.u(\n",
    "            list(qreg),    # Pass the list of qubits\n",
    "            theta=math.pi/2, # Specify the theta angle\n",
    "            phi=0,           # Specify the phi angle\n",
    "            lam=math.pi      # Specify the lambda angle\n",
    "        )\n",
    "\n",
    "        # Apply CZ and H gates sequentially\n",
    "        # Loop up to num_qubits_program\n",
    "        for i in range(1, num_qubits_program):\n",
    "            qasm2.cz(qreg[i - 1], qreg[i])\n",
    "            qasm2.h(qreg[i])\n",
    "\n",
<<<<<<< HEAD
    "    return ghz_global_inner\n"
=======
    "    return GHZ_global_inner\n"
>>>>>>> 28cb58ab65ab0065f3d3958a713b166a4e94ac1c
   ]
  },
  {
   "cell_type": "markdown",
   "id": "16887dc71194a20e",
   "metadata": {},
   "source": [
    "# GHZPrep Second Optimization\n",
    "The circuit which creates a GHZ state also has an alternate variant which greatly reduces its depth. The depth of a circuit is the number of time steps needed to execute the circuit to completion, which generally correlates with larger error the larger the depth is.\n",
    "<br><br>\n",
    "Here it can be reduced by changing the order in which CNOT gates are executed, allowing some to be done in parallel. Additionally, the same global-hadamard optimization can be made here. The circuit and a diagram are below.\n",
    "\n"
   ]
  },
  {
   "cell_type": "code",
<<<<<<< HEAD
   "execution_count": 5,
=======
   "execution_count": 4,
>>>>>>> 28cb58ab65ab0065f3d3958a713b166a4e94ac1c
   "id": "c76d37c0d2823f21",
   "metadata": {
    "ExecuteTime": {
     "end_time": "2025-04-13T14:03:24.783483Z",
     "start_time": "2025-04-13T14:03:24.781218Z"
    }
   },
   "outputs": [],
   "source": [
    "def ghz_parallel():\n",
    "\n",
    "    n = 3 #2**n qubits\n",
    "\n",
    "    @qasm2.extended\n",
    "    def ghz_parallel_inner():\n",
    "        qreg = qasm2.qreg(2**n)\n",
    "\n",
    "        # Apply parallel U gate\n",
    "        qasm2.parallel.u(list(qreg),theta=math.pi/2,phi=0,lam=math.pi )\n",
    "\n",
    "        #layer 0, cz goes from 0 to n/2, layer 1, cz from 0 to n/4, n/2 to 3n/4, etc...\n",
    "        for layer in range(0, n):\n",
    "            for gate in range(0,2**layer):\n",
    "                qasm2.cz(qreg[gate*2**(n-layer-1)], qreg[(gate+1)*2**(n-layer-1)])\n",
    "\n",
<<<<<<< HEAD
    "    return ghz_parallel_inner"
=======
    "    return GHZ_parallel_inner"
>>>>>>> 28cb58ab65ab0065f3d3958a713b166a4e94ac1c
   ]
  },
  {
   "cell_type": "markdown",
   "id": "508f0fc3bdc7b544",
   "metadata": {},
   "source": [
<<<<<<< HEAD
    "![First optimization](image/IMG_8646.jpg)"
   ]
  },
  {
   "cell_type": "markdown",
   "id": "8075c1f7529ee673",
   "metadata": {},
   "source": [
    "Note: The Benchmarker DOES NOT WORK due to lack of noise model implementation and data graphing scripts."
   ]
  },
  {
   "cell_type": "code",
   "execution_count": 6,
=======
    "![First optimization](image/IMG_9573.jpeg)"
   ]
  },
  {
   "cell_type": "code",
   "execution_count": 5,
>>>>>>> 28cb58ab65ab0065f3d3958a713b166a4e94ac1c
   "id": "6a55ee8edd46d966",
   "metadata": {
    "ExecuteTime": {
     "end_time": "2025-04-13T14:03:25.225448Z",
     "start_time": "2025-04-13T14:03:24.786781Z"
    }
   },
<<<<<<< HEAD
   "outputs": [
    {
     "ename": "DialectLoweringError",
     "evalue": "unsupported callee type: <class 'list'>\n\n# Apply CZ and H gates sequentially\n# Loop up to num_qubits_program\nfor i in range(1, num_qubits_program):\n--------^\n    qasm2.cz(qreg[i - 1], qreg[i])\n    qasm2.h(qreg[i])\n",
     "output_type": "error",
     "traceback": [
      "\u001b[0;31m---------------------------------------------------------------------------\u001b[0m",
      "\u001b[0;31mDialectLoweringError\u001b[0m                      Traceback (most recent call last)",
      "File \u001b[0;32m~/miniconda3/lib/python3.12/site-packages/kirin/lowering/state.py:221\u001b[0m, in \u001b[0;36mLoweringState.__dispatch_Call\u001b[0;34m(self, node)\u001b[0m\n\u001b[1;32m    220\u001b[0m \u001b[38;5;28;01mtry\u001b[39;00m:\n\u001b[0;32m--> 221\u001b[0m     \u001b[38;5;28;01mreturn\u001b[39;00m \u001b[38;5;28;43mself\u001b[39;49m\u001b[38;5;241;43m.\u001b[39;49m\u001b[43m__lower_Call_local\u001b[49m\u001b[43m(\u001b[49m\u001b[43mnode\u001b[49m\u001b[43m)\u001b[49m\n\u001b[1;32m    222\u001b[0m \u001b[38;5;28;01mexcept\u001b[39;00m DialectLoweringError:\n\u001b[1;32m    223\u001b[0m     \u001b[38;5;66;03m# symbol exist in global, but not ir.Statement, not found in locals either\u001b[39;00m\n\u001b[1;32m    224\u001b[0m     \u001b[38;5;66;03m# this means the symbol is referring to an external uncallable object\u001b[39;00m\n",
      "File \u001b[0;32m~/miniconda3/lib/python3.12/site-packages/kirin/lowering/state.py:236\u001b[0m, in \u001b[0;36mLoweringState.__lower_Call_local\u001b[0;34m(self, node)\u001b[0m\n\u001b[1;32m    235\u001b[0m \u001b[38;5;28;01mdef\u001b[39;00m\u001b[38;5;250m \u001b[39m\u001b[38;5;21m__lower_Call_local\u001b[39m(\u001b[38;5;28mself\u001b[39m, node: ast\u001b[38;5;241m.\u001b[39mCall) \u001b[38;5;241m-\u001b[39m\u001b[38;5;241m>\u001b[39m Result:\n\u001b[0;32m--> 236\u001b[0m     callee \u001b[38;5;241m=\u001b[39m \u001b[38;5;28;43mself\u001b[39;49m\u001b[38;5;241;43m.\u001b[39;49m\u001b[43mvisit\u001b[49m\u001b[43m(\u001b[49m\u001b[43mnode\u001b[49m\u001b[38;5;241;43m.\u001b[39;49m\u001b[43mfunc\u001b[49m\u001b[43m)\u001b[49m\u001b[38;5;241m.\u001b[39mexpect_one()\n\u001b[1;32m    237\u001b[0m     \u001b[38;5;28;01mif\u001b[39;00m \u001b[38;5;124m\"\u001b[39m\u001b[38;5;124mCall_local\u001b[39m\u001b[38;5;124m\"\u001b[39m \u001b[38;5;129;01min\u001b[39;00m \u001b[38;5;28mself\u001b[39m\u001b[38;5;241m.\u001b[39mregistry:\n",
      "File \u001b[0;32m~/miniconda3/lib/python3.12/site-packages/kirin/lowering/state.py:121\u001b[0m, in \u001b[0;36mLoweringState.visit\u001b[0;34m(self, node)\u001b[0m\n\u001b[1;32m    120\u001b[0m \u001b[38;5;28;01mif\u001b[39;00m name \u001b[38;5;129;01min\u001b[39;00m \u001b[38;5;28mself\u001b[39m\u001b[38;5;241m.\u001b[39mregistry:\n\u001b[0;32m--> 121\u001b[0m     \u001b[38;5;28;01mreturn\u001b[39;00m \u001b[38;5;28;43mself\u001b[39;49m\u001b[38;5;241;43m.\u001b[39;49m\u001b[43mregistry\u001b[49m\u001b[43m[\u001b[49m\u001b[43mname\u001b[49m\u001b[43m]\u001b[49m\u001b[38;5;241;43m.\u001b[39;49m\u001b[43mlower\u001b[49m\u001b[43m(\u001b[49m\u001b[38;5;28;43mself\u001b[39;49m\u001b[43m,\u001b[49m\u001b[43m \u001b[49m\u001b[43mnode\u001b[49m\u001b[43m)\u001b[49m\n\u001b[1;32m    122\u001b[0m \u001b[38;5;28;01melif\u001b[39;00m \u001b[38;5;28misinstance\u001b[39m(node, ast\u001b[38;5;241m.\u001b[39mCall):\n\u001b[1;32m    123\u001b[0m     \u001b[38;5;66;03m# NOTE: if lower_Call is implemented,\u001b[39;00m\n\u001b[1;32m    124\u001b[0m     \u001b[38;5;66;03m# it will be called first before __dispatch_Call\u001b[39;00m\n\u001b[1;32m    125\u001b[0m     \u001b[38;5;66;03m# because \"Call\" exists in self.registry\u001b[39;00m\n",
      "File \u001b[0;32m~/miniconda3/lib/python3.12/site-packages/kirin/lowering/dialect.py:26\u001b[0m, in \u001b[0;36mFromPythonAST.lower\u001b[0;34m(self, state, node)\u001b[0m\n\u001b[1;32m     25\u001b[0m \u001b[38;5;250m\u001b[39m\u001b[38;5;124;03m\"\"\"Entry point of dialect specific lowering.\"\"\"\u001b[39;00m\n\u001b[0;32m---> 26\u001b[0m \u001b[38;5;28;01mreturn\u001b[39;00m \u001b[38;5;28;43mgetattr\u001b[39;49m\u001b[43m(\u001b[49m\u001b[38;5;28;43mself\u001b[39;49m\u001b[43m,\u001b[49m\u001b[43m \u001b[49m\u001b[38;5;124;43mf\u001b[39;49m\u001b[38;5;124;43m\"\u001b[39;49m\u001b[38;5;124;43mlower_\u001b[39;49m\u001b[38;5;132;43;01m{\u001b[39;49;00m\u001b[43mnode\u001b[49m\u001b[38;5;241;43m.\u001b[39;49m\u001b[38;5;18;43m__class__\u001b[39;49m\u001b[38;5;241;43m.\u001b[39;49m\u001b[38;5;18;43m__name__\u001b[39;49m\u001b[38;5;132;43;01m}\u001b[39;49;00m\u001b[38;5;124;43m\"\u001b[39;49m\u001b[43m,\u001b[49m\u001b[43m \u001b[49m\u001b[38;5;28;43mself\u001b[39;49m\u001b[38;5;241;43m.\u001b[39;49m\u001b[43munreachable\u001b[49m\u001b[43m)\u001b[49m\u001b[43m(\u001b[49m\n\u001b[1;32m     27\u001b[0m \u001b[43m    \u001b[49m\u001b[43mstate\u001b[49m\u001b[43m,\u001b[49m\u001b[43m \u001b[49m\u001b[43mnode\u001b[49m\n\u001b[1;32m     28\u001b[0m \u001b[43m\u001b[49m\u001b[43m)\u001b[49m\n",
      "File \u001b[0;32m~/miniconda3/lib/python3.12/site-packages/kirin/dialects/py/base.py:24\u001b[0m, in \u001b[0;36mPythonLowering.lower_Name\u001b[0;34m(self, state, node)\u001b[0m\n\u001b[1;32m     23\u001b[0m \u001b[38;5;28;01mif\u001b[39;00m value \u001b[38;5;129;01mis\u001b[39;00m \u001b[38;5;28;01mNone\u001b[39;00m:\n\u001b[0;32m---> 24\u001b[0m     \u001b[38;5;28;01mraise\u001b[39;00m exceptions\u001b[38;5;241m.\u001b[39mDialectLoweringError(\u001b[38;5;124mf\u001b[39m\u001b[38;5;124m\"\u001b[39m\u001b[38;5;132;01m{\u001b[39;00mname\u001b[38;5;132;01m}\u001b[39;00m\u001b[38;5;124m is not defined\u001b[39m\u001b[38;5;124m\"\u001b[39m)\n\u001b[1;32m     25\u001b[0m \u001b[38;5;28;01mreturn\u001b[39;00m lowering\u001b[38;5;241m.\u001b[39mResult(value)\n",
      "\u001b[0;31mDialectLoweringError\u001b[0m: list is not defined",
      "\nDuring handling of the above exception, another exception occurred:\n",
      "\u001b[0;31mDialectLoweringError\u001b[0m                      Traceback (most recent call last)",
      "Cell \u001b[0;32mIn[6], line 5\u001b[0m\n\u001b[1;32m      2\u001b[0m \u001b[38;5;28;01mfrom\u001b[39;00m\u001b[38;5;250m \u001b[39m\u001b[38;5;21;01mBenchmarker\u001b[39;00m\u001b[38;5;250m \u001b[39m\u001b[38;5;28;01mimport\u001b[39;00m Benchmark\n\u001b[1;32m      4\u001b[0m linear_tester \u001b[38;5;241m=\u001b[39m Benchmark(ghz_linear())\n\u001b[0;32m----> 5\u001b[0m global_tester \u001b[38;5;241m=\u001b[39m Benchmark(\u001b[43mghz_global\u001b[49m\u001b[43m(\u001b[49m\u001b[43m)\u001b[49m)\n\u001b[1;32m      6\u001b[0m parallel_tester \u001b[38;5;241m=\u001b[39m Benchmark(ghz_parallel())\n\u001b[1;32m      8\u001b[0m \u001b[38;5;28;01mdef\u001b[39;00m\u001b[38;5;250m \u001b[39m\u001b[38;5;21mmain\u001b[39m():\n",
      "Cell \u001b[0;32mIn[4], line 9\u001b[0m, in \u001b[0;36mghz_global\u001b[0;34m()\u001b[0m\n\u001b[1;32m      7\u001b[0m n \u001b[38;5;241m=\u001b[39m \u001b[38;5;241m3\u001b[39m\n\u001b[1;32m      8\u001b[0m num_qubits_program \u001b[38;5;241m=\u001b[39m \u001b[38;5;241m2\u001b[39m\u001b[38;5;241m*\u001b[39m\u001b[38;5;241m*\u001b[39mn\n\u001b[0;32m----> 9\u001b[0m \u001b[43m\u001b[49m\u001b[38;5;129;43m@qasm2\u001b[39;49m\u001b[38;5;241;43m.\u001b[39;49m\u001b[43mextended\u001b[49m\n\u001b[1;32m     10\u001b[0m \u001b[43m\u001b[49m\u001b[38;5;28;43;01mdef\u001b[39;49;00m\u001b[38;5;250;43m \u001b[39;49m\u001b[38;5;21;43mghz_global_inner\u001b[39;49m\u001b[43m(\u001b[49m\u001b[43m)\u001b[49m\u001b[43m:\u001b[49m\n\u001b[1;32m     12\u001b[0m \u001b[43m    \u001b[49m\u001b[43mqreg\u001b[49m\u001b[43m \u001b[49m\u001b[38;5;241;43m=\u001b[39;49m\u001b[43m \u001b[49m\u001b[43mqasm2\u001b[49m\u001b[38;5;241;43m.\u001b[39;49m\u001b[43mqreg\u001b[49m\u001b[43m(\u001b[49m\u001b[43mnum_qubits_program\u001b[49m\u001b[43m)\u001b[49m\n\u001b[1;32m     14\u001b[0m \u001b[43m    \u001b[49m\u001b[38;5;66;43;03m# Apply parallel U gate\u001b[39;49;00m\n",
      "File \u001b[0;32m~/miniconda3/lib/python3.12/site-packages/kirin/ir/group.py:221\u001b[0m, in \u001b[0;36mDialectGroup.__call__\u001b[0;34m(self, py_func, *args, **options)\u001b[0m\n\u001b[1;32m    218\u001b[0m     \u001b[38;5;28;01mreturn\u001b[39;00m mt\n\u001b[1;32m    220\u001b[0m \u001b[38;5;28;01mif\u001b[39;00m py_func \u001b[38;5;129;01mis\u001b[39;00m \u001b[38;5;129;01mnot\u001b[39;00m \u001b[38;5;28;01mNone\u001b[39;00m:\n\u001b[0;32m--> 221\u001b[0m     \u001b[38;5;28;01mreturn\u001b[39;00m \u001b[43mwrapper\u001b[49m\u001b[43m(\u001b[49m\u001b[43mpy_func\u001b[49m\u001b[43m)\u001b[49m\n\u001b[1;32m    222\u001b[0m \u001b[38;5;28;01mreturn\u001b[39;00m wrapper\n",
      "File \u001b[0;32m~/miniconda3/lib/python3.12/site-packages/kirin/ir/group.py:203\u001b[0m, in \u001b[0;36mDialectGroup.__call__.<locals>.wrapper\u001b[0;34m(py_func)\u001b[0m\n\u001b[1;32m    200\u001b[0m     lineno_offset \u001b[38;5;241m=\u001b[39m call_site_frame\u001b[38;5;241m.\u001b[39mf_lineno \u001b[38;5;241m-\u001b[39m \u001b[38;5;241m1\u001b[39m\n\u001b[1;32m    201\u001b[0m     file \u001b[38;5;241m=\u001b[39m call_site_frame\u001b[38;5;241m.\u001b[39mf_code\u001b[38;5;241m.\u001b[39mco_filename\n\u001b[0;32m--> 203\u001b[0m code \u001b[38;5;241m=\u001b[39m \u001b[43memit_ir\u001b[49m\u001b[38;5;241;43m.\u001b[39;49m\u001b[43mrun\u001b[49m\u001b[43m(\u001b[49m\u001b[43mpy_func\u001b[49m\u001b[43m,\u001b[49m\u001b[43m \u001b[49m\u001b[43mlineno_offset\u001b[49m\u001b[38;5;241;43m=\u001b[39;49m\u001b[43mlineno_offset\u001b[49m\u001b[43m)\u001b[49m\n\u001b[1;32m    204\u001b[0m mt \u001b[38;5;241m=\u001b[39m Method(\n\u001b[1;32m    205\u001b[0m     mod\u001b[38;5;241m=\u001b[39minspect\u001b[38;5;241m.\u001b[39mgetmodule(py_func),\n\u001b[1;32m    206\u001b[0m     py_func\u001b[38;5;241m=\u001b[39mpy_func,\n\u001b[0;32m   (...)\u001b[0m\n\u001b[1;32m    211\u001b[0m     file\u001b[38;5;241m=\u001b[39mfile,\n\u001b[1;32m    212\u001b[0m )\n\u001b[1;32m    213\u001b[0m \u001b[38;5;28;01mif\u001b[39;00m doc \u001b[38;5;241m:=\u001b[39m inspect\u001b[38;5;241m.\u001b[39mgetdoc(py_func):\n",
      "File \u001b[0;32m~/miniconda3/lib/python3.12/site-packages/kirin/lowering/core.py:66\u001b[0m, in \u001b[0;36mLowering.run\u001b[0;34m(self, stmt, source, globals, lineno_offset, col_offset, compactify)\u001b[0m\n\u001b[1;32m     64\u001b[0m \u001b[38;5;28;01mexcept\u001b[39;00m DialectLoweringError \u001b[38;5;28;01mas\u001b[39;00m e:\n\u001b[1;32m     65\u001b[0m     e\u001b[38;5;241m.\u001b[39margs \u001b[38;5;241m=\u001b[39m (\u001b[38;5;124mf\u001b[39m\u001b[38;5;124m\"\u001b[39m\u001b[38;5;132;01m{\u001b[39;00me\u001b[38;5;241m.\u001b[39margs[\u001b[38;5;241m0\u001b[39m]\u001b[38;5;132;01m}\u001b[39;00m\u001b[38;5;130;01m\\n\u001b[39;00m\u001b[38;5;130;01m\\n\u001b[39;00m\u001b[38;5;132;01m{\u001b[39;00mstate\u001b[38;5;241m.\u001b[39merror_hint()\u001b[38;5;132;01m}\u001b[39;00m\u001b[38;5;124m\"\u001b[39m,) \u001b[38;5;241m+\u001b[39m e\u001b[38;5;241m.\u001b[39margs[\u001b[38;5;241m1\u001b[39m:]\n\u001b[0;32m---> 66\u001b[0m     \u001b[38;5;28;01mraise\u001b[39;00m e\n\u001b[1;32m     68\u001b[0m \u001b[38;5;28;01mif\u001b[39;00m compactify:\n\u001b[1;32m     69\u001b[0m     \u001b[38;5;28;01mfrom\u001b[39;00m\u001b[38;5;250m \u001b[39m\u001b[38;5;21;01mkirin\u001b[39;00m\u001b[38;5;21;01m.\u001b[39;00m\u001b[38;5;21;01mrewrite\u001b[39;00m\u001b[38;5;250m \u001b[39m\u001b[38;5;28;01mimport\u001b[39;00m Walk, CFGCompactify\n",
      "File \u001b[0;32m~/miniconda3/lib/python3.12/site-packages/kirin/lowering/core.py:63\u001b[0m, in \u001b[0;36mLowering.run\u001b[0;34m(self, stmt, source, globals, lineno_offset, col_offset, compactify)\u001b[0m\n\u001b[1;32m     59\u001b[0m state \u001b[38;5;241m=\u001b[39m LoweringState\u001b[38;5;241m.\u001b[39mfrom_stmt(\n\u001b[1;32m     60\u001b[0m     \u001b[38;5;28mself\u001b[39m, stmt, source, \u001b[38;5;28mglobals\u001b[39m, \u001b[38;5;28mself\u001b[39m\u001b[38;5;241m.\u001b[39mmax_lines, lineno_offset, col_offset\n\u001b[1;32m     61\u001b[0m )\n\u001b[1;32m     62\u001b[0m \u001b[38;5;28;01mtry\u001b[39;00m:\n\u001b[0;32m---> 63\u001b[0m     \u001b[43mstate\u001b[49m\u001b[38;5;241;43m.\u001b[39;49m\u001b[43mvisit\u001b[49m\u001b[43m(\u001b[49m\u001b[43mstmt\u001b[49m\u001b[43m)\u001b[49m\n\u001b[1;32m     64\u001b[0m \u001b[38;5;28;01mexcept\u001b[39;00m DialectLoweringError \u001b[38;5;28;01mas\u001b[39;00m e:\n\u001b[1;32m     65\u001b[0m     e\u001b[38;5;241m.\u001b[39margs \u001b[38;5;241m=\u001b[39m (\u001b[38;5;124mf\u001b[39m\u001b[38;5;124m\"\u001b[39m\u001b[38;5;132;01m{\u001b[39;00me\u001b[38;5;241m.\u001b[39margs[\u001b[38;5;241m0\u001b[39m]\u001b[38;5;132;01m}\u001b[39;00m\u001b[38;5;130;01m\\n\u001b[39;00m\u001b[38;5;130;01m\\n\u001b[39;00m\u001b[38;5;132;01m{\u001b[39;00mstate\u001b[38;5;241m.\u001b[39merror_hint()\u001b[38;5;132;01m}\u001b[39;00m\u001b[38;5;124m\"\u001b[39m,) \u001b[38;5;241m+\u001b[39m e\u001b[38;5;241m.\u001b[39margs[\u001b[38;5;241m1\u001b[39m:]\n",
      "File \u001b[0;32m~/miniconda3/lib/python3.12/site-packages/kirin/lowering/state.py:121\u001b[0m, in \u001b[0;36mLoweringState.visit\u001b[0;34m(self, node)\u001b[0m\n\u001b[1;32m    119\u001b[0m name \u001b[38;5;241m=\u001b[39m node\u001b[38;5;241m.\u001b[39m\u001b[38;5;18m__class__\u001b[39m\u001b[38;5;241m.\u001b[39m\u001b[38;5;18m__name__\u001b[39m\n\u001b[1;32m    120\u001b[0m \u001b[38;5;28;01mif\u001b[39;00m name \u001b[38;5;129;01min\u001b[39;00m \u001b[38;5;28mself\u001b[39m\u001b[38;5;241m.\u001b[39mregistry:\n\u001b[0;32m--> 121\u001b[0m     \u001b[38;5;28;01mreturn\u001b[39;00m \u001b[38;5;28;43mself\u001b[39;49m\u001b[38;5;241;43m.\u001b[39;49m\u001b[43mregistry\u001b[49m\u001b[43m[\u001b[49m\u001b[43mname\u001b[49m\u001b[43m]\u001b[49m\u001b[38;5;241;43m.\u001b[39;49m\u001b[43mlower\u001b[49m\u001b[43m(\u001b[49m\u001b[38;5;28;43mself\u001b[39;49m\u001b[43m,\u001b[49m\u001b[43m \u001b[49m\u001b[43mnode\u001b[49m\u001b[43m)\u001b[49m\n\u001b[1;32m    122\u001b[0m \u001b[38;5;28;01melif\u001b[39;00m \u001b[38;5;28misinstance\u001b[39m(node, ast\u001b[38;5;241m.\u001b[39mCall):\n\u001b[1;32m    123\u001b[0m     \u001b[38;5;66;03m# NOTE: if lower_Call is implemented,\u001b[39;00m\n\u001b[1;32m    124\u001b[0m     \u001b[38;5;66;03m# it will be called first before __dispatch_Call\u001b[39;00m\n\u001b[1;32m    125\u001b[0m     \u001b[38;5;66;03m# because \"Call\" exists in self.registry\u001b[39;00m\n\u001b[1;32m    126\u001b[0m     \u001b[38;5;28;01mreturn\u001b[39;00m \u001b[38;5;28mself\u001b[39m\u001b[38;5;241m.\u001b[39m__dispatch_Call(node)\n",
      "File \u001b[0;32m~/miniconda3/lib/python3.12/site-packages/kirin/lowering/dialect.py:26\u001b[0m, in \u001b[0;36mFromPythonAST.lower\u001b[0;34m(self, state, node)\u001b[0m\n\u001b[1;32m     24\u001b[0m \u001b[38;5;28;01mdef\u001b[39;00m\u001b[38;5;250m \u001b[39m\u001b[38;5;21mlower\u001b[39m(\u001b[38;5;28mself\u001b[39m, state: LoweringState, node: ast\u001b[38;5;241m.\u001b[39mAST) \u001b[38;5;241m-\u001b[39m\u001b[38;5;241m>\u001b[39m Result:\n\u001b[1;32m     25\u001b[0m \u001b[38;5;250m    \u001b[39m\u001b[38;5;124;03m\"\"\"Entry point of dialect specific lowering.\"\"\"\u001b[39;00m\n\u001b[0;32m---> 26\u001b[0m     \u001b[38;5;28;01mreturn\u001b[39;00m \u001b[38;5;28;43mgetattr\u001b[39;49m\u001b[43m(\u001b[49m\u001b[38;5;28;43mself\u001b[39;49m\u001b[43m,\u001b[49m\u001b[43m \u001b[49m\u001b[38;5;124;43mf\u001b[39;49m\u001b[38;5;124;43m\"\u001b[39;49m\u001b[38;5;124;43mlower_\u001b[39;49m\u001b[38;5;132;43;01m{\u001b[39;49;00m\u001b[43mnode\u001b[49m\u001b[38;5;241;43m.\u001b[39;49m\u001b[38;5;18;43m__class__\u001b[39;49m\u001b[38;5;241;43m.\u001b[39;49m\u001b[38;5;18;43m__name__\u001b[39;49m\u001b[38;5;132;43;01m}\u001b[39;49;00m\u001b[38;5;124;43m\"\u001b[39;49m\u001b[43m,\u001b[49m\u001b[43m \u001b[49m\u001b[38;5;28;43mself\u001b[39;49m\u001b[38;5;241;43m.\u001b[39;49m\u001b[43munreachable\u001b[49m\u001b[43m)\u001b[49m\u001b[43m(\u001b[49m\n\u001b[1;32m     27\u001b[0m \u001b[43m        \u001b[49m\u001b[43mstate\u001b[49m\u001b[43m,\u001b[49m\u001b[43m \u001b[49m\u001b[43mnode\u001b[49m\n\u001b[1;32m     28\u001b[0m \u001b[43m    \u001b[49m\u001b[43m)\u001b[49m\n",
      "File \u001b[0;32m~/miniconda3/lib/python3.12/site-packages/kirin/dialects/lowering/func.py:72\u001b[0m, in \u001b[0;36mLowering.lower_FunctionDef\u001b[0;34m(self, state, node)\u001b[0m\n\u001b[1;32m     62\u001b[0m func_frame \u001b[38;5;241m=\u001b[39m state\u001b[38;5;241m.\u001b[39mpush_frame(\n\u001b[1;32m     63\u001b[0m     lowering\u001b[38;5;241m.\u001b[39mFrame\u001b[38;5;241m.\u001b[39mfrom_stmts(\n\u001b[1;32m     64\u001b[0m         node\u001b[38;5;241m.\u001b[39mbody,\n\u001b[0;32m   (...)\u001b[0m\n\u001b[1;32m     69\u001b[0m     )\n\u001b[1;32m     70\u001b[0m )\n\u001b[1;32m     71\u001b[0m func_frame\u001b[38;5;241m.\u001b[39mdefs\u001b[38;5;241m.\u001b[39mupdate(entries)\n\u001b[0;32m---> 72\u001b[0m \u001b[43mstate\u001b[49m\u001b[38;5;241;43m.\u001b[39;49m\u001b[43mexhaust\u001b[49m\u001b[43m(\u001b[49m\u001b[43m)\u001b[49m\n\u001b[1;32m     74\u001b[0m \u001b[38;5;28;01mfor\u001b[39;00m block \u001b[38;5;129;01min\u001b[39;00m func_frame\u001b[38;5;241m.\u001b[39mcurr_region\u001b[38;5;241m.\u001b[39mblocks:\n\u001b[1;32m     75\u001b[0m     \u001b[38;5;28;01mif\u001b[39;00m \u001b[38;5;129;01mnot\u001b[39;00m block\u001b[38;5;241m.\u001b[39mlast_stmt \u001b[38;5;129;01mor\u001b[39;00m \u001b[38;5;129;01mnot\u001b[39;00m block\u001b[38;5;241m.\u001b[39mlast_stmt\u001b[38;5;241m.\u001b[39mhas_trait(ir\u001b[38;5;241m.\u001b[39mIsTerminator):\n",
      "File \u001b[0;32m~/miniconda3/lib/python3.12/site-packages/kirin/lowering/state.py:341\u001b[0m, in \u001b[0;36mLoweringState.exhaust\u001b[0;34m(self, frame)\u001b[0m\n\u001b[1;32m    339\u001b[0m \u001b[38;5;28;01mwhile\u001b[39;00m stream\u001b[38;5;241m.\u001b[39mhas_next():\n\u001b[1;32m    340\u001b[0m     stmt \u001b[38;5;241m=\u001b[39m stream\u001b[38;5;241m.\u001b[39mpop()\n\u001b[0;32m--> 341\u001b[0m     \u001b[38;5;28;43mself\u001b[39;49m\u001b[38;5;241;43m.\u001b[39;49m\u001b[43mvisit\u001b[49m\u001b[43m(\u001b[49m\u001b[43mstmt\u001b[49m\u001b[43m)\u001b[49m\n\u001b[1;32m    342\u001b[0m \u001b[38;5;28;01mreturn\u001b[39;00m current_frame\n",
      "File \u001b[0;32m~/miniconda3/lib/python3.12/site-packages/kirin/lowering/state.py:121\u001b[0m, in \u001b[0;36mLoweringState.visit\u001b[0;34m(self, node)\u001b[0m\n\u001b[1;32m    119\u001b[0m name \u001b[38;5;241m=\u001b[39m node\u001b[38;5;241m.\u001b[39m\u001b[38;5;18m__class__\u001b[39m\u001b[38;5;241m.\u001b[39m\u001b[38;5;18m__name__\u001b[39m\n\u001b[1;32m    120\u001b[0m \u001b[38;5;28;01mif\u001b[39;00m name \u001b[38;5;129;01min\u001b[39;00m \u001b[38;5;28mself\u001b[39m\u001b[38;5;241m.\u001b[39mregistry:\n\u001b[0;32m--> 121\u001b[0m     \u001b[38;5;28;01mreturn\u001b[39;00m \u001b[38;5;28;43mself\u001b[39;49m\u001b[38;5;241;43m.\u001b[39;49m\u001b[43mregistry\u001b[49m\u001b[43m[\u001b[49m\u001b[43mname\u001b[49m\u001b[43m]\u001b[49m\u001b[38;5;241;43m.\u001b[39;49m\u001b[43mlower\u001b[49m\u001b[43m(\u001b[49m\u001b[38;5;28;43mself\u001b[39;49m\u001b[43m,\u001b[49m\u001b[43m \u001b[49m\u001b[43mnode\u001b[49m\u001b[43m)\u001b[49m\n\u001b[1;32m    122\u001b[0m \u001b[38;5;28;01melif\u001b[39;00m \u001b[38;5;28misinstance\u001b[39m(node, ast\u001b[38;5;241m.\u001b[39mCall):\n\u001b[1;32m    123\u001b[0m     \u001b[38;5;66;03m# NOTE: if lower_Call is implemented,\u001b[39;00m\n\u001b[1;32m    124\u001b[0m     \u001b[38;5;66;03m# it will be called first before __dispatch_Call\u001b[39;00m\n\u001b[1;32m    125\u001b[0m     \u001b[38;5;66;03m# because \"Call\" exists in self.registry\u001b[39;00m\n\u001b[1;32m    126\u001b[0m     \u001b[38;5;28;01mreturn\u001b[39;00m \u001b[38;5;28mself\u001b[39m\u001b[38;5;241m.\u001b[39m__dispatch_Call(node)\n",
      "File \u001b[0;32m~/miniconda3/lib/python3.12/site-packages/kirin/lowering/dialect.py:26\u001b[0m, in \u001b[0;36mFromPythonAST.lower\u001b[0;34m(self, state, node)\u001b[0m\n\u001b[1;32m     24\u001b[0m \u001b[38;5;28;01mdef\u001b[39;00m\u001b[38;5;250m \u001b[39m\u001b[38;5;21mlower\u001b[39m(\u001b[38;5;28mself\u001b[39m, state: LoweringState, node: ast\u001b[38;5;241m.\u001b[39mAST) \u001b[38;5;241m-\u001b[39m\u001b[38;5;241m>\u001b[39m Result:\n\u001b[1;32m     25\u001b[0m \u001b[38;5;250m    \u001b[39m\u001b[38;5;124;03m\"\"\"Entry point of dialect specific lowering.\"\"\"\u001b[39;00m\n\u001b[0;32m---> 26\u001b[0m     \u001b[38;5;28;01mreturn\u001b[39;00m \u001b[38;5;28;43mgetattr\u001b[39;49m\u001b[43m(\u001b[49m\u001b[38;5;28;43mself\u001b[39;49m\u001b[43m,\u001b[49m\u001b[43m \u001b[49m\u001b[38;5;124;43mf\u001b[39;49m\u001b[38;5;124;43m\"\u001b[39;49m\u001b[38;5;124;43mlower_\u001b[39;49m\u001b[38;5;132;43;01m{\u001b[39;49;00m\u001b[43mnode\u001b[49m\u001b[38;5;241;43m.\u001b[39;49m\u001b[38;5;18;43m__class__\u001b[39;49m\u001b[38;5;241;43m.\u001b[39;49m\u001b[38;5;18;43m__name__\u001b[39;49m\u001b[38;5;132;43;01m}\u001b[39;49;00m\u001b[38;5;124;43m\"\u001b[39;49m\u001b[43m,\u001b[49m\u001b[43m \u001b[49m\u001b[38;5;28;43mself\u001b[39;49m\u001b[38;5;241;43m.\u001b[39;49m\u001b[43munreachable\u001b[49m\u001b[43m)\u001b[49m\u001b[43m(\u001b[49m\n\u001b[1;32m     27\u001b[0m \u001b[43m        \u001b[49m\u001b[43mstate\u001b[49m\u001b[43m,\u001b[49m\u001b[43m \u001b[49m\u001b[43mnode\u001b[49m\n\u001b[1;32m     28\u001b[0m \u001b[43m    \u001b[49m\u001b[43m)\u001b[49m\n",
      "File \u001b[0;32m~/miniconda3/lib/python3.12/site-packages/kirin/dialects/py/base.py:34\u001b[0m, in \u001b[0;36mPythonLowering.lower_Expr\u001b[0;34m(self, state, node)\u001b[0m\n\u001b[1;32m     31\u001b[0m \u001b[38;5;28;01mdef\u001b[39;00m\u001b[38;5;250m \u001b[39m\u001b[38;5;21mlower_Expr\u001b[39m(\n\u001b[1;32m     32\u001b[0m     \u001b[38;5;28mself\u001b[39m, state: lowering\u001b[38;5;241m.\u001b[39mLoweringState, node: ast\u001b[38;5;241m.\u001b[39mExpr\n\u001b[1;32m     33\u001b[0m ) \u001b[38;5;241m-\u001b[39m\u001b[38;5;241m>\u001b[39m lowering\u001b[38;5;241m.\u001b[39mResult:\n\u001b[0;32m---> 34\u001b[0m     \u001b[38;5;28;01mreturn\u001b[39;00m \u001b[43mstate\u001b[49m\u001b[38;5;241;43m.\u001b[39;49m\u001b[43mvisit\u001b[49m\u001b[43m(\u001b[49m\u001b[43mnode\u001b[49m\u001b[38;5;241;43m.\u001b[39;49m\u001b[43mvalue\u001b[49m\u001b[43m)\u001b[49m\n",
      "File \u001b[0;32m~/miniconda3/lib/python3.12/site-packages/kirin/lowering/state.py:126\u001b[0m, in \u001b[0;36mLoweringState.visit\u001b[0;34m(self, node)\u001b[0m\n\u001b[1;32m    121\u001b[0m     \u001b[38;5;28;01mreturn\u001b[39;00m \u001b[38;5;28mself\u001b[39m\u001b[38;5;241m.\u001b[39mregistry[name]\u001b[38;5;241m.\u001b[39mlower(\u001b[38;5;28mself\u001b[39m, node)\n\u001b[1;32m    122\u001b[0m \u001b[38;5;28;01melif\u001b[39;00m \u001b[38;5;28misinstance\u001b[39m(node, ast\u001b[38;5;241m.\u001b[39mCall):\n\u001b[1;32m    123\u001b[0m     \u001b[38;5;66;03m# NOTE: if lower_Call is implemented,\u001b[39;00m\n\u001b[1;32m    124\u001b[0m     \u001b[38;5;66;03m# it will be called first before __dispatch_Call\u001b[39;00m\n\u001b[1;32m    125\u001b[0m     \u001b[38;5;66;03m# because \"Call\" exists in self.registry\u001b[39;00m\n\u001b[0;32m--> 126\u001b[0m     \u001b[38;5;28;01mreturn\u001b[39;00m \u001b[38;5;28;43mself\u001b[39;49m\u001b[38;5;241;43m.\u001b[39;49m\u001b[43m__dispatch_Call\u001b[49m\u001b[43m(\u001b[49m\u001b[43mnode\u001b[49m\u001b[43m)\u001b[49m\n\u001b[1;32m    127\u001b[0m \u001b[38;5;28;01melif\u001b[39;00m \u001b[38;5;28misinstance\u001b[39m(node, ast\u001b[38;5;241m.\u001b[39mWith):\n\u001b[1;32m    128\u001b[0m     \u001b[38;5;28;01mreturn\u001b[39;00m \u001b[38;5;28mself\u001b[39m\u001b[38;5;241m.\u001b[39m__dispatch_With(node)\n",
      "File \u001b[0;32m~/miniconda3/lib/python3.12/site-packages/kirin/lowering/state.py:191\u001b[0m, in \u001b[0;36mLoweringState.__dispatch_Call\u001b[0;34m(self, node)\u001b[0m\n\u001b[1;32m    184\u001b[0m         \u001b[38;5;28;01mraise\u001b[39;00m DialectLoweringError(\n\u001b[1;32m    185\u001b[0m             \u001b[38;5;124mf\u001b[39m\u001b[38;5;124m\"\u001b[39m\u001b[38;5;124munsupported dialect `\u001b[39m\u001b[38;5;132;01m{\u001b[39;00mglobal_callee\u001b[38;5;241m.\u001b[39mdialect\u001b[38;5;241m.\u001b[39mname\u001b[38;5;132;01m}\u001b[39;00m\u001b[38;5;124m`\u001b[39m\u001b[38;5;124m\"\u001b[39m\n\u001b[1;32m    186\u001b[0m         )\n\u001b[1;32m    188\u001b[0m     \u001b[38;5;28;01mif\u001b[39;00m (\n\u001b[1;32m    189\u001b[0m         trait \u001b[38;5;241m:=\u001b[39m global_callee\u001b[38;5;241m.\u001b[39mget_trait(traits\u001b[38;5;241m.\u001b[39mFromPythonCall)\n\u001b[1;32m    190\u001b[0m     ) \u001b[38;5;129;01mis\u001b[39;00m \u001b[38;5;129;01mnot\u001b[39;00m \u001b[38;5;28;01mNone\u001b[39;00m:\n\u001b[0;32m--> 191\u001b[0m         \u001b[38;5;28;01mreturn\u001b[39;00m \u001b[43mtrait\u001b[49m\u001b[38;5;241;43m.\u001b[39;49m\u001b[43mlower\u001b[49m\u001b[43m(\u001b[49m\u001b[43mglobal_callee\u001b[49m\u001b[43m,\u001b[49m\u001b[43m \u001b[49m\u001b[38;5;28;43mself\u001b[39;49m\u001b[43m,\u001b[49m\u001b[43m \u001b[49m\u001b[43mnode\u001b[49m\u001b[43m)\u001b[49m\n\u001b[1;32m    193\u001b[0m     \u001b[38;5;28;01mraise\u001b[39;00m DialectLoweringError(\n\u001b[1;32m    194\u001b[0m         \u001b[38;5;124mf\u001b[39m\u001b[38;5;124m\"\u001b[39m\u001b[38;5;124munsupported callee \u001b[39m\u001b[38;5;132;01m{\u001b[39;00mglobal_callee\u001b[38;5;241m.\u001b[39m\u001b[38;5;18m__name__\u001b[39m\u001b[38;5;132;01m}\u001b[39;00m\u001b[38;5;124m, \u001b[39m\u001b[38;5;124m\"\u001b[39m\n\u001b[1;32m    195\u001b[0m         \u001b[38;5;124m\"\u001b[39m\u001b[38;5;124mmissing FromPythonAST lowering, or traits.FromPythonCall trait\u001b[39m\u001b[38;5;124m\"\u001b[39m\n\u001b[1;32m    196\u001b[0m     )\n\u001b[1;32m    197\u001b[0m \u001b[38;5;28;01melif\u001b[39;00m \u001b[38;5;28missubclass\u001b[39m(global_callee, \u001b[38;5;28mslice\u001b[39m):\n",
      "File \u001b[0;32m~/miniconda3/lib/python3.12/site-packages/kirin/ir/traits/lowering/call.py:33\u001b[0m, in \u001b[0;36mFromPythonCall.lower\u001b[0;34m(self, stmt, state, node)\u001b[0m\n\u001b[1;32m     30\u001b[0m \u001b[38;5;28;01mdef\u001b[39;00m\u001b[38;5;250m \u001b[39m\u001b[38;5;21mlower\u001b[39m(\n\u001b[1;32m     31\u001b[0m     \u001b[38;5;28mself\u001b[39m, stmt: \u001b[38;5;28mtype\u001b[39m[StatementType], state: \u001b[38;5;124m\"\u001b[39m\u001b[38;5;124mLoweringState\u001b[39m\u001b[38;5;124m\"\u001b[39m, node: ast\u001b[38;5;241m.\u001b[39mCall\n\u001b[1;32m     32\u001b[0m ) \u001b[38;5;241m-\u001b[39m\u001b[38;5;241m>\u001b[39m \u001b[38;5;124m\"\u001b[39m\u001b[38;5;124mResult\u001b[39m\u001b[38;5;124m\"\u001b[39m:\n\u001b[0;32m---> 33\u001b[0m     \u001b[38;5;28;01mreturn\u001b[39;00m \u001b[43mstate\u001b[49m\u001b[38;5;241;43m.\u001b[39;49m\u001b[43mdefault_Call_lower\u001b[49m\u001b[43m(\u001b[49m\u001b[43mstmt\u001b[49m\u001b[43m,\u001b[49m\u001b[43m \u001b[49m\u001b[43mnode\u001b[49m\u001b[43m)\u001b[49m\n",
      "File \u001b[0;32m~/miniconda3/lib/python3.12/site-packages/kirin/lowering/state.py:254\u001b[0m, in \u001b[0;36mLoweringState.default_Call_lower\u001b[0;34m(self, stmt, node)\u001b[0m\n\u001b[1;32m    241\u001b[0m \u001b[38;5;28;01mdef\u001b[39;00m\u001b[38;5;250m \u001b[39m\u001b[38;5;21mdefault_Call_lower\u001b[39m(\u001b[38;5;28mself\u001b[39m, stmt: \u001b[38;5;28mtype\u001b[39m[Statement], node: ast\u001b[38;5;241m.\u001b[39mCall) \u001b[38;5;241m-\u001b[39m\u001b[38;5;241m>\u001b[39m Result:\n\u001b[1;32m    242\u001b[0m \u001b[38;5;250m    \u001b[39m\u001b[38;5;124;03m\"\"\"Default lowering for Python call to statement.\u001b[39;00m\n\u001b[1;32m    243\u001b[0m \n\u001b[1;32m    244\u001b[0m \u001b[38;5;124;03m    This method is intended to be used by traits like `FromPythonCall` to\u001b[39;00m\n\u001b[0;32m   (...)\u001b[0m\n\u001b[1;32m    252\u001b[0m \u001b[38;5;124;03m        Result: Result of lowering the Python call to statement.\u001b[39;00m\n\u001b[1;32m    253\u001b[0m \u001b[38;5;124;03m    \"\"\"\u001b[39;00m\n\u001b[0;32m--> 254\u001b[0m     args, kwargs \u001b[38;5;241m=\u001b[39m \u001b[38;5;28;43mself\u001b[39;49m\u001b[38;5;241;43m.\u001b[39;49m\u001b[43mdefault_Call_inputs\u001b[49m\u001b[43m(\u001b[49m\u001b[43mstmt\u001b[49m\u001b[43m,\u001b[49m\u001b[43m \u001b[49m\u001b[43mnode\u001b[49m\u001b[43m)\u001b[49m\n\u001b[1;32m    255\u001b[0m     \u001b[38;5;28;01mreturn\u001b[39;00m Result(\u001b[38;5;28mself\u001b[39m\u001b[38;5;241m.\u001b[39mappend_stmt(stmt(\u001b[38;5;241m*\u001b[39margs\u001b[38;5;241m.\u001b[39mvalues(), \u001b[38;5;241m*\u001b[39m\u001b[38;5;241m*\u001b[39mkwargs)))\n",
      "File \u001b[0;32m~/miniconda3/lib/python3.12/site-packages/kirin/lowering/state.py:270\u001b[0m, in \u001b[0;36mLoweringState.default_Call_inputs\u001b[0;34m(self, stmt, node)\u001b[0m\n\u001b[1;32m    268\u001b[0m args, kwargs \u001b[38;5;241m=\u001b[39m {}, {}\n\u001b[1;32m    269\u001b[0m \u001b[38;5;28;01mfor\u001b[39;00m name, value \u001b[38;5;129;01min\u001b[39;00m \u001b[38;5;28mzip\u001b[39m(stmt_std_arg_names, node\u001b[38;5;241m.\u001b[39margs):\n\u001b[0;32m--> 270\u001b[0m     \u001b[38;5;28;43mself\u001b[39;49m\u001b[38;5;241;43m.\u001b[39;49m\u001b[43m_parse_arg\u001b[49m\u001b[43m(\u001b[49m\u001b[43mstmt_group_arg_names\u001b[49m\u001b[43m,\u001b[49m\u001b[43m \u001b[49m\u001b[43margs\u001b[49m\u001b[43m,\u001b[49m\u001b[43m \u001b[49m\u001b[43mname\u001b[49m\u001b[43m,\u001b[49m\u001b[43m \u001b[49m\u001b[43mvalue\u001b[49m\u001b[43m)\u001b[49m\n\u001b[1;32m    271\u001b[0m \u001b[38;5;28;01mfor\u001b[39;00m kw \u001b[38;5;129;01min\u001b[39;00m node\u001b[38;5;241m.\u001b[39mkeywords:\n\u001b[1;32m    272\u001b[0m     \u001b[38;5;28;01mif\u001b[39;00m \u001b[38;5;129;01mnot\u001b[39;00m \u001b[38;5;28misinstance\u001b[39m(kw\u001b[38;5;241m.\u001b[39marg, \u001b[38;5;28mstr\u001b[39m):\n",
      "File \u001b[0;32m~/miniconda3/lib/python3.12/site-packages/kirin/lowering/state.py:327\u001b[0m, in \u001b[0;36mLoweringState._parse_arg\u001b[0;34m(self, group_names, target, name, value)\u001b[0m\n\u001b[1;32m    325\u001b[0m     target[name] \u001b[38;5;241m=\u001b[39m \u001b[38;5;28mtuple\u001b[39m(\u001b[38;5;28mself\u001b[39m\u001b[38;5;241m.\u001b[39mvisit(elem)\u001b[38;5;241m.\u001b[39mexpect_one() \u001b[38;5;28;01mfor\u001b[39;00m elem \u001b[38;5;129;01min\u001b[39;00m value\u001b[38;5;241m.\u001b[39melts)\n\u001b[1;32m    326\u001b[0m \u001b[38;5;28;01melse\u001b[39;00m:\n\u001b[0;32m--> 327\u001b[0m     target[name] \u001b[38;5;241m=\u001b[39m \u001b[38;5;28;43mself\u001b[39;49m\u001b[38;5;241;43m.\u001b[39;49m\u001b[43mvisit\u001b[49m\u001b[43m(\u001b[49m\u001b[43mvalue\u001b[49m\u001b[43m)\u001b[49m\u001b[38;5;241m.\u001b[39mexpect_one()\n",
      "File \u001b[0;32m~/miniconda3/lib/python3.12/site-packages/kirin/lowering/state.py:126\u001b[0m, in \u001b[0;36mLoweringState.visit\u001b[0;34m(self, node)\u001b[0m\n\u001b[1;32m    121\u001b[0m     \u001b[38;5;28;01mreturn\u001b[39;00m \u001b[38;5;28mself\u001b[39m\u001b[38;5;241m.\u001b[39mregistry[name]\u001b[38;5;241m.\u001b[39mlower(\u001b[38;5;28mself\u001b[39m, node)\n\u001b[1;32m    122\u001b[0m \u001b[38;5;28;01melif\u001b[39;00m \u001b[38;5;28misinstance\u001b[39m(node, ast\u001b[38;5;241m.\u001b[39mCall):\n\u001b[1;32m    123\u001b[0m     \u001b[38;5;66;03m# NOTE: if lower_Call is implemented,\u001b[39;00m\n\u001b[1;32m    124\u001b[0m     \u001b[38;5;66;03m# it will be called first before __dispatch_Call\u001b[39;00m\n\u001b[1;32m    125\u001b[0m     \u001b[38;5;66;03m# because \"Call\" exists in self.registry\u001b[39;00m\n\u001b[0;32m--> 126\u001b[0m     \u001b[38;5;28;01mreturn\u001b[39;00m \u001b[38;5;28;43mself\u001b[39;49m\u001b[38;5;241;43m.\u001b[39;49m\u001b[43m__dispatch_Call\u001b[49m\u001b[43m(\u001b[49m\u001b[43mnode\u001b[49m\u001b[43m)\u001b[49m\n\u001b[1;32m    127\u001b[0m \u001b[38;5;28;01melif\u001b[39;00m \u001b[38;5;28misinstance\u001b[39m(node, ast\u001b[38;5;241m.\u001b[39mWith):\n\u001b[1;32m    128\u001b[0m     \u001b[38;5;28;01mreturn\u001b[39;00m \u001b[38;5;28mself\u001b[39m\u001b[38;5;241m.\u001b[39m__dispatch_With(node)\n",
      "File \u001b[0;32m~/miniconda3/lib/python3.12/site-packages/kirin/lowering/state.py:231\u001b[0m, in \u001b[0;36mLoweringState.__dispatch_Call\u001b[0;34m(self, node)\u001b[0m\n\u001b[1;32m    226\u001b[0m     \u001b[38;5;28;01mraise\u001b[39;00m DialectLoweringError(\n\u001b[1;32m    227\u001b[0m         \u001b[38;5;124mf\u001b[39m\u001b[38;5;124m\"\u001b[39m\u001b[38;5;124munsupported callee: \u001b[39m\u001b[38;5;132;01m{\u001b[39;00m\u001b[38;5;28mrepr\u001b[39m(global_callee)\u001b[38;5;132;01m}\u001b[39;00m\u001b[38;5;124m.\u001b[39m\u001b[38;5;124m\"\u001b[39m\n\u001b[1;32m    228\u001b[0m         \u001b[38;5;124m\"\u001b[39m\u001b[38;5;124mAre you trying to call a python function? This is not supported.\u001b[39m\u001b[38;5;124m\"\u001b[39m\n\u001b[1;32m    229\u001b[0m     )\n\u001b[1;32m    230\u001b[0m \u001b[38;5;28;01melse\u001b[39;00m:  \u001b[38;5;66;03m# well not much we can do, can't hint\u001b[39;00m\n\u001b[0;32m--> 231\u001b[0m     \u001b[38;5;28;01mraise\u001b[39;00m DialectLoweringError(\n\u001b[1;32m    232\u001b[0m         \u001b[38;5;124mf\u001b[39m\u001b[38;5;124m\"\u001b[39m\u001b[38;5;124munsupported callee type: \u001b[39m\u001b[38;5;132;01m{\u001b[39;00m\u001b[38;5;28mrepr\u001b[39m(global_callee)\u001b[38;5;132;01m}\u001b[39;00m\u001b[38;5;124m\"\u001b[39m\n\u001b[1;32m    233\u001b[0m     )\n",
      "\u001b[0;31mDialectLoweringError\u001b[0m: unsupported callee type: <class 'list'>\n\n# Apply CZ and H gates sequentially\n# Loop up to num_qubits_program\nfor i in range(1, num_qubits_program):\n--------^\n    qasm2.cz(qreg[i - 1], qreg[i])\n    qasm2.h(qreg[i])\n"
     ]
    }
   ],
   "source": [
    "# Testing code with the Circuit Benchmarker\n",
    "from Benchmarker import Benchmark\n",
    "\n",
    "linear_tester = Benchmark(ghz_linear())\n",
    "global_tester = Benchmark(ghz_global())\n",
    "parallel_tester = Benchmark(ghz_parallel())\n",
    "\n",
    "def main():\n",
    "    linear_tester.run_benchmark()\n",
    "    global_tester.run_benchmark()\n",
    "    parallel_tester.run_benchmark()\n",
    "\n",
    "b = PyQrack()\n",
    "b.run(main)"
=======
   "outputs": [],
   "source": [
    "# Testing code with the Circuit Benchmarker\n",
    "from Benchmarker import Benchmark\n"
>>>>>>> 28cb58ab65ab0065f3d3958a713b166a4e94ac1c
   ]
  }
 ],
 "metadata": {
  "kernelspec": {
   "display_name": "Python 3",
   "language": "python",
   "name": "python3"
  },
  "language_info": {
   "codemirror_mode": {
    "name": "ipython",
    "version": 3
   },
   "file_extension": ".py",
   "mimetype": "text/x-python",
   "name": "python",
   "nbconvert_exporter": "python",
   "pygments_lexer": "ipython3",
   "version": "3.11.11"
  }
 },
 "nbformat": 4,
 "nbformat_minor": 5
}
