{
 "cells": [
  {
   "metadata": {},
   "cell_type": "markdown",
   "source": "# Designing and Testing Hardware-Complementary Quantum Circuits",
   "id": "ad415b12a3178289"
  },
  {
   "metadata": {},
   "cell_type": "markdown",
   "source": "GHZ state preparation circuit is a very elementary circuit which still has potential for optimization on the Neutral Atom platform.",
   "id": "e8694a1f23a4a846"
  }
 ],
 "metadata": {
  "kernelspec": {
   "display_name": "Python 3",
   "language": "python",
   "name": "python3"
  },
  "language_info": {
   "codemirror_mode": {
    "name": "ipython",
    "version": 2
   },
   "file_extension": ".py",
   "mimetype": "text/x-python",
   "name": "python",
   "nbconvert_exporter": "python",
   "pygments_lexer": "ipython2",
   "version": "2.7.6"
  }
 },
 "nbformat": 4,
 "nbformat_minor": 5
}
