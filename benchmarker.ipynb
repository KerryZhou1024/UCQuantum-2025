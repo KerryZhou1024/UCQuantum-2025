{
 "cells": [
  {
   "metadata": {},
   "cell_type": "markdown",
   "source": [
    "# Benchmarker\n",
    "Run arbitrary circuit under different noise scenarios and error probabilities,\n",
    "<br> retrieve final state either from simulator or with tomography,\n",
    "<br> calculate check quantities with noiseless circuit (trace distance, fidelity),\n",
    "<br> use mpl to visualize error issues."
   ],
   "id": "deb8bb6888e058a2"
  },
  {
   "metadata": {
    "ExecuteTime": {
     "end_time": "2025-04-13T02:03:12.267715Z",
     "start_time": "2025-04-13T02:03:10.135036Z"
    }
   },
   "cell_type": "code",
   "source": [
    "import math\n",
    "\n",
    "from bloqade import qasm2\n",
    "from bloqade.pyqrack import PyQrack\n",
    "\n",
    "pi = math.pi\n",
    "\n",
    "\n",
    "@qasm2.extended\n",
    "def qft(qreg: qasm2.QReg, n: int, k: int):\n",
    "    if k == n:\n",
    "        return qreg\n",
    "\n",
    "    qasm2.h(qreg[k])\n",
    "    for i in range(k + 1, n):\n",
    "        qasm2.cu1(qreg[i], qreg[k], 2 * math.pi / 2**i)\n",
    "    qft(qreg, n, k + 1)  # recursion\n",
    "\n",
    "    return qreg\n",
    "\n"
   ],
   "id": "54c53be734ee2081",
   "outputs": [],
   "execution_count": 1
  },
  {
   "metadata": {},
   "cell_type": "code",
   "outputs": [],
   "execution_count": null,
   "source": [
    "\n",
    "@qasm2.extended\n",
    "def main():\n",
    "    return qft(qasm2.qreg(3), 3, 0)"
   ],
   "id": "4ac00145a626f5f7"
  },
  {
   "metadata": {
    "ExecuteTime": {
     "end_time": "2025-04-13T02:07:47.018873Z",
     "start_time": "2025-04-13T02:07:46.999299Z"
    }
   },
   "cell_type": "code",
   "source": [
    "device = PyQrack()\n",
    "final = device.run(main)\n"
   ],
   "id": "904050836a2737c4",
   "outputs": [
    {
     "name": "stdout",
     "output_type": "stream",
     "text": [
      "PyQrackReg(size=3, sim_reg=<pyqrack.qrack_simulator.QrackSimulator object at 0x107982000>, addrs=(0, 1, 2), qubit_state=[<QubitState.Active: 1>, <QubitState.Active: 1>, <QubitState.Active: 1>])\n"
     ]
    }
   ],
   "execution_count": 9
  },
  {
   "metadata": {
    "ExecuteTime": {
     "end_time": "2025-04-13T03:08:52.585441Z",
     "start_time": "2025-04-13T03:08:52.578595Z"
    }
   },
   "cell_type": "code",
   "source": "final[0].ref.sim_reg.out_ket()\n",
   "id": "320417adc7cb0bbd",
   "outputs": [
    {
     "data": {
      "text/plain": [
       "[(0.28058257699012756+0.2151125818490982j),\n",
       " (0.28058257699012756+0.2151125818490982j),\n",
       " (0.28058257699012756+0.2151125818490982j),\n",
       " (0.28058257699012756+0.2151125818490982j),\n",
       " (0.28058257699012756+0.2151125818490982j),\n",
       " (0.28058257699012756+0.2151125818490982j),\n",
       " (0.28058257699012756+0.2151125818490982j),\n",
       " (0.28058257699012756+0.2151125818490982j)]"
      ]
     },
     "execution_count": 37,
     "metadata": {},
     "output_type": "execute_result"
    }
   ],
   "execution_count": 37
  },
  {
   "metadata": {
    "ExecuteTime": {
     "end_time": "2025-04-13T01:58:32.312849Z",
     "start_time": "2025-04-13T01:38:39.839848Z"
    }
   },
   "cell_type": "code",
   "source": [
    "from bloqade import noise\n",
    "class Benchmarker:\n",
    "    def __init__(self, circuit):\n",
    "        self.circuit = circuit\n",
    "\n",
    "    def _run_circuit(self):\n",
    "        return self.circuit()\n",
    "\n"
   ],
   "id": "9721788307976769",
   "outputs": [
    {
     "name": "stdout",
     "output_type": "stream",
     "text": [
      "<module 'bloqade.noise' from '/Users/jake/miniconda3/lib/python3.12/site-packages/bloqade/noise/__init__.py'>\n"
     ]
    }
   ],
   "execution_count": 15
  }
 ],
 "metadata": {
  "kernelspec": {
   "display_name": "Python 3",
   "language": "python",
   "name": "python3"
  },
  "language_info": {
   "codemirror_mode": {
    "name": "ipython",
    "version": 2
   },
   "file_extension": ".py",
   "mimetype": "text/x-python",
   "name": "python",
   "nbconvert_exporter": "python",
   "pygments_lexer": "ipython2",
   "version": "2.7.6"
  }
 },
 "nbformat": 4,
 "nbformat_minor": 5
}
